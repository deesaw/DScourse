{
 "cells": [
  {
   "cell_type": "markdown",
   "metadata": {},
   "source": [
    "# Getting Data from the Web\n",
    "\n",
    "\n",
    "### Workshop Duration: ~ 1 Hour\n",
    "\n",
    "*80 Minutes*\n",
    "\n",
    "An introduction to programmatically accessing data from websites and APIs using Python. "
   ]
  },
  {
   "cell_type": "markdown",
   "metadata": {},
   "source": [
    "## How to use this Notebook <a id=\"1\"></a>\n",
    "\n",
    "#### 1. Examples: This is your opportunity to observe and learn. Most of the examples contains code and information that could be used to solve you exercise.\n",
    "#### 2. Exercises: This is your opportunity to get hands on and try solving the challenges.\n",
    " \n",
    " - *Running the cells in the example section may break since there are references to file paths not on your local system.*\n",
    " - *If you run a cell that references a library that has not bee install you will see an error. Work with the supporting instructors to get this set up if you are having trouble.*\n",
    " - *This workshop contains lots of infomration and time is limited. We encourage everyone to spend time working these examples and exercises in detail after completing this bootcamp.*\n",
    " "
   ]
  },
  {
   "cell_type": "markdown",
   "metadata": {},
   "source": [
    "#### AGENDA\n",
    "\n",
    "- Example 1: Getting Movie Data from IMDB (10 Minutes)\n",
    "- Exercise 1: Movie Release Date: defining a function (5 Minutes)\n",
    "- Example 2: Color Wheel (10 Minutes)\n",
    "- Example 3: Plotly - Brief Overview (5 Minutes)\n",
    "- Exercise 2: Getting Data Using API Calls (30 Minutes)\n",
    "- Example 4: Intro to Web Scraping (10 Minutes)\n",
    "- Example 5: Weather Analysis (5 Minutes - SKIP TO UFO's)\n",
    "- Exercise 4: UFO Sigtings (10-15 Minutes)"
   ]
  },
  {
   "cell_type": "markdown",
   "metadata": {},
   "source": [
    "## API (Application Programming Interface) <a id=\"1\"></a>\n",
    "\n",
    "What is an API?\n",
    "- Structured way to expose specific functionality and data to users\n",
    "- Web APIs usually follow the [REST](https://en.wikipedia.org/wiki/Representational_state_transfer) standard (i.e. stateless)\n",
    "\n",
    "How to interact with an API:\n",
    "- Make a \"request\" to a specific URL (an \"endpoint\"), and get the data back in a \"response\"\n",
    "- Most relevant request method for us is GET (other methods: POST, PUT, DELETE)\n",
    "- Response is often JSON or XML format\n",
    "- Web console is sometimes available (allows you to explore an API)\n",
    "\n",
    "## Supplementary Reading\n",
    "\n",
    "1. [Requests: Python Library Documentation](http://docs.python-requests.org/en/master/user/quickstart/)\n",
    "\n",
    "2. [OAuth2 Documentation](https://oauth.net/2/)\n",
    "\n",
    "3. [What is an API & How Does is Work](https://blogs.mulesoft.com/biz/tech-ramblings-biz/what-are-apis-how-do-apis-work/)\n",
    "\n",
    "4. [API Directory](https://www.programmableweb.com/apis/directory)"
   ]
  },
  {
   "cell_type": "markdown",
   "metadata": {},
   "source": [
    "## Example 1: Getting Movie Data from IMDB <a id=\"1B\"></a>\n",
    "*10 Minutes*"
   ]
  },
  {
   "cell_type": "code",
   "execution_count": 2,
   "metadata": {},
   "outputs": [],
   "source": [
    "import pandas as pd\n",
    "import requests"
   ]
  },
  {
   "cell_type": "code",
   "execution_count": 3,
   "metadata": {},
   "outputs": [
    {
     "name": "stdout",
     "output_type": "stream",
     "text": [
      "2.22.0\n"
     ]
    }
   ],
   "source": [
    "print(requests.__version__)"
   ]
  },
  {
   "cell_type": "markdown",
   "metadata": {},
   "source": [
    "### Using the Requests Library\n",
    "We will submit a get request to specific movie to the URL: `http://www.omdbapi.com`"
   ]
  },
  {
   "cell_type": "code",
   "execution_count": 4,
   "metadata": {},
   "outputs": [],
   "source": [
    "API_KEY = \"53bfc95d\" # <- Super Secret Shhhh\n",
    "title = \"Jurassic Park\" #Search for a movie you like\n",
    "url = 'http://www.omdbapi.com?'\n",
    "\n",
    "payload = {'t': title,\n",
    "           'apikey': API_KEY}\n",
    "\n",
    "r = requests.get('http://www.omdbapi.com?', params=payload)"
   ]
  },
  {
   "cell_type": "code",
   "execution_count": 5,
   "metadata": {},
   "outputs": [
    {
     "data": {
      "text/plain": [
       "200"
      ]
     },
     "execution_count": 5,
     "metadata": {},
     "output_type": "execute_result"
    }
   ],
   "source": [
    "# check the status: 200 means success, 4xx or 5xx means error\n",
    "r.status_code"
   ]
  },
  {
   "cell_type": "code",
   "execution_count": 6,
   "metadata": {},
   "outputs": [
    {
     "data": {
      "text/plain": [
       "'http://www.omdbapi.com/?t=Jurassic+Park&apikey=53bfc95d'"
      ]
     },
     "execution_count": 6,
     "metadata": {},
     "output_type": "execute_result"
    }
   ],
   "source": [
    "r.url"
   ]
  },
  {
   "cell_type": "markdown",
   "metadata": {},
   "source": [
    "We know from the documentation on omdapi.com that the response is a `JSON` object."
   ]
  },
  {
   "cell_type": "code",
   "execution_count": 7,
   "metadata": {},
   "outputs": [
    {
     "data": {
      "text/plain": [
       "{'Title': 'Jurassic Park',\n",
       " 'Year': '1993',\n",
       " 'Rated': 'PG-13',\n",
       " 'Released': '11 Jun 1993',\n",
       " 'Runtime': '127 min',\n",
       " 'Genre': 'Action, Adventure, Sci-Fi, Thriller',\n",
       " 'Director': 'Steven Spielberg',\n",
       " 'Writer': 'Michael Crichton (novel), Michael Crichton (screenplay), David Koepp (screenplay)',\n",
       " 'Actors': 'Sam Neill, Laura Dern, Jeff Goldblum, Richard Attenborough',\n",
       " 'Plot': \"A pragmatic paleontologist visiting an almost complete theme park is tasked with protecting a couple of kids after a power failure causes the park's cloned dinosaurs to run loose.\",\n",
       " 'Language': 'English, Spanish',\n",
       " 'Country': 'USA',\n",
       " 'Awards': 'Won 3 Oscars. Another 40 wins & 27 nominations.',\n",
       " 'Poster': 'https://m.media-amazon.com/images/M/MV5BMjM2MDgxMDg0Nl5BMl5BanBnXkFtZTgwNTM2OTM5NDE@._V1_SX300.jpg',\n",
       " 'Ratings': [{'Source': 'Internet Movie Database', 'Value': '8.1/10'},\n",
       "  {'Source': 'Rotten Tomatoes', 'Value': '91%'},\n",
       "  {'Source': 'Metacritic', 'Value': '68/100'}],\n",
       " 'Metascore': '68',\n",
       " 'imdbRating': '8.1',\n",
       " 'imdbVotes': '846,659',\n",
       " 'imdbID': 'tt0107290',\n",
       " 'Type': 'movie',\n",
       " 'DVD': 'N/A',\n",
       " 'BoxOffice': 'N/A',\n",
       " 'Production': 'Universal Pictures, Amblin Entertainment',\n",
       " 'Website': 'N/A',\n",
       " 'Response': 'True'}"
      ]
     },
     "execution_count": 7,
     "metadata": {},
     "output_type": "execute_result"
    }
   ],
   "source": [
    "r.json()"
   ]
  },
  {
   "cell_type": "code",
   "execution_count": 8,
   "metadata": {},
   "outputs": [
    {
     "data": {
      "text/plain": [
       "'1993'"
      ]
     },
     "execution_count": 8,
     "metadata": {},
     "output_type": "execute_result"
    }
   ],
   "source": [
    "#We can call out specific elements\n",
    "r.json()['Year']"
   ]
  },
  {
   "cell_type": "markdown",
   "metadata": {},
   "source": [
    "What happens if the movie isn't found?"
   ]
  },
  {
   "cell_type": "code",
   "execution_count": 9,
   "metadata": {},
   "outputs": [
    {
     "data": {
      "text/plain": [
       "{'Response': 'False', 'Error': 'Movie not found!'}"
      ]
     },
     "execution_count": 9,
     "metadata": {},
     "output_type": "execute_result"
    }
   ],
   "source": [
    "payload = {'apikey': API_KEY, \n",
    "          't': 'Machine Learning Rules!'}\n",
    "\n",
    "r = requests.get(url, params=payload)\n",
    "r.json()"
   ]
  },
  {
   "cell_type": "markdown",
   "metadata": {},
   "source": [
    "## Exercise 1 Movie Release Date\n",
    "*5 Minutes*\n",
    "##### Define a function to return the year of release of a given movie title, return None if no movie found."
   ]
  },
  {
   "cell_type": "code",
   "execution_count": 10,
   "metadata": {},
   "outputs": [],
   "source": [
    "def get_movie_year_from_title(movie_title):\n",
    "    return -1"
   ]
  },
  {
   "cell_type": "code",
   "execution_count": 11,
   "metadata": {},
   "outputs": [
    {
     "data": {
      "text/plain": [
       "-1"
      ]
     },
     "execution_count": 11,
     "metadata": {},
     "output_type": "execute_result"
    }
   ],
   "source": [
    "get_movie_year_from_title(\"Jungle Book\")"
   ]
  },
  {
   "cell_type": "markdown",
   "metadata": {},
   "source": [
    "### Business Use Case Discussion\n",
    "* How might our clients ask us to leverage text data such as this to inform business decisions?\n",
    "* What could we do if we mashed this movie meta data up with movie review data from a source such as Rotten Tomatoes? "
   ]
  },
  {
   "cell_type": "markdown",
   "metadata": {},
   "source": [
    "## Example 2: Color Wheel <a id='1C'></a>\n",
    "*10 Minutes*\n",
    "\n",
    "In this example, accessing data on some of the colors of Crayola® palette via the Smithosian Cooper Hewitt's API. Archievists at Cooper Hewitt use this palette to tag images of objects by color. Downstream, these tags allow for a greater accuracy in information retrival for users looking for objects of a certain hue.\n",
    "\n",
    "### Business Use Case\n",
    "A major online retailer aggregator has asked to Deloitte to help it increase the efficetiveness of its search engine. They found that users are searching their catalog of over 100,000 items by color. However, many of the items don't have color tags making the search process frustrating for users. \n",
    "\n",
    "Our role will be to leverage the Cooper Hewitt's extensive online catalog of design objects tagged with colors to build a training set for automated tagging for the client with machine learning. \n",
    "\n",
    "If our future algorithm is successful, it will save our client thousands of hours to manual labor tagging the images on their website.\n",
    "\n",
    "\n",
    "*__Note:__ This API implements the new standard for API autentication by using OAuth2 with access tokens. I've created a token for us ahead of time.*\n",
    "\n",
    "[Article on Cooper Hewitt's API](https://labs.cooperhewitt.org/2014/the-api-at-the-center-of-the-museum/)\n",
    "\n",
    "[API Documentation](https://collection.cooperhewitt.org/api/)"
   ]
  },
  {
   "cell_type": "code",
   "execution_count": 12,
   "metadata": {},
   "outputs": [],
   "source": [
    "key = \"84976de03204c1d366ae0224bf21d103\" # less secure\n",
    "token = \"2f49c9d05b2faf779d11420637d99f57\" # more secure which uses the OAuth2 authentication"
   ]
  },
  {
   "cell_type": "code",
   "execution_count": 13,
   "metadata": {},
   "outputs": [],
   "source": [
    "base_url = 'https://api.collection.cooperhewitt.org/rest/?method=cooperhewitt.colors.palettes.getInfo&access_token=%s&palette=crayola' % token"
   ]
  },
  {
   "cell_type": "code",
   "execution_count": 14,
   "metadata": {},
   "outputs": [
    {
     "data": {
      "text/plain": [
       "'https://api.collection.cooperhewitt.org/rest/?method=cooperhewitt.colors.palettes.getInfo&access_token=2f49c9d05b2faf779d11420637d99f57&palette=crayola'"
      ]
     },
     "execution_count": 14,
     "metadata": {},
     "output_type": "execute_result"
    }
   ],
   "source": [
    "base_url"
   ]
  },
  {
   "cell_type": "code",
   "execution_count": 15,
   "metadata": {},
   "outputs": [],
   "source": [
    "r = requests.get(base_url)"
   ]
  },
  {
   "cell_type": "code",
   "execution_count": 16,
   "metadata": {},
   "outputs": [
    {
     "data": {
      "text/plain": [
       "{'palette': 'crayola',\n",
       " 'colors': {'#fc89ac': {'name': 'Tickle Me Pink'},\n",
       "  '#1f75fe': {'name': 'Blue'},\n",
       "  '#a8e4a0': {'name': 'Granny Smith Apple'},\n",
       "  '#fc74fd': {'name': 'Pink Flamingo'},\n",
       "  '#7366bd': {'name': 'Blue Violet'},\n",
       "  '#18a7b5': {'name': 'Teal Blue'},\n",
       "  '#1164b4': {'name': 'Green Blue'},\n",
       "  '#b2ec5d': {'name': 'Inchworm'},\n",
       "  '#58427c': {'name': 'Cyber Grape'},\n",
       "  '#bf4f51': {'name': 'Bittersweet Shimmer'},\n",
       "  '#5d76cb': {'name': 'Indigo'},\n",
       "  '#c5e384': {'name': 'Yellow Green'},\n",
       "  '#8fd400': {'name': 'Sheen Green'},\n",
       "  '#4a646c': {'name': 'Deep Space Sparkle'},\n",
       "  '#ffbcd9': {'name': 'Cotton Candy'},\n",
       "  '#ff7f49': {'name': 'Burnt Orange'},\n",
       "  '#fefe22': {'name': 'Laser Lemon'},\n",
       "  '#bc5d58': {'name': 'Chestnut'},\n",
       "  '#9fe2bf': {'name': 'Sea Green'},\n",
       "  '#000000': {'name': 'Black'},\n",
       "  '#414a4c': {'name': 'Outer Space'},\n",
       "  '#7851a9': {'name': 'Royal Purple'},\n",
       "  '#ace5ee': {'name': 'Blizzard Blue'},\n",
       "  '#a2add0': {'name': 'Wild Blue Yonder'},\n",
       "  '#dd9475': {'name': 'Copper'},\n",
       "  '#ffffff': {'name': 'White'},\n",
       "  '#efdecd': {'name': 'Almond'},\n",
       "  '#bab86c': {'name': 'Olive Green'},\n",
       "  '#1974d2': {'name': 'Navy Blue'},\n",
       "  '#b4674d': {'name': 'Brown'},\n",
       "  '#ebc7df': {'name': 'Thistle'},\n",
       "  '#ff9baa': {'name': 'Salmon'},\n",
       "  '#87a96b': {'name': 'Asparagus'},\n",
       "  '#71bc78': {'name': 'Fern'},\n",
       "  '#8e4585': {'name': 'Plum'},\n",
       "  '#fae7b5': {'name': 'Banana Mania'},\n",
       "  '#979aaa': {'name': 'Manatee'},\n",
       "  '#aaf0d1': {'name': 'Magic Mint'},\n",
       "  '#c5d0e6': {'name': 'Periwinkle'},\n",
       "  '#fd5e53': {'name': 'Sunset Orange'},\n",
       "  '#80daeb': {'name': 'Sky Blue'},\n",
       "  '#2e5894': {'name': \"B'dazzled Blue\"},\n",
       "  '#ff48d0': {'name': 'Razzle Dazzle Rose'},\n",
       "  '#dd4492': {'name': 'Cerise'},\n",
       "  '#eceabe': {'name': 'Spring Green'},\n",
       "  '#1a4876': {'name': 'Midnight Blue'},\n",
       "  '#9aceeb': {'name': 'Cornflower'},\n",
       "  '#f8d568': {'name': 'Orange Yellow'},\n",
       "  '#e7c697': {'name': 'Gold'},\n",
       "  '#1cac78': {'name': 'Green'},\n",
       "  '#9c7c38': {'name': 'Metallic Sunburst'},\n",
       "  '#9f8170': {'name': 'Beaver'},\n",
       "  '#a57164': {'name': 'Blast Off Bronze'},\n",
       "  '#ff6e4a': {'name': 'Outrageous Orange'},\n",
       "  '#3bb08f': {'name': 'Jungle Green'},\n",
       "  '#fff44f': {'name': 'Lemon Yellow'},\n",
       "  '#ff43a4': {'name': 'Wild Strawberry'},\n",
       "  '#1cd3a2': {'name': 'Caribbean Green'},\n",
       "  '#cda4de': {'name': 'Wisteria'},\n",
       "  '#ffa343': {'name': 'Neon Carrot'},\n",
       "  '#efcdb8': {'name': 'Desert Sand'},\n",
       "  '#a5694f': {'name': 'Sepia'},\n",
       "  '#8d4e85': {'name': 'Razzmic Berry'},\n",
       "  '#ff7538': {'name': 'Orange'},\n",
       "  '#cb4154': {'name': 'Brick Red'},\n",
       "  '#17806d': {'name': 'Tropical Rain Forest'},\n",
       "  '#ffa089': {'name': 'Vivid Tangerine'},\n",
       "  '#cd9575': {'name': 'Antique Brass'},\n",
       "  '#cdc5c2': {'name': 'Silver'},\n",
       "  '#85754e': {'name': 'Gold Fusion'},\n",
       "  '#6699cc': {'name': 'Blue Gray'},\n",
       "  '#ea7e5d': {'name': 'Burnt Sienna'},\n",
       "  '#c46210': {'name': 'Alloy Orange'},\n",
       "  '#fdbcb4': {'name': 'Melon'},\n",
       "  '#d68a59': {'name': 'Raw Sienna'},\n",
       "  '#ffaacc': {'name': 'Carnation Pink'},\n",
       "  '#45cea2': {'name': 'Shamrock'},\n",
       "  '#ef98aa': {'name': 'Mauvelous'},\n",
       "  '#6dae81': {'name': 'Forest Green'},\n",
       "  '#ffa474': {'name': 'Atomic Tangerine'},\n",
       "  '#324ab2': {'name': 'Violet Blue'},\n",
       "  '#fddde6': {'name': 'Piggy Pink'},\n",
       "  '#ffcf48': {'name': 'Sunglow'},\n",
       "  '#c54b8c': {'name': 'Mulberry'},\n",
       "  '#0d98ba': {'name': 'Blue Green'},\n",
       "  '#f75394': {'name': 'Violet Red'},\n",
       "  '#ff496c': {'name': 'Radical Red'},\n",
       "  '#1fcecb': {'name': \"Robin's Egg Blue\"},\n",
       "  '#fb7efd': {'name': 'Shocking Pink'},\n",
       "  '#fcd975': {'name': 'Goldenrod'},\n",
       "  '#9d81ba': {'name': \"Purple Mountain's Majesty\"},\n",
       "  '#ffff99': {'name': 'Canary'},\n",
       "  '#fce883': {'name': 'Yellow'},\n",
       "  '#0a7e8c': {'name': 'Metallic Seaweed'},\n",
       "  '#6e5160': {'name': 'Eggplant'},\n",
       "  '#ff8243': {'name': 'Mango Tango'},\n",
       "  '#c8385a': {'name': 'Maroon'},\n",
       "  '#ceff1d': {'name': 'Electric Lime'},\n",
       "  '#319177': {'name': 'Illuminating Emerald'},\n",
       "  '#ee204d': {'name': 'Red'},\n",
       "  '#ff5349': {'name': 'Red Orange'},\n",
       "  '#e3256b': {'name': 'Razzmatazz'},\n",
       "  '#8f509d': {'name': 'Vivid Violet'},\n",
       "  '#ffff66': {'name': 'Unmellow Yellow'},\n",
       "  '#faa76c': {'name': 'Tan'},\n",
       "  '#ff1dce': {'name': 'Hot Magenta'},\n",
       "  '#76ff7a': {'name': \"Screamin' Green\"},\n",
       "  '#f664af': {'name': 'Magenta'},\n",
       "  '#e6a8d7': {'name': 'Orchid'},\n",
       "  '#fcb4d5': {'name': 'Lavender'},\n",
       "  '#78dbe2': {'name': 'Aquamarine'},\n",
       "  '#c0448f': {'name': 'Red Violet'},\n",
       "  '#926eae': {'name': 'Violet (Purple)'},\n",
       "  '#158078': {'name': 'Pine Green'},\n",
       "  '#ffcfab': {'name': 'Peach'},\n",
       "  '#95918c': {'name': 'Gray'},\n",
       "  '#30ba8f': {'name': 'Mountain Meadow'},\n",
       "  '#f0e891': {'name': 'Green Yellow'},\n",
       "  '#714b23': {'name': 'Raw Umber'},\n",
       "  '#deaa88': {'name': 'Tumbleweed'},\n",
       "  '#0081ab': {'name': 'Steel Blue'},\n",
       "  '#77dde7': {'name': 'Turquoise Blue'},\n",
       "  '#f78fa7': {'name': 'Pink Sherbert'},\n",
       "  '#757575': {'name': 'Sonic Silver'},\n",
       "  '#ffbd88': {'name': 'Macaroni and Cheese'},\n",
       "  '#1ca9c9': {'name': 'Pacific Blue'},\n",
       "  '#2b6cc4': {'name': 'Denim'},\n",
       "  '#a2a2d0': {'name': 'Blue Bell'},\n",
       "  '#cc6666': {'name': 'Fuzzy Wuzzy'},\n",
       "  '#7442c8': {'name': 'Purple Heart'},\n",
       "  '#cd4a4c': {'name': 'Mahogany'},\n",
       "  '#ffae42': {'name': 'Yellow Orange'},\n",
       "  '#ca3767': {'name': 'Jazzberry Jam'},\n",
       "  '#ff2b2b': {'name': 'Orange Red'},\n",
       "  '#de5d83': {'name': 'Blush'},\n",
       "  '#fc2847': {'name': 'Scarlet'},\n",
       "  '#fc6c85': {'name': 'Wild Watermelon'},\n",
       "  '#fddb6d': {'name': 'Dandelion'},\n",
       "  '#dbd7d2': {'name': 'Timberwolf'},\n",
       "  '#d98695': {'name': 'Shimmering Blush'},\n",
       "  '#fd7c6e': {'name': 'Bittersweet'},\n",
       "  '#9c2542': {'name': \"Big Dip O' Ruby\"},\n",
       "  '#edd19c': {'name': 'Maize'},\n",
       "  '#c364c5': {'name': 'Fuchsia'},\n",
       "  '#1dacd6': {'name': 'Cerulean'},\n",
       "  '#fe4eda': {'name': 'Purple Pizzazz'},\n",
       "  '#fdd9b5': {'name': 'Apricot'},\n",
       "  '#8a795d': {'name': 'Shadow'},\n",
       "  '#b0b7c6': {'name': 'Cadet Blue'}},\n",
       " 'stat': 'ok',\n",
       " 'event_publishing_state': 'ok'}"
      ]
     },
     "execution_count": 16,
     "metadata": {},
     "output_type": "execute_result"
    }
   ],
   "source": [
    "r.json()"
   ]
  },
  {
   "cell_type": "code",
   "execution_count": 17,
   "metadata": {},
   "outputs": [],
   "source": [
    "_hex = list(r.json()['colors'].keys())\n",
    "names = [k['name'] for k in list(r.json()['colors'].values())]"
   ]
  },
  {
   "cell_type": "code",
   "execution_count": 18,
   "metadata": {},
   "outputs": [
    {
     "data": {
      "text/plain": [
       "['#fc89ac',\n",
       " '#1f75fe',\n",
       " '#a8e4a0',\n",
       " '#fc74fd',\n",
       " '#7366bd',\n",
       " '#18a7b5',\n",
       " '#1164b4',\n",
       " '#b2ec5d',\n",
       " '#58427c',\n",
       " '#bf4f51',\n",
       " '#5d76cb',\n",
       " '#c5e384',\n",
       " '#8fd400',\n",
       " '#4a646c',\n",
       " '#ffbcd9',\n",
       " '#ff7f49',\n",
       " '#fefe22',\n",
       " '#bc5d58',\n",
       " '#9fe2bf',\n",
       " '#000000',\n",
       " '#414a4c',\n",
       " '#7851a9',\n",
       " '#ace5ee',\n",
       " '#a2add0',\n",
       " '#dd9475',\n",
       " '#ffffff',\n",
       " '#efdecd',\n",
       " '#bab86c',\n",
       " '#1974d2',\n",
       " '#b4674d',\n",
       " '#ebc7df',\n",
       " '#ff9baa',\n",
       " '#87a96b',\n",
       " '#71bc78',\n",
       " '#8e4585',\n",
       " '#fae7b5',\n",
       " '#979aaa',\n",
       " '#aaf0d1',\n",
       " '#c5d0e6',\n",
       " '#fd5e53',\n",
       " '#80daeb',\n",
       " '#2e5894',\n",
       " '#ff48d0',\n",
       " '#dd4492',\n",
       " '#eceabe',\n",
       " '#1a4876',\n",
       " '#9aceeb',\n",
       " '#f8d568',\n",
       " '#e7c697',\n",
       " '#1cac78',\n",
       " '#9c7c38',\n",
       " '#9f8170',\n",
       " '#a57164',\n",
       " '#ff6e4a',\n",
       " '#3bb08f',\n",
       " '#fff44f',\n",
       " '#ff43a4',\n",
       " '#1cd3a2',\n",
       " '#cda4de',\n",
       " '#ffa343',\n",
       " '#efcdb8',\n",
       " '#a5694f',\n",
       " '#8d4e85',\n",
       " '#ff7538',\n",
       " '#cb4154',\n",
       " '#17806d',\n",
       " '#ffa089',\n",
       " '#cd9575',\n",
       " '#cdc5c2',\n",
       " '#85754e',\n",
       " '#6699cc',\n",
       " '#ea7e5d',\n",
       " '#c46210',\n",
       " '#fdbcb4',\n",
       " '#d68a59',\n",
       " '#ffaacc',\n",
       " '#45cea2',\n",
       " '#ef98aa',\n",
       " '#6dae81',\n",
       " '#ffa474',\n",
       " '#324ab2',\n",
       " '#fddde6',\n",
       " '#ffcf48',\n",
       " '#c54b8c',\n",
       " '#0d98ba',\n",
       " '#f75394',\n",
       " '#ff496c',\n",
       " '#1fcecb',\n",
       " '#fb7efd',\n",
       " '#fcd975',\n",
       " '#9d81ba',\n",
       " '#ffff99',\n",
       " '#fce883',\n",
       " '#0a7e8c',\n",
       " '#6e5160',\n",
       " '#ff8243',\n",
       " '#c8385a',\n",
       " '#ceff1d',\n",
       " '#319177',\n",
       " '#ee204d',\n",
       " '#ff5349',\n",
       " '#e3256b',\n",
       " '#8f509d',\n",
       " '#ffff66',\n",
       " '#faa76c',\n",
       " '#ff1dce',\n",
       " '#76ff7a',\n",
       " '#f664af',\n",
       " '#e6a8d7',\n",
       " '#fcb4d5',\n",
       " '#78dbe2',\n",
       " '#c0448f',\n",
       " '#926eae',\n",
       " '#158078',\n",
       " '#ffcfab',\n",
       " '#95918c',\n",
       " '#30ba8f',\n",
       " '#f0e891',\n",
       " '#714b23',\n",
       " '#deaa88',\n",
       " '#0081ab',\n",
       " '#77dde7',\n",
       " '#f78fa7',\n",
       " '#757575',\n",
       " '#ffbd88',\n",
       " '#1ca9c9',\n",
       " '#2b6cc4',\n",
       " '#a2a2d0',\n",
       " '#cc6666',\n",
       " '#7442c8',\n",
       " '#cd4a4c',\n",
       " '#ffae42',\n",
       " '#ca3767',\n",
       " '#ff2b2b',\n",
       " '#de5d83',\n",
       " '#fc2847',\n",
       " '#fc6c85',\n",
       " '#fddb6d',\n",
       " '#dbd7d2',\n",
       " '#d98695',\n",
       " '#fd7c6e',\n",
       " '#9c2542',\n",
       " '#edd19c',\n",
       " '#c364c5',\n",
       " '#1dacd6',\n",
       " '#fe4eda',\n",
       " '#fdd9b5',\n",
       " '#8a795d',\n",
       " '#b0b7c6']"
      ]
     },
     "execution_count": 18,
     "metadata": {},
     "output_type": "execute_result"
    }
   ],
   "source": [
    "_hex"
   ]
  },
  {
   "cell_type": "code",
   "execution_count": 20,
   "metadata": {},
   "outputs": [
    {
     "data": {
      "text/html": [
       "<div>\n",
       "<style scoped>\n",
       "    .dataframe tbody tr th:only-of-type {\n",
       "        vertical-align: middle;\n",
       "    }\n",
       "\n",
       "    .dataframe tbody tr th {\n",
       "        vertical-align: top;\n",
       "    }\n",
       "\n",
       "    .dataframe thead th {\n",
       "        text-align: right;\n",
       "    }\n",
       "</style>\n",
       "<table border=\"1\" class=\"dataframe\">\n",
       "  <thead>\n",
       "    <tr style=\"text-align: right;\">\n",
       "      <th></th>\n",
       "      <th>hex</th>\n",
       "      <th>name</th>\n",
       "    </tr>\n",
       "  </thead>\n",
       "  <tbody>\n",
       "    <tr>\n",
       "      <th>0</th>\n",
       "      <td>#fc89ac</td>\n",
       "      <td>Tickle Me Pink</td>\n",
       "    </tr>\n",
       "    <tr>\n",
       "      <th>1</th>\n",
       "      <td>#1f75fe</td>\n",
       "      <td>Blue</td>\n",
       "    </tr>\n",
       "    <tr>\n",
       "      <th>2</th>\n",
       "      <td>#a8e4a0</td>\n",
       "      <td>Granny Smith Apple</td>\n",
       "    </tr>\n",
       "    <tr>\n",
       "      <th>3</th>\n",
       "      <td>#fc74fd</td>\n",
       "      <td>Pink Flamingo</td>\n",
       "    </tr>\n",
       "    <tr>\n",
       "      <th>4</th>\n",
       "      <td>#7366bd</td>\n",
       "      <td>Blue Violet</td>\n",
       "    </tr>\n",
       "  </tbody>\n",
       "</table>\n",
       "</div>"
      ],
      "text/plain": [
       "       hex                name\n",
       "0  #fc89ac      Tickle Me Pink\n",
       "1  #1f75fe                Blue\n",
       "2  #a8e4a0  Granny Smith Apple\n",
       "3  #fc74fd       Pink Flamingo\n",
       "4  #7366bd         Blue Violet"
      ]
     },
     "execution_count": 20,
     "metadata": {},
     "output_type": "execute_result"
    }
   ],
   "source": [
    "# DataFrame of the results\n",
    "crayola= pd.DataFrame({'hex': _hex, 'name':names})\n",
    "\n",
    "# crayola.describe()\n",
    "crayola.head()"
   ]
  },
  {
   "cell_type": "code",
   "execution_count": 19,
   "metadata": {},
   "outputs": [
    {
     "data": {
      "text/plain": [
       "['Tickle Me Pink',\n",
       " 'Blue',\n",
       " 'Granny Smith Apple',\n",
       " 'Pink Flamingo',\n",
       " 'Blue Violet',\n",
       " 'Teal Blue',\n",
       " 'Green Blue',\n",
       " 'Inchworm',\n",
       " 'Cyber Grape',\n",
       " 'Bittersweet Shimmer',\n",
       " 'Indigo',\n",
       " 'Yellow Green',\n",
       " 'Sheen Green',\n",
       " 'Deep Space Sparkle',\n",
       " 'Cotton Candy',\n",
       " 'Burnt Orange',\n",
       " 'Laser Lemon',\n",
       " 'Chestnut',\n",
       " 'Sea Green',\n",
       " 'Black',\n",
       " 'Outer Space',\n",
       " 'Royal Purple',\n",
       " 'Blizzard Blue',\n",
       " 'Wild Blue Yonder',\n",
       " 'Copper',\n",
       " 'White',\n",
       " 'Almond',\n",
       " 'Olive Green',\n",
       " 'Navy Blue',\n",
       " 'Brown',\n",
       " 'Thistle',\n",
       " 'Salmon',\n",
       " 'Asparagus',\n",
       " 'Fern',\n",
       " 'Plum',\n",
       " 'Banana Mania',\n",
       " 'Manatee',\n",
       " 'Magic Mint',\n",
       " 'Periwinkle',\n",
       " 'Sunset Orange',\n",
       " 'Sky Blue',\n",
       " \"B'dazzled Blue\",\n",
       " 'Razzle Dazzle Rose',\n",
       " 'Cerise',\n",
       " 'Spring Green',\n",
       " 'Midnight Blue',\n",
       " 'Cornflower',\n",
       " 'Orange Yellow',\n",
       " 'Gold',\n",
       " 'Green',\n",
       " 'Metallic Sunburst',\n",
       " 'Beaver',\n",
       " 'Blast Off Bronze',\n",
       " 'Outrageous Orange',\n",
       " 'Jungle Green',\n",
       " 'Lemon Yellow',\n",
       " 'Wild Strawberry',\n",
       " 'Caribbean Green',\n",
       " 'Wisteria',\n",
       " 'Neon Carrot',\n",
       " 'Desert Sand',\n",
       " 'Sepia',\n",
       " 'Razzmic Berry',\n",
       " 'Orange',\n",
       " 'Brick Red',\n",
       " 'Tropical Rain Forest',\n",
       " 'Vivid Tangerine',\n",
       " 'Antique Brass',\n",
       " 'Silver',\n",
       " 'Gold Fusion',\n",
       " 'Blue Gray',\n",
       " 'Burnt Sienna',\n",
       " 'Alloy Orange',\n",
       " 'Melon',\n",
       " 'Raw Sienna',\n",
       " 'Carnation Pink',\n",
       " 'Shamrock',\n",
       " 'Mauvelous',\n",
       " 'Forest Green',\n",
       " 'Atomic Tangerine',\n",
       " 'Violet Blue',\n",
       " 'Piggy Pink',\n",
       " 'Sunglow',\n",
       " 'Mulberry',\n",
       " 'Blue Green',\n",
       " 'Violet Red',\n",
       " 'Radical Red',\n",
       " \"Robin's Egg Blue\",\n",
       " 'Shocking Pink',\n",
       " 'Goldenrod',\n",
       " \"Purple Mountain's Majesty\",\n",
       " 'Canary',\n",
       " 'Yellow',\n",
       " 'Metallic Seaweed',\n",
       " 'Eggplant',\n",
       " 'Mango Tango',\n",
       " 'Maroon',\n",
       " 'Electric Lime',\n",
       " 'Illuminating Emerald',\n",
       " 'Red',\n",
       " 'Red Orange',\n",
       " 'Razzmatazz',\n",
       " 'Vivid Violet',\n",
       " 'Unmellow Yellow',\n",
       " 'Tan',\n",
       " 'Hot Magenta',\n",
       " \"Screamin' Green\",\n",
       " 'Magenta',\n",
       " 'Orchid',\n",
       " 'Lavender',\n",
       " 'Aquamarine',\n",
       " 'Red Violet',\n",
       " 'Violet (Purple)',\n",
       " 'Pine Green',\n",
       " 'Peach',\n",
       " 'Gray',\n",
       " 'Mountain Meadow',\n",
       " 'Green Yellow',\n",
       " 'Raw Umber',\n",
       " 'Tumbleweed',\n",
       " 'Steel Blue',\n",
       " 'Turquoise Blue',\n",
       " 'Pink Sherbert',\n",
       " 'Sonic Silver',\n",
       " 'Macaroni and Cheese',\n",
       " 'Pacific Blue',\n",
       " 'Denim',\n",
       " 'Blue Bell',\n",
       " 'Fuzzy Wuzzy',\n",
       " 'Purple Heart',\n",
       " 'Mahogany',\n",
       " 'Yellow Orange',\n",
       " 'Jazzberry Jam',\n",
       " 'Orange Red',\n",
       " 'Blush',\n",
       " 'Scarlet',\n",
       " 'Wild Watermelon',\n",
       " 'Dandelion',\n",
       " 'Timberwolf',\n",
       " 'Shimmering Blush',\n",
       " 'Bittersweet',\n",
       " \"Big Dip O' Ruby\",\n",
       " 'Maize',\n",
       " 'Fuchsia',\n",
       " 'Cerulean',\n",
       " 'Purple Pizzazz',\n",
       " 'Apricot',\n",
       " 'Shadow',\n",
       " 'Cadet Blue']"
      ]
     },
     "execution_count": 19,
     "metadata": {},
     "output_type": "execute_result"
    }
   ],
   "source": [
    "names"
   ]
  },
  {
   "cell_type": "markdown",
   "metadata": {},
   "source": [
    "### Red/Blue/Green\n",
    "The hex code is by design very dense information. Let's parse out the individual color components from the data.\n",
    "\n",
    "[Hex to RGB Converstion by Hand](https://www.rapidtables.com/convert/color/how-hex-to-rgb.html)\n",
    "\n",
    "[Hex to RGB Code](https://stackoverflow.com/questions/29643352/converting-hex-to-rgb-value-in-python)\n",
    "\n",
    "[int() Class](https://docs.python.org/3.4/library/functions.html?highlight=int#int)"
   ]
  },
  {
   "cell_type": "code",
   "execution_count": 21,
   "metadata": {
    "scrolled": true
   },
   "outputs": [],
   "source": [
    "# function that converts a single list element into it's corresponding RGB Value\n",
    "\n",
    "def hex_to_rbg(_hexcode):\n",
    "    h = _hexcode.lstrip('#') # strips the function of the hash \n",
    "    rbg = tuple(int(h[i:i+2], 16) for i in (0, 2 ,4)) #int converts our hex to a rgb value for us by passing base = 16\n",
    "    return rbg"
   ]
  },
  {
   "cell_type": "code",
   "execution_count": 22,
   "metadata": {
    "scrolled": false
   },
   "outputs": [],
   "source": [
    "rbg = [hex_to_rbg(h) for h in crayola['hex'].tolist()]"
   ]
  },
  {
   "cell_type": "code",
   "execution_count": 23,
   "metadata": {},
   "outputs": [
    {
     "data": {
      "text/plain": [
       "[(252, 137, 172),\n",
       " (31, 117, 254),\n",
       " (168, 228, 160),\n",
       " (252, 116, 253),\n",
       " (115, 102, 189),\n",
       " (24, 167, 181),\n",
       " (17, 100, 180),\n",
       " (178, 236, 93),\n",
       " (88, 66, 124),\n",
       " (191, 79, 81),\n",
       " (93, 118, 203),\n",
       " (197, 227, 132),\n",
       " (143, 212, 0),\n",
       " (74, 100, 108),\n",
       " (255, 188, 217),\n",
       " (255, 127, 73),\n",
       " (254, 254, 34),\n",
       " (188, 93, 88),\n",
       " (159, 226, 191),\n",
       " (0, 0, 0),\n",
       " (65, 74, 76),\n",
       " (120, 81, 169),\n",
       " (172, 229, 238),\n",
       " (162, 173, 208),\n",
       " (221, 148, 117),\n",
       " (255, 255, 255),\n",
       " (239, 222, 205),\n",
       " (186, 184, 108),\n",
       " (25, 116, 210),\n",
       " (180, 103, 77),\n",
       " (235, 199, 223),\n",
       " (255, 155, 170),\n",
       " (135, 169, 107),\n",
       " (113, 188, 120),\n",
       " (142, 69, 133),\n",
       " (250, 231, 181),\n",
       " (151, 154, 170),\n",
       " (170, 240, 209),\n",
       " (197, 208, 230),\n",
       " (253, 94, 83),\n",
       " (128, 218, 235),\n",
       " (46, 88, 148),\n",
       " (255, 72, 208),\n",
       " (221, 68, 146),\n",
       " (236, 234, 190),\n",
       " (26, 72, 118),\n",
       " (154, 206, 235),\n",
       " (248, 213, 104),\n",
       " (231, 198, 151),\n",
       " (28, 172, 120),\n",
       " (156, 124, 56),\n",
       " (159, 129, 112),\n",
       " (165, 113, 100),\n",
       " (255, 110, 74),\n",
       " (59, 176, 143),\n",
       " (255, 244, 79),\n",
       " (255, 67, 164),\n",
       " (28, 211, 162),\n",
       " (205, 164, 222),\n",
       " (255, 163, 67),\n",
       " (239, 205, 184),\n",
       " (165, 105, 79),\n",
       " (141, 78, 133),\n",
       " (255, 117, 56),\n",
       " (203, 65, 84),\n",
       " (23, 128, 109),\n",
       " (255, 160, 137),\n",
       " (205, 149, 117),\n",
       " (205, 197, 194),\n",
       " (133, 117, 78),\n",
       " (102, 153, 204),\n",
       " (234, 126, 93),\n",
       " (196, 98, 16),\n",
       " (253, 188, 180),\n",
       " (214, 138, 89),\n",
       " (255, 170, 204),\n",
       " (69, 206, 162),\n",
       " (239, 152, 170),\n",
       " (109, 174, 129),\n",
       " (255, 164, 116),\n",
       " (50, 74, 178),\n",
       " (253, 221, 230),\n",
       " (255, 207, 72),\n",
       " (197, 75, 140),\n",
       " (13, 152, 186),\n",
       " (247, 83, 148),\n",
       " (255, 73, 108),\n",
       " (31, 206, 203),\n",
       " (251, 126, 253),\n",
       " (252, 217, 117),\n",
       " (157, 129, 186),\n",
       " (255, 255, 153),\n",
       " (252, 232, 131),\n",
       " (10, 126, 140),\n",
       " (110, 81, 96),\n",
       " (255, 130, 67),\n",
       " (200, 56, 90),\n",
       " (206, 255, 29),\n",
       " (49, 145, 119),\n",
       " (238, 32, 77),\n",
       " (255, 83, 73),\n",
       " (227, 37, 107),\n",
       " (143, 80, 157),\n",
       " (255, 255, 102),\n",
       " (250, 167, 108),\n",
       " (255, 29, 206),\n",
       " (118, 255, 122),\n",
       " (246, 100, 175),\n",
       " (230, 168, 215),\n",
       " (252, 180, 213),\n",
       " (120, 219, 226),\n",
       " (192, 68, 143),\n",
       " (146, 110, 174),\n",
       " (21, 128, 120),\n",
       " (255, 207, 171),\n",
       " (149, 145, 140),\n",
       " (48, 186, 143),\n",
       " (240, 232, 145),\n",
       " (113, 75, 35),\n",
       " (222, 170, 136),\n",
       " (0, 129, 171),\n",
       " (119, 221, 231),\n",
       " (247, 143, 167),\n",
       " (117, 117, 117),\n",
       " (255, 189, 136),\n",
       " (28, 169, 201),\n",
       " (43, 108, 196),\n",
       " (162, 162, 208),\n",
       " (204, 102, 102),\n",
       " (116, 66, 200),\n",
       " (205, 74, 76),\n",
       " (255, 174, 66),\n",
       " (202, 55, 103),\n",
       " (255, 43, 43),\n",
       " (222, 93, 131),\n",
       " (252, 40, 71),\n",
       " (252, 108, 133),\n",
       " (253, 219, 109),\n",
       " (219, 215, 210),\n",
       " (217, 134, 149),\n",
       " (253, 124, 110),\n",
       " (156, 37, 66),\n",
       " (237, 209, 156),\n",
       " (195, 100, 197),\n",
       " (29, 172, 214),\n",
       " (254, 78, 218),\n",
       " (253, 217, 181),\n",
       " (138, 121, 93),\n",
       " (176, 183, 198)]"
      ]
     },
     "execution_count": 23,
     "metadata": {},
     "output_type": "execute_result"
    }
   ],
   "source": [
    "rbg"
   ]
  },
  {
   "cell_type": "code",
   "execution_count": 24,
   "metadata": {},
   "outputs": [
    {
     "data": {
      "text/html": [
       "<div>\n",
       "<style scoped>\n",
       "    .dataframe tbody tr th:only-of-type {\n",
       "        vertical-align: middle;\n",
       "    }\n",
       "\n",
       "    .dataframe tbody tr th {\n",
       "        vertical-align: top;\n",
       "    }\n",
       "\n",
       "    .dataframe thead th {\n",
       "        text-align: right;\n",
       "    }\n",
       "</style>\n",
       "<table border=\"1\" class=\"dataframe\">\n",
       "  <thead>\n",
       "    <tr style=\"text-align: right;\">\n",
       "      <th></th>\n",
       "      <th>hex</th>\n",
       "      <th>name</th>\n",
       "      <th>red</th>\n",
       "      <th>green</th>\n",
       "      <th>blue</th>\n",
       "    </tr>\n",
       "  </thead>\n",
       "  <tbody>\n",
       "    <tr>\n",
       "      <th>0</th>\n",
       "      <td>#fc89ac</td>\n",
       "      <td>Tickle Me Pink</td>\n",
       "      <td>252</td>\n",
       "      <td>137</td>\n",
       "      <td>172</td>\n",
       "    </tr>\n",
       "    <tr>\n",
       "      <th>1</th>\n",
       "      <td>#1f75fe</td>\n",
       "      <td>Blue</td>\n",
       "      <td>31</td>\n",
       "      <td>117</td>\n",
       "      <td>254</td>\n",
       "    </tr>\n",
       "    <tr>\n",
       "      <th>2</th>\n",
       "      <td>#a8e4a0</td>\n",
       "      <td>Granny Smith Apple</td>\n",
       "      <td>168</td>\n",
       "      <td>228</td>\n",
       "      <td>160</td>\n",
       "    </tr>\n",
       "    <tr>\n",
       "      <th>3</th>\n",
       "      <td>#fc74fd</td>\n",
       "      <td>Pink Flamingo</td>\n",
       "      <td>252</td>\n",
       "      <td>116</td>\n",
       "      <td>253</td>\n",
       "    </tr>\n",
       "    <tr>\n",
       "      <th>4</th>\n",
       "      <td>#7366bd</td>\n",
       "      <td>Blue Violet</td>\n",
       "      <td>115</td>\n",
       "      <td>102</td>\n",
       "      <td>189</td>\n",
       "    </tr>\n",
       "  </tbody>\n",
       "</table>\n",
       "</div>"
      ],
      "text/plain": [
       "       hex                name  red  green  blue\n",
       "0  #fc89ac      Tickle Me Pink  252    137   172\n",
       "1  #1f75fe                Blue   31    117   254\n",
       "2  #a8e4a0  Granny Smith Apple  168    228   160\n",
       "3  #fc74fd       Pink Flamingo  252    116   253\n",
       "4  #7366bd         Blue Violet  115    102   189"
      ]
     },
     "execution_count": 24,
     "metadata": {},
     "output_type": "execute_result"
    }
   ],
   "source": [
    "rbg = pd.DataFrame(rbg, columns=['red', 'green', 'blue'])\n",
    "crayola = pd.concat([crayola, rbg], axis=1)\n",
    "crayola.head()"
   ]
  },
  {
   "cell_type": "code",
   "execution_count": 25,
   "metadata": {},
   "outputs": [
    {
     "ename": "FileNotFoundError",
     "evalue": "[Errno 2] No such file or directory: '/Users/rvanniekerk/OneDrive - Deloitte (O365D)/ML Guild Emminence/Apprentice ML Guild Course/Apprentice_Level_04222019/Day 1/Outputs/crayola.csv'",
     "output_type": "error",
     "traceback": [
      "\u001b[1;31m---------------------------------------------------------------------------\u001b[0m",
      "\u001b[1;31mFileNotFoundError\u001b[0m                         Traceback (most recent call last)",
      "\u001b[1;32m<ipython-input-25-13288fa0bf47>\u001b[0m in \u001b[0;36m<module>\u001b[1;34m\u001b[0m\n\u001b[1;32m----> 1\u001b[1;33m \u001b[0mcrayola\u001b[0m\u001b[1;33m.\u001b[0m\u001b[0mto_csv\u001b[0m\u001b[1;33m(\u001b[0m\u001b[1;34m'/Users/rvanniekerk/OneDrive - Deloitte (O365D)/ML Guild Emminence/Apprentice ML Guild Course/Apprentice_Level_04222019/Day 1/Outputs/crayola.csv'\u001b[0m\u001b[1;33m,\u001b[0m \u001b[0mindex\u001b[0m\u001b[1;33m=\u001b[0m\u001b[1;32mFalse\u001b[0m\u001b[1;33m)\u001b[0m\u001b[1;33m\u001b[0m\u001b[1;33m\u001b[0m\u001b[0m\n\u001b[0m",
      "\u001b[1;32m~\\Anaconda3\\lib\\site-packages\\pandas\\core\\generic.py\u001b[0m in \u001b[0;36mto_csv\u001b[1;34m(self, path_or_buf, sep, na_rep, float_format, columns, header, index, index_label, mode, encoding, compression, quoting, quotechar, line_terminator, chunksize, date_format, doublequote, escapechar, decimal)\u001b[0m\n\u001b[0;32m   3202\u001b[0m             \u001b[0mdecimal\u001b[0m\u001b[1;33m=\u001b[0m\u001b[0mdecimal\u001b[0m\u001b[1;33m,\u001b[0m\u001b[1;33m\u001b[0m\u001b[1;33m\u001b[0m\u001b[0m\n\u001b[0;32m   3203\u001b[0m         )\n\u001b[1;32m-> 3204\u001b[1;33m         \u001b[0mformatter\u001b[0m\u001b[1;33m.\u001b[0m\u001b[0msave\u001b[0m\u001b[1;33m(\u001b[0m\u001b[1;33m)\u001b[0m\u001b[1;33m\u001b[0m\u001b[1;33m\u001b[0m\u001b[0m\n\u001b[0m\u001b[0;32m   3205\u001b[0m \u001b[1;33m\u001b[0m\u001b[0m\n\u001b[0;32m   3206\u001b[0m         \u001b[1;32mif\u001b[0m \u001b[0mpath_or_buf\u001b[0m \u001b[1;32mis\u001b[0m \u001b[1;32mNone\u001b[0m\u001b[1;33m:\u001b[0m\u001b[1;33m\u001b[0m\u001b[1;33m\u001b[0m\u001b[0m\n",
      "\u001b[1;32m~\\Anaconda3\\lib\\site-packages\\pandas\\io\\formats\\csvs.py\u001b[0m in \u001b[0;36msave\u001b[1;34m(self)\u001b[0m\n\u001b[0;32m    186\u001b[0m                 \u001b[0mself\u001b[0m\u001b[1;33m.\u001b[0m\u001b[0mmode\u001b[0m\u001b[1;33m,\u001b[0m\u001b[1;33m\u001b[0m\u001b[1;33m\u001b[0m\u001b[0m\n\u001b[0;32m    187\u001b[0m                 \u001b[0mencoding\u001b[0m\u001b[1;33m=\u001b[0m\u001b[0mself\u001b[0m\u001b[1;33m.\u001b[0m\u001b[0mencoding\u001b[0m\u001b[1;33m,\u001b[0m\u001b[1;33m\u001b[0m\u001b[1;33m\u001b[0m\u001b[0m\n\u001b[1;32m--> 188\u001b[1;33m                 \u001b[0mcompression\u001b[0m\u001b[1;33m=\u001b[0m\u001b[0mdict\u001b[0m\u001b[1;33m(\u001b[0m\u001b[0mself\u001b[0m\u001b[1;33m.\u001b[0m\u001b[0mcompression_args\u001b[0m\u001b[1;33m,\u001b[0m \u001b[0mmethod\u001b[0m\u001b[1;33m=\u001b[0m\u001b[0mself\u001b[0m\u001b[1;33m.\u001b[0m\u001b[0mcompression\u001b[0m\u001b[1;33m)\u001b[0m\u001b[1;33m,\u001b[0m\u001b[1;33m\u001b[0m\u001b[1;33m\u001b[0m\u001b[0m\n\u001b[0m\u001b[0;32m    189\u001b[0m             )\n\u001b[0;32m    190\u001b[0m             \u001b[0mclose\u001b[0m \u001b[1;33m=\u001b[0m \u001b[1;32mTrue\u001b[0m\u001b[1;33m\u001b[0m\u001b[1;33m\u001b[0m\u001b[0m\n",
      "\u001b[1;32m~\\Anaconda3\\lib\\site-packages\\pandas\\io\\common.py\u001b[0m in \u001b[0;36mget_handle\u001b[1;34m(path_or_buf, mode, encoding, compression, memory_map, is_text)\u001b[0m\n\u001b[0;32m    426\u001b[0m         \u001b[1;32mif\u001b[0m \u001b[0mencoding\u001b[0m\u001b[1;33m:\u001b[0m\u001b[1;33m\u001b[0m\u001b[1;33m\u001b[0m\u001b[0m\n\u001b[0;32m    427\u001b[0m             \u001b[1;31m# Encoding\u001b[0m\u001b[1;33m\u001b[0m\u001b[1;33m\u001b[0m\u001b[1;33m\u001b[0m\u001b[0m\n\u001b[1;32m--> 428\u001b[1;33m             \u001b[0mf\u001b[0m \u001b[1;33m=\u001b[0m \u001b[0mopen\u001b[0m\u001b[1;33m(\u001b[0m\u001b[0mpath_or_buf\u001b[0m\u001b[1;33m,\u001b[0m \u001b[0mmode\u001b[0m\u001b[1;33m,\u001b[0m \u001b[0mencoding\u001b[0m\u001b[1;33m=\u001b[0m\u001b[0mencoding\u001b[0m\u001b[1;33m,\u001b[0m \u001b[0mnewline\u001b[0m\u001b[1;33m=\u001b[0m\u001b[1;34m\"\"\u001b[0m\u001b[1;33m)\u001b[0m\u001b[1;33m\u001b[0m\u001b[1;33m\u001b[0m\u001b[0m\n\u001b[0m\u001b[0;32m    429\u001b[0m         \u001b[1;32melif\u001b[0m \u001b[0mis_text\u001b[0m\u001b[1;33m:\u001b[0m\u001b[1;33m\u001b[0m\u001b[1;33m\u001b[0m\u001b[0m\n\u001b[0;32m    430\u001b[0m             \u001b[1;31m# No explicit encoding\u001b[0m\u001b[1;33m\u001b[0m\u001b[1;33m\u001b[0m\u001b[1;33m\u001b[0m\u001b[0m\n",
      "\u001b[1;31mFileNotFoundError\u001b[0m: [Errno 2] No such file or directory: '/Users/rvanniekerk/OneDrive - Deloitte (O365D)/ML Guild Emminence/Apprentice ML Guild Course/Apprentice_Level_04222019/Day 1/Outputs/crayola.csv'"
     ]
    }
   ],
   "source": [
    "crayola.to_csv('/Users/rvanniekerk/OneDrive - Deloitte (O365D)/ML Guild Emminence/Apprentice ML Guild Course/Apprentice_Level_04222019/Day 1/Outputs/crayola.csv', index=False)"
   ]
  },
  {
   "cell_type": "markdown",
   "metadata": {},
   "source": [
    "## Example 3:  Plotly - Brief Overview\n",
    "*5 Minutes*\n",
    "\n",
    "Python plotting library for collaborative, interactive, publication-quality graphs.\n",
    "\n",
    "[Plotly Website Link](https://pypi.org/project/plotly/)\n",
    "\n",
    "*Note: Plotly will not work if you have run the above cells multiple times. Please click on 'Kernel' and select Restart & Clear Output as the incoming data needs to be correct*\n",
    "*Note: Plotly also has a rendering bug while using JupyterLab, so if your graph does not render open a Jupyter Notebook as that should work*"
   ]
  },
  {
   "cell_type": "code",
   "execution_count": 26,
   "metadata": {
    "scrolled": true
   },
   "outputs": [
    {
     "ename": "ModuleNotFoundError",
     "evalue": "No module named 'plotly'",
     "output_type": "error",
     "traceback": [
      "\u001b[1;31m---------------------------------------------------------------------------\u001b[0m",
      "\u001b[1;31mModuleNotFoundError\u001b[0m                       Traceback (most recent call last)",
      "\u001b[1;32m<ipython-input-26-7d7d3e90faeb>\u001b[0m in \u001b[0;36m<module>\u001b[1;34m\u001b[0m\n\u001b[0;32m      3\u001b[0m \u001b[1;31m# py.init_notebook_mode(connected=False)\u001b[0m\u001b[1;33m\u001b[0m\u001b[1;33m\u001b[0m\u001b[1;33m\u001b[0m\u001b[0m\n\u001b[0;32m      4\u001b[0m \u001b[1;33m\u001b[0m\u001b[0m\n\u001b[1;32m----> 5\u001b[1;33m \u001b[1;32mimport\u001b[0m \u001b[0mplotly\u001b[0m\u001b[1;33m.\u001b[0m\u001b[0moffline\u001b[0m \u001b[1;32mas\u001b[0m \u001b[0mpy\u001b[0m\u001b[1;33m\u001b[0m\u001b[1;33m\u001b[0m\u001b[0m\n\u001b[0m\u001b[0;32m      6\u001b[0m \u001b[1;32mfrom\u001b[0m \u001b[0mplotly\u001b[0m \u001b[1;32mimport\u001b[0m \u001b[0m__version__\u001b[0m\u001b[1;33m\u001b[0m\u001b[1;33m\u001b[0m\u001b[0m\n\u001b[0;32m      7\u001b[0m \u001b[1;32mfrom\u001b[0m \u001b[0mplotly\u001b[0m\u001b[1;33m.\u001b[0m\u001b[0moffline\u001b[0m \u001b[1;32mimport\u001b[0m \u001b[0minit_notebook_mode\u001b[0m\u001b[1;33m,\u001b[0m \u001b[0miplot\u001b[0m\u001b[1;33m\u001b[0m\u001b[1;33m\u001b[0m\u001b[0m\n",
      "\u001b[1;31mModuleNotFoundError\u001b[0m: No module named 'plotly'"
     ]
    }
   ],
   "source": [
    "# import plotly.offline as py\n",
    "# import plotly.graph_objs as go\n",
    "# py.init_notebook_mode(connected=False)\n",
    "\n",
    "import plotly.offline as py\n",
    "from plotly import __version__\n",
    "from plotly.offline import init_notebook_mode, iplot\n",
    "from plotly.graph_objs import Scatter\n",
    "import plotly.graph_objs as go\n",
    "\n",
    "py.init_notebook_mode(connected=False)"
   ]
  },
  {
   "cell_type": "code",
   "execution_count": 27,
   "metadata": {},
   "outputs": [
    {
     "ename": "NameError",
     "evalue": "name '__version__' is not defined",
     "output_type": "error",
     "traceback": [
      "\u001b[1;31m---------------------------------------------------------------------------\u001b[0m",
      "\u001b[1;31mNameError\u001b[0m                                 Traceback (most recent call last)",
      "\u001b[1;32m<ipython-input-27-baf45f3c8a56>\u001b[0m in \u001b[0;36m<module>\u001b[1;34m\u001b[0m\n\u001b[1;32m----> 1\u001b[1;33m \u001b[0mprint\u001b[0m\u001b[1;33m(\u001b[0m\u001b[1;34m\"Plotly Version\"\u001b[0m\u001b[1;33m,\u001b[0m\u001b[0m__version__\u001b[0m\u001b[1;33m)\u001b[0m\u001b[1;33m\u001b[0m\u001b[1;33m\u001b[0m\u001b[0m\n\u001b[0m",
      "\u001b[1;31mNameError\u001b[0m: name '__version__' is not defined"
     ]
    }
   ],
   "source": [
    "print(\"Plotly Version\",__version__)"
   ]
  },
  {
   "cell_type": "code",
   "execution_count": null,
   "metadata": {},
   "outputs": [],
   "source": [
    "trace = go.Scatter3d(\n",
    "    x = crayola['red'],\n",
    "    y = crayola['green'],\n",
    "    z = crayola['blue'],\n",
    "    mode = 'markers',\n",
    "    marker = dict(\n",
    "        color = crayola['hex'].tolist(),\n",
    "        size = 5,\n",
    "        symbol = 'circle',\n",
    "        opacity = 1))\n",
    "\n",
    "layout = go.Layout(margin=dict(l=0, r=0, b=0, t=0))"
   ]
  },
  {
   "cell_type": "code",
   "execution_count": null,
   "metadata": {
    "scrolled": false
   },
   "outputs": [],
   "source": [
    "fig = go.Figure(data=[trace],layout=layout)\n",
    "py.iplot(fig, filename='Crayola_Scatter.html')"
   ]
  },
  {
   "cell_type": "markdown",
   "metadata": {},
   "source": [
    "## Exercise # 2: Getting Data\n",
    "*30 Minutes*\n",
    "\n",
    "Build out our training dataset by studying the API documentation on the Cooper Hewit Website. We need a dataset with the museum curent objects on display (only 100 items), the images associated with those items, and the color(s) of those items.\n",
    "\n",
    "* Store the the name of the objects and other meta data in a csv called `current_collection.csv`\n",
    "* Place the images in a folder named `collection_images`.\n",
    "  * You can used the request method `content` to access the file to write it to a file.\n",
    "  * Raw Example: `open('image.jpg', 'wb').write(request.content)`\n",
    "* Grab the color information and place it another csv `current_collection_colors.csv`\n",
    "\n",
    "The API documentation is available [here](https://collection.cooperhewitt.org/api/methods/). You will want to use the following end points: \n",
    "1. [`getOnDisplay`](https://collection.cooperhewitt.org/api/methods/cooperhewitt.objects.getOnDisplay)\n",
    "2. [`getImages`](https://collection.cooperhewitt.org/api/methods/cooperhewitt.objects.getImages)\n",
    "3. [`getColors`](https://collection.cooperhewitt.org/api/methods/cooperhewitt.objects.getColors)\n",
    "\n",
    "key = \"84976de03204c1d366ae0224bf21d103\", \n",
    "token = \"2f49c9d05b2faf779d11420637d99f57\"\n",
    "\n",
    "[hint 1: Break down your problem and use pd.DataFrame.from_records(r.json()) or just simply r.json() to view data as a starting point](https://pandas.pydata.org/pandas-docs/stable/reference/api/pandas.DataFrame.from_records.html)"
   ]
  },
  {
   "cell_type": "markdown",
   "metadata": {},
   "source": [
    "## Ex: 2.1 - (getOnDisplay) Let's start by using the object.getOnDisplay api call to get all items on display at the Museum \n",
    "\n",
    "1. You're free to achieve this however you wish.\n",
    "2. Limit the number of items in your DataFrame to 100.\n",
    "3. Write all 100 resultant rows and fields to a DataFrame."
   ]
  },
  {
   "cell_type": "code",
   "execution_count": 28,
   "metadata": {},
   "outputs": [],
   "source": [
    "import pandas as pd\n",
    "import requests"
   ]
  },
  {
   "cell_type": "code",
   "execution_count": 29,
   "metadata": {},
   "outputs": [],
   "source": [
    "#Here's something to get you started, it contains the URL and payload with embedded method you need to use.\n",
    "token = \"2f49c9d05b2faf779d11420637d99f57\"\n",
    "api = 'https://api.collection.cooperhewitt.org/rest/?'\n",
    "\n",
    "\n",
    "payload = {'access_token': token,\n",
    "              'method': 'cooperhewitt.objects.getOnDisplay'}\n",
    "\n",
    "r = requests.get(api, params=payload)"
   ]
  },
  {
   "cell_type": "code",
   "execution_count": 30,
   "metadata": {},
   "outputs": [],
   "source": [
    "# Start by breaking down the problem."
   ]
  },
  {
   "cell_type": "code",
   "execution_count": 31,
   "metadata": {},
   "outputs": [],
   "source": [
    "# When you understand how your data is structured and what you would like to achieve, try building a function to do this for you. For this excercise it's not a requirement."
   ]
  },
  {
   "cell_type": "code",
   "execution_count": 32,
   "metadata": {},
   "outputs": [],
   "source": [
    "# Write your results to a CSV using the to_csv() method - you can quickly determine a path by typing \"pwd\" into a cell and running it."
   ]
  },
  {
   "cell_type": "code",
   "execution_count": null,
   "metadata": {},
   "outputs": [],
   "source": []
  },
  {
   "cell_type": "code",
   "execution_count": null,
   "metadata": {},
   "outputs": [],
   "source": []
  },
  {
   "cell_type": "code",
   "execution_count": null,
   "metadata": {},
   "outputs": [],
   "source": []
  },
  {
   "cell_type": "markdown",
   "metadata": {},
   "source": [
    "## Ex: 2.2 - getImages: Now let's build a function that uses the object.getImages method api call to retrieve and store our images.\n",
    "\n",
    "1. Grab 100 Images using the getImages method.\n",
    "2. Write all 100 image's to the specified folder on your local system (see hints below).\n",
    "3. Remember each image has an object_id associated with it incase you were wondering which variable to loop through.\n",
    "\n",
    "[hint 2: os python library helps you write/read files on your local system](https://docs.python.org/3/library/os.html)"
   ]
  },
  {
   "cell_type": "code",
   "execution_count": 33,
   "metadata": {},
   "outputs": [],
   "source": [
    "# Here's something to get you started, it contains the URL and payload with embedded method you need to use. Please note that in this case a function would \n",
    "# be very helpfull in order to loop through your data. I've given you a head start by passing a single object_id. You will need to figure out how to loop through your set of 100 ojbect\n",
    "# id's, writing them to the folder called collection_images.\n",
    "\n",
    "token = \"2f49c9d05b2faf779d11420637d99f57\"\n",
    "api = 'https://api.collection.cooperhewitt.org/rest/?'     \n",
    "payload = {'access_token': token,\n",
    "           'method': 'cooperhewitt.objects.getImages',\n",
    "           'object_id': '18488027'}\n",
    "\n",
    "r = requests.get(api, params=payload)\n",
    "\n",
    "obj = pd.DataFrame.from_records(r.json())"
   ]
  },
  {
   "cell_type": "code",
   "execution_count": 34,
   "metadata": {},
   "outputs": [],
   "source": [
    "# Start by breaking down the problem."
   ]
  },
  {
   "cell_type": "code",
   "execution_count": 35,
   "metadata": {},
   "outputs": [],
   "source": [
    "# When you understand how your data is structured and what you would like to achieve, you'll need to build a function that loops through your objects to accomplish this."
   ]
  },
  {
   "cell_type": "code",
   "execution_count": 36,
   "metadata": {},
   "outputs": [],
   "source": [
    "# Run your function sending a request to the url/token using the API method getImages and write each image to the specified file path .../your_directory/collection_images"
   ]
  },
  {
   "cell_type": "code",
   "execution_count": null,
   "metadata": {},
   "outputs": [],
   "source": []
  },
  {
   "cell_type": "code",
   "execution_count": null,
   "metadata": {},
   "outputs": [],
   "source": []
  },
  {
   "cell_type": "code",
   "execution_count": null,
   "metadata": {},
   "outputs": [],
   "source": []
  },
  {
   "cell_type": "markdown",
   "metadata": {},
   "source": [
    "## Ex: 2.3 - getColors: Now let's build a function that uses the object.getColors method api call to retrieve and store the 'colors' in a .csv file\n",
    "\n",
    "1. You will want to do something similar to the previous two exercises, except this time you will be writing the data retreived to a csv.\n",
    "2. Done worry about parsing out the 'colors' field or converting the hex values. Just grab the data and drop it into a .csv.\n",
    "3. Limit the data to 100 rows as in the previous two exercises"
   ]
  },
  {
   "cell_type": "code",
   "execution_count": 37,
   "metadata": {},
   "outputs": [
    {
     "ename": "NameError",
     "evalue": "name 'i' is not defined",
     "output_type": "error",
     "traceback": [
      "\u001b[1;31m---------------------------------------------------------------------------\u001b[0m",
      "\u001b[1;31mNameError\u001b[0m                                 Traceback (most recent call last)",
      "\u001b[1;32m<ipython-input-37-e5a0e760d6a0>\u001b[0m in \u001b[0;36m<module>\u001b[1;34m\u001b[0m\n\u001b[0;32m      3\u001b[0m payload = {'access_token': token,\n\u001b[0;32m      4\u001b[0m            \u001b[1;34m'method'\u001b[0m\u001b[1;33m:\u001b[0m \u001b[1;34m'cooperhewitt.objects.getColors'\u001b[0m\u001b[1;33m,\u001b[0m\u001b[1;33m\u001b[0m\u001b[1;33m\u001b[0m\u001b[0m\n\u001b[1;32m----> 5\u001b[1;33m            'object_id': i}\n\u001b[0m\u001b[0;32m      6\u001b[0m \u001b[1;33m\u001b[0m\u001b[0m\n\u001b[0;32m      7\u001b[0m \u001b[0mr\u001b[0m \u001b[1;33m=\u001b[0m \u001b[0mrequests\u001b[0m\u001b[1;33m.\u001b[0m\u001b[0mget\u001b[0m\u001b[1;33m(\u001b[0m\u001b[0mapi\u001b[0m\u001b[1;33m,\u001b[0m \u001b[0mparams\u001b[0m\u001b[1;33m=\u001b[0m\u001b[0mpayload\u001b[0m\u001b[1;33m)\u001b[0m\u001b[1;33m\u001b[0m\u001b[1;33m\u001b[0m\u001b[0m\n",
      "\u001b[1;31mNameError\u001b[0m: name 'i' is not defined"
     ]
    }
   ],
   "source": [
    "# Heres' something to get you started. We're going to give you less information this time around since if you've made it this far you're doing well.\n",
    "\n",
    "payload = {'access_token': token,\n",
    "           'method': 'cooperhewitt.objects.getColors',\n",
    "           'object_id': i}\n",
    "\n",
    "r = requests.get(api, params=payload)\n",
    "\n",
    "obj_col = pd.DataFrame.from_records(r.json())"
   ]
  },
  {
   "cell_type": "code",
   "execution_count": null,
   "metadata": {},
   "outputs": [],
   "source": [
    "# Start by breaking down the problem."
   ]
  },
  {
   "cell_type": "code",
   "execution_count": null,
   "metadata": {},
   "outputs": [],
   "source": [
    "# When you understand how your data is structured and what you would like to achieve, you would probably smart to build a function that loops through your objects to accomplish this."
   ]
  },
  {
   "cell_type": "code",
   "execution_count": null,
   "metadata": {},
   "outputs": [],
   "source": [
    "# Run your function sending a request to the url/token using the API method getImages and write each image to the specified file path .../your_directory/current_collection_colors"
   ]
  },
  {
   "cell_type": "code",
   "execution_count": null,
   "metadata": {},
   "outputs": [],
   "source": []
  },
  {
   "cell_type": "code",
   "execution_count": null,
   "metadata": {},
   "outputs": [],
   "source": []
  },
  {
   "cell_type": "code",
   "execution_count": null,
   "metadata": {},
   "outputs": [],
   "source": []
  },
  {
   "cell_type": "markdown",
   "metadata": {},
   "source": [
    "## Example 3: Intro to Web Scraping <a id=2></a>\n",
    "\n",
    "*5 - 10 Minutes*\n",
    "\n",
    "Often times data is not available in the neat & tidy formats we are used from databases and APIs. We need to go out into the world and capture the data.\n",
    "\n",
    "Enter web scraping which is the process of crawling a website(s) and extracting structured information from the pages of the site(s).\n",
    "\n",
    "There are a whole host of ethical concerns with web scraping. Make sure to read a site's `robots.txt` before initating a web scraping project: ex. https://www.buzzfeed.com/robots.txt\n",
    "\n",
    " - [Beautiful Soup: Python bs4 lib](https://www.crummy.com/software/BeautifulSoup/bs4/doc/)\n",
    "\n",
    " - [Regexp: Python re lib](https://docs.python.org/3/library/re.html)\n",
    "\n",
    " - [HTML Tags](https://www.w3schools.com/tags/tag_p.asp)\n",
    "\n",
    " - [What is a robot.txt file and how to find it](https://moz.com/learn/seo/robotstxt)"
   ]
  },
  {
   "cell_type": "code",
   "execution_count": 38,
   "metadata": {},
   "outputs": [],
   "source": [
    "from bs4 import BeautifulSoup # a python HTML parser\n",
    "import re #Regular expressions\n",
    "import requests\n",
    "import pandas as pd"
   ]
  },
  {
   "cell_type": "markdown",
   "metadata": {},
   "source": [
    "### Weather Data <a id=2A></a>\n",
    "\n",
    "Let's focus on grabbing general weather data & forecasts"
   ]
  },
  {
   "cell_type": "code",
   "execution_count": 39,
   "metadata": {},
   "outputs": [
    {
     "data": {
      "text/plain": [
       "200"
      ]
     },
     "execution_count": 39,
     "metadata": {},
     "output_type": "execute_result"
    }
   ],
   "source": [
    "url = \"http://forecast.weather.gov/MapClick.php?lat=38.8904&lon=-77.032#.WpNL-ejwaUk\"\n",
    "r = requests.get(url)\n",
    "r.status_code"
   ]
  },
  {
   "cell_type": "code",
   "execution_count": 40,
   "metadata": {
    "scrolled": true
   },
   "outputs": [
    {
     "data": {
      "text/plain": [
       "b'<!DOCTYPE html>\\n<html class=\"no-js\">\\n    <head>\\n        <!-- Meta -->\\n        <meta name=\"viewport\" content=\"width=device-width\">\\n        <link rel=\"schema.DC\" href=\"http://purl.org/dc/elements/1.1/\" /><title>National Weather Service</title><meta name=\"DC.title\" content=\"National Weather Service\" /><meta name=\"DC.description\" content=\"NOAA National Weather Service National Weather Service\" /><meta name=\"DC.creator\" content=\"US Department of Commerce, NOAA, National Weather Service\" /><meta name=\"DC.date.created\" scheme=\"ISO8601\" content=\"\" /><meta name=\"DC.language\" scheme=\"DCTERMS.RFC1766\" content=\"EN-US\" /><meta name=\"DC.keywords\" content=\"weather, National Weather Service\" /><meta name=\"DC.publisher\" content=\"NOAA\\'s National Weather Service\" /><meta name=\"DC.contributor\" content=\"National Weather Service\" /><meta name=\"DC.rights\" content=\"http://www.weather.gov/disclaimer.php\" /><meta name=\"rating\" content=\"General\" /><meta name=\"robots\" content=\"index,follow\" />\\n\\n        <!-- Icons -->\\n        <link rel=\"shortcut icon\" href=\"./images/favicon.ico\" type=\"image/x-icon\" />\\n\\n        <!-- CSS -->\\n        <link rel=\"stylesheet\" href=\"css/bootstrap-3.2.0.min.css\">\\n        <link rel=\"stylesheet\" href=\"css/bootstrap-theme-3.2.0.min.css\">\\n        <link rel=\"stylesheet\" href=\"css/font-awesome-4.3.0.min.css\">\\n        <link rel=\"stylesheet\" href=\"css/ol-4.6.4.css\" type=\"text/css\">\\n        <link rel=\"stylesheet\" type=\"text/css\" href=\"css/mapclick.css\" />\\n        <!--[if lte IE 7]><link rel=\"stylesheet\" type=\"text/css\" href=\"css/bootstrap-ie7.css\" /><![endif]-->\\n        <!--[if lte IE 9]><link rel=\"stylesheet\" type=\"text/css\" href=\"css/mapclick-ie.css\" /><![endif]-->\\n        <link rel=\"stylesheet\" type=\"text/css\" href=\"css/print.css\" />\\n        <link rel=\"stylesheet\" type=\"text/css\" href=\"css/search.css\" />\\n\\n        <!-- Javascript -->\\n        <script type=\"text/javascript\" src=\"js/lib/modernizr-2.8.3.js\"></script>\\n        <script type=\"text/javascript\" src=\"js/lib/json3-3.3.2.min.js\"></script>\\n        <script type=\"text/javascript\" src=\"js/lib/jquery-1.11.3.min.js\"></script>\\n        <script type=\"text/javascript\" src=\"js/lib/jquery.hoverIntent-1.8.1.min.js\"></script>\\n        <script type=\"text/javascript\" src=\"js/lib/bootstrap-3.2.0.min.js\"></script>\\n        <script type=\"text/javascript\" src=\"js/lib/ol-4.6.4.js\"></script>\\n        <!--[if lte IE 8]><script type=\"text/javascript\" src=\"js/respond.min.js\"></script><![endif]-->\\n        <script type=\"text/javascript\" src=\"js/jquery.autocomplete.min.js\"></script>\\n        <script type=\"text/javascript\" src=\"js/cfisurvey/cfi.js?v2\"></script>\\n        <script type=\"text/javascript\" src=\"js/forecast.esri.js\"></script>\\n        <script type=\"text/javascript\" src=\"js/forecast.search.js\"></script>\\n        <script type=\"text/javascript\" src=\"js/forecast.openlayers.js\"></script>\\n        <script type=\"text/javascript\" src=\"js/browserSniffer.js\"></script>\\n        <script type=\"text/javascript\" src=\"js/federated-analytics.js\"></script>\\n        <script type=\"javascript\">\\n// ForeSee Staging Embed Script v2.01\\n// DO NOT MODIFY BELOW THIS LINE *****************************************\\n;(function (g) {\\n  var d = document, am = d.createElement(\\'script\\'), h = d.head || d.getElementsByTagName(\"head\")[0], fsr = \\'fsReady\\',\\n  aex = { \\n    \"src\": \"//gateway.foresee.com/sites/weather-gov/production/gateway.min.js\",\\n    \"type\": \"text/javascript\", \\n    \"async\": \"true\", \\n    \"data-vendor\": \"fs\", \\n    \"data-role\": \"gateway\" \\n  };\\n  for (var attr in aex) { am.setAttribute(attr, aex[attr]); } h.appendChild(am); g[fsr] || (g[fsr] = function () { var aT = \\'__\\' + fsr + \\'_stk__\\'; g[aT] = g[aT] || []; g[aT].push(arguments); });\\n})(window);\\n// DO NOT MODIFY ABOVE THIS LINE *****************************************\\n</script>\\n        <script type=\"text/javascript\">\\n            (function (i, s, o, g, r, a, m) {\\n                i[\\'GoogleAnalyticsObject\\'] = r;\\n                i[r] = i[r] || function () {\\n                    (i[r].q = i[r].q || []).push(arguments)\\n                }, i[r].l = 1 * new Date();\\n                a = s.createElement(o),\\n                        m = s.getElementsByTagName(o)[0];\\n                a.async = 1;\\n                a.src = g;\\n                m.parentNode.insertBefore(a, m)\\n            })(window, document, \\'script\\', \\'//www.google-analytics.com/analytics.js\\', \\'ga\\');\\n\\n            ga(\\'create\\', \\'UA-40768555-1\\', \\'weather.gov\\', {\\'sampleRate\\': 6});\\n            ga(\\'set\\', \\'anonymizeIp\\', true);\\n            ga(\\'require\\', \\'linkid\\');\\n            ga(\\'send\\', \\'pageview\\');\\n        </script>\\n\\n    </head>\\n    <body>\\n        <main class=\"container\">\\n            \\t\\t<header class=\"row clearfix\" id=\"page-header\">\\r\\n\\t\\t\\t<a href=\"http://www.noaa.gov\" id=\"header-noaa\" class=\"pull-left\"><img src=\"/css/images/header_noaa.png\" alt=\"National Oceanic and Atmospheric Administration\"/></a>\\r\\n\\t\\t\\t<a href=\"http://www.weather.gov\" id=\"header-nws\" class=\"pull-left\"><img src=\"/css/images/header_nws.png\" alt=\"National Weather Service\"/></a>\\r\\n\\t\\t\\t<a href=\"http://www.commerce.gov\" id=\"header-doc\" class=\"pull-right\"><img src=\"/css/images/header_doc.png\" alt=\"United States Department of Commerce\"/></a>\\r\\n\\t\\t</header>\\r\\n\\t\\t\\n                    <nav class=\"navbar navbar-default row\" role=\"navigation\">\\r\\n            <div class=\"container-fluid\">\\r\\n                <div class=\"navbar-header\">\\r\\n                    <button type=\"button\" class=\"navbar-toggle collapsed\" data-toggle=\"collapse\" data-target=\"#top-nav\">\\r\\n                        <span class=\"sr-only\">Toggle navigation</span>\\r\\n                        <span class=\"icon-bar\"></span>\\r\\n                        <span class=\"icon-bar\"></span>\\r\\n                        <span class=\"icon-bar\"></span>\\r\\n                    </button>\\r\\n                </div>\\r\\n                <div class=\"collapse navbar-collapse\" id=\"top-nav\">\\r\\n                    <ul class=\"nav navbar-nav\">\\r\\n                        <li><a href=\"http://www.weather.gov\">HOME</a></li>\\r\\n                        <li class=\"dropdown\"><a href=\"http://www.weather.gov/forecastmaps\" class=\"dropdown-toggle\" data-toggle=\"dropdown\">FORECAST&nbsp;<span class=\"caret\"></span></a><ul class=\"dropdown-menu\" role=\"menu\"><li><a href=\"http://www.weather.gov\">Local</a></li><li><a href=\"http://digital.weather.gov\">Graphical</a></li><li><a href=\"http://www.aviationweather.gov/\">Aviation</a></li><li><a href=\"http://www.nws.noaa.gov/om/marine/home.htm\">Marine</a></li><li><a href=\"http://water.weather.gov/ahps/\">Rivers and Lakes</a></li><li><a href=\"http://www.nhc.noaa.gov/\">Hurricanes</a></li><li><a href=\"http://www.spc.noaa.gov/\">Severe Weather</a></li><li><a href=\"http://www.weather.gov/fire/\">Fire Weather</a></li><li><a href=\"https://www.esrl.noaa.gov/gmd/grad/solcalc/sunrise.html\">Sun/Moon</a></li><li><a href=\"http://www.cpc.ncep.noaa.gov/\">Long Range Forecasts</a></li><li><a href=\"http://www.cpc.ncep.noaa.gov\">Climate Prediction</a></li><li><a href=\"https://www.swpc.noaa.gov/\">Space Weather</a></li></ul>                            </li>\\r\\n                            <li class=\"dropdown\"><a href=\"https://w2.weather.gov/climate\" class=\"dropdown-toggle\" data-toggle=\"dropdown\">PAST WEATHER&nbsp;<span class=\"caret\"></span></a><ul class=\"dropdown-menu\" role=\"menu\"><li><a href=\"https://w2.weather.gov/climate/\">Past Weather</a></li><li><a href=\"https://w2.weather.gov/climate/\">Heating/Cooling Days</a></li><li><a href=\"https://w2.weather.gov/climate/\">Monthly Temperatures</a></li><li><a href=\"https://w2.weather.gov/climate/\">Records</a></li><li><a href=\"http://aa.usno.navy.mil/\">Astronomical Data</a></li></ul>                            </li>\\r\\n                            <li class=\"dropdown\"><a href=\"http://www.weather.gov/safety\" class=\"dropdown-toggle\" data-toggle=\"dropdown\">SAFETY&nbsp;<span class=\"caret\"></span></a><ul class=\"dropdown-menu\" role=\"menu\"><li><a href=\"https://www.weather.gov/safety/flood\">Floods</a></li><li><a href=\"https://www.weather.gov/safety/tsunami\">Tsunamis</a></li><li><a href=\"https://www.weather.gov/safety/beachhazards\">Beach Hazards</a></li><li><a href=\"https://www.weather.gov/safety/wildfire\">Wildfire</a></li><li><a href=\"https://www.weather.gov/safety/cold\">Cold</a></li><li><a href=\"https://www.weather.gov/safety/tornado\">Tornadoes</a></li><li><a href=\"https://www.weather.gov/safety/airquality\">Air Quality</a></li><li><a href=\"https://www.weather.gov/safety/fog\">Fog</a></li><li><a href=\"https://www.weather.gov/safety/heat\">Heat</a></li><li><a href=\"https://www.weather.gov/safety/hurricane\">Hurricanes</a></li><li><a href=\"https://www.weather.gov/safety/lightning\">Lightning</a></li><li><a href=\"https://www.weather.gov/safety/safeboating\">Safe Boating</a></li><li><a href=\"https://www.weather.gov/safety/ripcurrent\">Rip Currents</a></li><li><a href=\"https://www.weather.gov/safety/thunderstorm\">Thunderstorms</a></li><li><a href=\"https://www.weather.gov/safety/space\">Space Weather</a></li><li><a href=\"https://www.weather.gov/safety/heat-uv\">Sun (Ultraviolet Radiation)</a></li><li><a href=\"http://www.weather.gov/safetycampaign\">Safety Campaigns</a></li><li><a href=\"https://www.weather.gov/safety/wind\">Wind</a></li><li><a href=\"https://www.weather.gov/safety/drought\">Drought</a></li><li><a href=\"https://www.weather.gov/safety/winter\">Winter Weather</a></li></ul>                            </li>\\r\\n                            <li class=\"dropdown\"><a href=\"http://www.weather.gov/informationcenter\" class=\"dropdown-toggle\" data-toggle=\"dropdown\">INFORMATION&nbsp;<span class=\"caret\"></span></a><ul class=\"dropdown-menu\" role=\"menu\"><li><a href=\"http://www.weather.gov/Owlie\\'s\">Owlie\\'s Kids Page</a></li><li><a href=\"http://www.weather.gov/wrn/wea\">Wireless Emergency Alerts</a></li><li><a href=\"https://www.weather.gov/owlie/publication_brochures\">Brochures</a></li><li><a href=\"http://www.weather.gov/wrn/\">Weather-Ready Nation</a></li><li><a href=\"https://www.weather.gov/coop/\">Cooperative Observers</a></li><li><a href=\"http://www.weather.gov/briefing/\">Daily Briefing</a></li><li><a href=\"http://www.nws.noaa.gov/om/hazstats.shtml\">Damage/Fatality/Injury Statistics</a></li><li><a href=\"http://mag.ncep.noaa.gov/\">Forecast Models</a></li><li><a href=\"https://www.weather.gov/gis\">GIS Data Portal</a></li><li><a href=\"https://www.weather.gov/nwr/\">NOAA Weather Radio</a></li><li><a href=\"http://weather.gov/publications\">Publications</a></li><li><a href=\"http://www.weather.gov/SKYWARN\">SKYWARN Storm Spotters</a></li><li><a href=\"http://www.weather.gov/StormReady\">StormReady</a></li><li><a href=\"https://www.weather.gov/TsunamiReady/\">TsunamiReady</a></li><li><a href=\"https://www.weather.gov/notification/\">Service Change Notices</a></li></ul>                            </li>\\r\\n                            <li class=\"dropdown\"><a href=\"http://www.weather.gov/owlie\" class=\"dropdown-toggle\" data-toggle=\"dropdown\">EDUCATION&nbsp;<span class=\"caret\"></span></a><ul class=\"dropdown-menu\" role=\"menu\"><li><a href=\"https://www.weather.gov/wrn/force\">Be A Force of Nature</a></li><li><a href=\"http://www.weather.gov/owlie\">NWS Education Home</a></li></ul>                            </li>\\r\\n                            <li class=\"dropdown\"><a href=\"http://www.weather.gov/contact-media/\" class=\"dropdown-toggle\" data-toggle=\"dropdown\">NEWS&nbsp;<span class=\"caret\"></span></a><ul class=\"dropdown-menu\" role=\"menu\"><li><a href=\"http://www.weather.gov/news\">NWS News</a></li><li><a href=\"https://www.weather.gov/wrn/calendar\">Events</a></li><li><a href=\"http://www.weather.gov/socialmedia\">Social Media</a></li><li><a href=\"https://www.weather.gov/owlie/publication_brochures\">Pubs/Brochures/Booklets </a></li><li><a href=\"http://www.noaa.gov/NOAA-Communications\">NWS Media Contacts</a></li></ul>                            </li>\\r\\n                            <li class=\"dropdown\"><a href=\"http://www.weather.gov/search\" class=\"dropdown-toggle\" data-toggle=\"dropdown\">SEARCH&nbsp;<span class=\"caret\"></span></a><ul class=\"dropdown-menu\" role=\"menu\">                                <li><!-- Begin search code -->\\r\\n                                    <div id=\"site-search\">\\r\\n                                        <form method=\"get\" action=\"//search.usa.gov/search\" style=\"margin-bottom: 0; margin-top: 0;\">\\r\\n                                            <input type=\"hidden\" name=\"v:project\" value=\"firstgov\" /> \\r\\n                                            <label for=\"query\">Search For</label> \\r\\n                                            <input type=\"text\" name=\"query\" id=\"query\" size=\"12\" /> \\r\\n                                            <input type=\"submit\" value=\"Go\" />\\r\\n                                            <p>\\r\\n                                                <input type=\"radio\" name=\"affiliate\" checked=\"checked\" value=\"nws.noaa.gov\" id=\"nws\" /> \\r\\n                                                <label for=\"nws\" class=\"search-scope\">NWS</label> \\r\\n                                                <input type=\"radio\" name=\"affiliate\" value=\"noaa.gov\" id=\"noaa\" /> \\r\\n                                                <label for=\"noaa\" class=\"search-scope\">All NOAA</label>\\r\\n                                            </p>\\r\\n                                        </form>\\r\\n                                    </div>\\r\\n                                </li>\\r\\n                                </ul>                            </li>\\r\\n                            <li class=\"dropdown\"><a href=\"http://www.weather.gov/about\" class=\"dropdown-toggle\" data-toggle=\"dropdown\">ABOUT&nbsp;<span class=\"caret\"></span></a><ul class=\"dropdown-menu\" role=\"menu\"><li><a href=\"http://www.weather.gov/about\">About NWS</a></li><li><a href=\"http://www.weather.gov/organization\">Organization</a></li><li><a href=\"https://www.weather.gov/media/wrn/NWS_Weather-Ready-Nation_Strategic_Plan_2019-2022.pdf\">Strategic Plan</a></li><li><a href=\"https://sites.google.com/a/noaa.gov/nws-insider/\">For NWS Employees</a></li><li><a href=\"http://www.weather.gov/international/\">International</a></li><li><a href=\"http://www.weather.gov/organization\">National Centers</a></li><li><a href=\"http://www.weather.gov/careers/\">Careers</a></li><li><a href=\"http://www.weather.gov/contact\">Contact Us</a></li><li><a href=\"https://w1.weather.gov/glossary\">Glossary</a></li></ul>                            </li>\\r\\n                                                </ul>\\r\\n                </div>\\r\\n            </div>\\r\\n        </nav>\\r\\n        \\n\\t    <div class=\"contentArea\">\\n\\t\\t\\t<!-- Start Forecastsearch -->\\n\\t<div class=\"\" id=\"fcst-search\">\\n\\t    <form name=\"getForecast\" id=\"getForecast\" class=\"form-inline\" role=\"form\" action=\"https://forecast.weather.gov/zipcity.php\" method=\"get\">\\n\\t\\t<div id=\"getfcst-body\">\\n\\t\\t    <input name=\"inputstring\" type=\"text\" class=\"form-control\" id=\"inputstring\" placeholder=\"\" />\\n\\t\\t    <input name=\"btnSearch\" id=\"btnSearch\" class=\"btn btn-default\" type=\"submit\" value=\"Go\" />\\n\\t\\t    <div id=\"txtHelp\"><a href=\"javascript:void(window.open(\\'http://weather.gov/ForecastSearchHelp.html\\',\\'locsearchhelp\\',\\'status=0,toolbar=0,location=0,menubar=0,directories=0,resizable=1,scrollbars=1,height=500,width=530\\').focus());\">View Location Examples</a></div>\\n\\t\\t</div>\\n\\t\\t<div id=\"txtError\">\\n\\t\\t    <div id=\"errorNoResults\" style=\"display:none;\">Sorry, the location you searched for was not found. Please try another search.</div>\\n\\t\\t    <div id=\"errorMultipleResults\" style=\"display:none\">Multiple locations were found. Please select one of the following:</div>\\n\\t\\t    <div id=\"errorChoices\" style=\"display:none\"></div>\\n\\t\\t    <input id=\"btnCloseError\" type=\"button\" value=\"Close\" style=\"display:none\" />\\n\\t\\t</div>\\n\\t\\t<div id=\"getfcst-head\">\\n\\t\\t    <p>Your local forecast office is</p>\\n\\t\\t    <h3 id=\"getfcst-headOffice\"></h3>\\n\\t\\t</div>\\n\\t    </form>\\n\\t</div>\\n\\t<!-- end Forecastsearch -->\\n        \\n\\t\\t<link rel=\"stylesheet\" type=\"text/css\" href=\"/css/topnews.css\">\\n<div id=\"news-items\">\\n    <div id=\"topnews\">\\n    <div class=\"icon\"><img src=\"/images/news-important.jpg\"></div>\\n    <div class=\"body\">\\n        <h1 style=\"font-size: 11pt;\">Critical Fire Weather Conditions For Much of the West; Summer-Like Warmth for Parts of the Central and Southwest U.S.</h1>\\n        <p>\\n            Unsettled conditions in the Southeast, Mid Atlantic, and Pacific Northwest will gradually improve this weekend. Meanwhile, critical fire weather conditions are expected to persist over parts of the Rockies, Plains, and Great Basin. Widespread above normal temperatures are anticipated over much of the Central and Southwest U.S.\\n            <a href=\"http://www.wpc.ncep.noaa.gov/discussions/hpcdiscussions.php?disc=pmdspd\" target=\"_blank\">Read More &gt;</a>\\n        </p>\\n    </div>\\n</div>\\n\\n</div>\\n\\t\\t<script type=\"text/javascript\">(function ($) { var topnews = $(\"#topnews\"); topnews.hide(); $.get(\"siteNews.php\", {a:\"lwx\"},function(response){ if (response !== \"false\") topnews.replaceWith($(response)); topnews.show(); }); })(jQuery);</script><!-- PageFormat-Land -->\\n<script language=javascript>document.title = $(\\'<div/>\\').html(\\'7-Day Forecast for Latitude 38.89&deg;N and Longitude 77.02&deg;W (Elev. 20 ft)\\').text();</script><img src=\"images/track_land_point.png\" style=\"display:none;\" />\\n<div id=\"quickLinks\">\\n\\t<span class=\"lang-spanish\"><a href=\"//forecast.weather.gov/MapClick.php?lat=38.8904&lon=-77.032&lg=sp\">En Espa&ntilde;ol</a></span>\\n\\t<div class=\"addthis_toolbox addthis_default_style addthis-forecast\">\\n\\t    <a href=\"//www.addthis.com/bookmark.php?v=250&amp;pubid=ra-5127a6364d551d04\" class=\"addthis_button_compact\">Share</a>\\n\\t    <span class=\"addthis_separator\">|</span>\\n\\t    <a class=\"addthis_button_preferred_1\"></a>\\n\\t    <a class=\"addthis_button_preferred_2\"></a>\\n\\t    <a class=\"addthis_button_preferred_3\"></a>\\n\\t    <a class=\"addthis_button_preferred_4\"></a>\\n\\t    <a class=\"addthis_button_preferred_5\"></a>\\n\\t</div>\\n\\t<script type=\"text/javascript\">\\n\\t\\tvar addthis_config = addthis_config || {data_track_addressbar:true, pubid: \\'xa-4b05b2d91f18c9cc\\'};\\n\\t    $(document).ready(function(){\\n\\t\\t\\tjQuery.ajax({\\n\\t\\t\\t\\turl: \"//s7.addthis.com/js/300/addthis_widget.js#async=1\",\\n\\t\\t\\t\\tdataType: \"script\",\\n\\t\\t\\t\\tcache: false\\n\\t\\t\\t});\\n\\t    });\\n\\t</script>\\n</div>\\n\\n<!-- Current Conditions -->\\n<div id=\"current-conditions\" class=\"panel panel-default\">\\n\\n\\t<!-- Current Conditions header row -->\\n    <div class=\"panel-heading\">\\n\\t\\t<div>\\n\\t\\t    <b>Current conditions at</b>\\n\\t\\t    <h2 class=\"panel-title\">Washington/Reagan National Airport, DC (KDCA)</h2>\\n\\t\\t    <span class=\"smallTxt\"><b>Lat:&nbsp;</b>38.85&deg;N<b>Lon:&nbsp;</b>77.03&deg;W<b>Elev:&nbsp;</b>13ft.</span>\\n\\t    </div>\\n    </div>\\n    <div class=\"panel-body\" id=\"current-conditions-body\">\\n\\t\\t<!-- Graphic and temperatures -->\\n\\t\\t<div id=\"current_conditions-summary\" class=\"pull-left\" >\\n\\t\\t    \\t\\t    <img src=\"newimages/large/nra.png\" alt=\"\" class=\"pull-left\" />\\n\\t\\t    \\t\\t    <p class=\"myforecast-current\"> Light Drizzle Fog/Mist</p>\\n\\t\\t    <p class=\"myforecast-current-lrg\">69&deg;F</p>\\n\\t\\t    <p class=\"myforecast-current-sm\">21&deg;C</p>\\n\\t\\t</div>\\n\\t\\t<div id=\"current_conditions_detail\" class=\"pull-left\">\\n\\t\\t    <table>\\n            <tr>\\n            <td class=\"text-right\"><b>Humidity</b></td>\\n            <td>93%</td>\\n            </tr>\\n            <tr>\\n            <td class=\"text-right\"><b>Wind Speed</b></td>\\n            <td>Calm</td>\\n            </tr>\\n            <tr>\\n            <td class=\"text-right\"><b>Barometer</b></td>\\n            <td>29.98 in (1015.0 mb)</td>\\n            </tr>\\n            <tr>\\n            <td class=\"text-right\"><b>Dewpoint</b></td>\\n            <td>67&deg;F (19&deg;C)</td>\\n            </tr>\\n            <tr>\\n            <td class=\"text-right\"><b>Visibility</b></td>\\n            <td>2.50 mi</td>\\n            </tr>\\n                        <tr>\\n            <td class=\"text-right\"><b>Last update</b></td>\\n            <td>\\n                27 Sep 1:52 am EDT            </td>\\n            </tr>\\n\\t\\t    </table>\\n\\t\\t</div>\\n\\t\\t<div id=\"current_conditions_station\">\\n\\t\\t    <div class=\"current-conditions-extra\">\\n                            <!-- Right hand section -->\\n            <p class=\"moreInfo\"><b>More Information:</b></p><p><a id=\"localWFO\" href=\"https://www.weather.gov/lwx\" title=\"Baltimore, MD/Washington, D.C.\"><span class=\"hideText\">Local</span> Forecast Office</a><a id=\"moreWx\" href=\"obslocal.php?warnzone=DCZ001&local_place=Washington DC&zoneid=EDT&offset=14400\">More Local Wx</a><a id=\"3dayHist\" href=\"//www.weather.gov/data/obhistory/KDCA.html\">3 Day History</a><a id=\"mobileWxLink\" href=\"//mobile.weather.gov/index.php?lat=38.8904&lon=-77.032&unit=0&lg=english\">Mobile Weather</a><a id=\"wxGraph\" href=\"MapClick.php?lat=38.8904&lon=-77.032&unit=0&amp;lg=english&amp;FcstType=graphical\">Hourly <span class=\"hideText\">Weather </span>Forecast</a></p>\\t\\t    </div>\\n\\t\\t<!-- /current_conditions_station -->\\n\\t    </div>\\n\\t    <!-- /current-conditions-body -->\\n\\t</div>\\n<!-- /Current Conditions -->\\n</div>\\n\\n<!-- 7-Day Forecast -->\\n<div id=\"seven-day-forecast\" class=\"panel panel-default\">\\n    <div class=\"panel-heading\">\\n\\t<b>Extended Forecast for</b>\\n\\t<h2 class=\"panel-title\">\\n\\t    \\t    Washington DC\\t</h2>\\n    </div>\\n    <div class=\"panel-body\" id=\"seven-day-forecast-body\">\\n\\t\\t\\t<div id=\"seven-day-forecast-container\"><ul id=\"seven-day-forecast-list\" class=\"list-unstyled\"><li class=\"forecast-tombstone\">\\n<div class=\"tombstone-container\">\\n<p class=\"period-name\">Overnight<br><br></p>\\n<p><img src=\"newimages/medium/nra20.png\" alt=\"Overnight: Patchy drizzle and fog with isolated showers before 3am, then isolated showers after 3am.  Cloudy, with a low around 63. Calm wind.  Chance of precipitation is 20%.\" title=\"Overnight: Patchy drizzle and fog with isolated showers before 3am, then isolated showers after 3am.  Cloudy, with a low around 63. Calm wind.  Chance of precipitation is 20%.\" class=\"forecast-icon\"></p><p class=\"short-desc\">Patchy<br>Drizzle and<br>Patchy Fog</p><p class=\"temp temp-low\">Low: 63 &deg;F</p></div></li><li class=\"forecast-tombstone\">\\n<div class=\"tombstone-container\">\\n<p class=\"period-name\">Sunday<br><br></p>\\n<p><img src=\"newimages/medium/shra20.png\" alt=\"Sunday: Isolated showers.  Areas of fog before 11am.  Otherwise, mostly cloudy, with a high near 80. Calm wind becoming southeast around 6 mph in the afternoon.  Chance of precipitation is 20%.\" title=\"Sunday: Isolated showers.  Areas of fog before 11am.  Otherwise, mostly cloudy, with a high near 80. Calm wind becoming southeast around 6 mph in the afternoon.  Chance of precipitation is 20%.\" class=\"forecast-icon\"></p><p class=\"short-desc\">Isolated<br>Showers and<br>Areas Fog</p><p class=\"temp temp-high\">High: 80 &deg;F</p></div></li><li class=\"forecast-tombstone\">\\n<div class=\"tombstone-container\">\\n<p class=\"period-name\">Sunday<br>Night</p>\\n<p><img src=\"DualImage.php?i=nshra&j=novc&ip=20\" alt=\"Sunday Night: Isolated showers before 9pm.  Cloudy, with a low around 65. South wind around 6 mph.  Chance of precipitation is 20%.\" title=\"Sunday Night: Isolated showers before 9pm.  Cloudy, with a low around 65. South wind around 6 mph.  Chance of precipitation is 20%.\" class=\"forecast-icon\"></p><p class=\"short-desc\">Isolated<br>Showers then<br>Cloudy</p><p class=\"temp temp-low\">Low: 65 &deg;F</p></div></li><li class=\"forecast-tombstone\">\\n<div class=\"tombstone-container\">\\n<p class=\"period-name\">Monday<br><br></p>\\n<p><img src=\"newimages/medium/bkn.png\" alt=\"Monday: Partly sunny, with a high near 82. South wind 6 to 10 mph. \" title=\"Monday: Partly sunny, with a high near 82. South wind 6 to 10 mph. \" class=\"forecast-icon\"></p><p class=\"short-desc\">Partly Sunny</p><p class=\"temp temp-high\">High: 82 &deg;F</p></div></li><li class=\"forecast-tombstone\">\\n<div class=\"tombstone-container\">\\n<p class=\"period-name\">Monday<br>Night</p>\\n<p><img src=\"newimages/medium/hi_nshwrs40.png\" alt=\"Monday Night: A chance of showers, mainly after 3am.  Partly cloudy, with a low around 68. South wind 6 to 10 mph.  Chance of precipitation is 40%.\" title=\"Monday Night: A chance of showers, mainly after 3am.  Partly cloudy, with a low around 68. South wind 6 to 10 mph.  Chance of precipitation is 40%.\" class=\"forecast-icon\"></p><p class=\"short-desc\">Chance<br>Showers</p><p class=\"temp temp-low\">Low: 68 &deg;F</p></div></li><li class=\"forecast-tombstone\">\\n<div class=\"tombstone-container\">\\n<p class=\"period-name\">Tuesday<br><br></p>\\n<p><img src=\"newimages/medium/shra80.png\" alt=\"Tuesday: A chance of showers, then showers and possibly a thunderstorm after 9am.  High near 78. Chance of precipitation is 80%.\" title=\"Tuesday: A chance of showers, then showers and possibly a thunderstorm after 9am.  High near 78. Chance of precipitation is 80%.\" class=\"forecast-icon\"></p><p class=\"short-desc\">Showers</p><p class=\"temp temp-high\">High: 78 &deg;F</p></div></li><li class=\"forecast-tombstone\">\\n<div class=\"tombstone-container\">\\n<p class=\"period-name\">Tuesday<br>Night</p>\\n<p><img src=\"newimages/medium/nshra80.png\" alt=\"Tuesday Night: Showers and possibly a thunderstorm before 3am, then showers likely.  Low around 61. Chance of precipitation is 80%.\" title=\"Tuesday Night: Showers and possibly a thunderstorm before 3am, then showers likely.  Low around 61. Chance of precipitation is 80%.\" class=\"forecast-icon\"></p><p class=\"short-desc\">Showers</p><p class=\"temp temp-low\">Low: 61 &deg;F</p></div></li><li class=\"forecast-tombstone\">\\n<div class=\"tombstone-container\">\\n<p class=\"period-name\">Wednesday<br><br></p>\\n<p><img src=\"newimages/medium/shra60.png\" alt=\"Wednesday: Showers likely, mainly before 9am.  Mostly cloudy, with a high near 72. Chance of precipitation is 60%.\" title=\"Wednesday: Showers likely, mainly before 9am.  Mostly cloudy, with a high near 72. Chance of precipitation is 60%.\" class=\"forecast-icon\"></p><p class=\"short-desc\">Showers<br>Likely</p><p class=\"temp temp-high\">High: 72 &deg;F</p></div></li><li class=\"forecast-tombstone\">\\n<div class=\"tombstone-container\">\\n<p class=\"period-name\">Wednesday<br>Night</p>\\n<p><img src=\"newimages/medium/nshra40.png\" alt=\"Wednesday Night: A chance of showers.  Mostly cloudy, with a low around 57. Chance of precipitation is 40%.\" title=\"Wednesday Night: A chance of showers.  Mostly cloudy, with a low around 57. Chance of precipitation is 40%.\" class=\"forecast-icon\"></p><p class=\"short-desc\">Chance<br>Showers</p><p class=\"temp temp-low\">Low: 57 &deg;F</p></div></li></ul></div>\\n<script type=\"text/javascript\">\\n// equalize forecast heights\\n$(function () {\\n\\tvar maxh = 0;\\n\\t$(\".forecast-tombstone .short-desc\").each(function () {\\n\\t\\tvar h = $(this).height();\\n\\t\\tif (h > maxh) { maxh = h; }\\n\\t});\\n\\t$(\".forecast-tombstone .short-desc\").height(maxh);\\n});\\n</script>\\t</div>\\n</div>\\n\\n<!-- Everything between 7-Day Forecast and Footer goes in this row -->\\n<div id=\"floatingDivs\" class=\"row\">\\n    <!-- Everything on the left-hand side -->\\n    <div class=\"col-md-7 col-lg-8\">\\n        <!-- Detailed Forecast -->\\n        <div id=\"detailed-forecast\" class=\"panel panel-default\">\\n\\t    <div class=\"panel-heading\">\\n            <h2 class=\"panel-title\">Detailed Forecast</h2>\\n        </div>\\n\\t    <div class=\"panel-body\" id=\"detailed-forecast-body\">\\n            <div class=\"row row-odd row-forecast\"><div class=\"col-sm-2 forecast-label\"><b>Overnight</b></div><div class=\"col-sm-10 forecast-text\">Patchy drizzle and fog with isolated showers before 3am, then isolated showers after 3am.  Cloudy, with a low around 63. Calm wind.  Chance of precipitation is 20%.</div></div><div class=\"row row-even row-forecast\"><div class=\"col-sm-2 forecast-label\"><b>Sunday</b></div><div class=\"col-sm-10 forecast-text\">Isolated showers.  Areas of fog before 11am.  Otherwise, mostly cloudy, with a high near 80. Calm wind becoming southeast around 6 mph in the afternoon.  Chance of precipitation is 20%.</div></div><div class=\"row row-odd row-forecast\"><div class=\"col-sm-2 forecast-label\"><b>Sunday Night</b></div><div class=\"col-sm-10 forecast-text\">Isolated showers before 9pm.  Cloudy, with a low around 65. South wind around 6 mph.  Chance of precipitation is 20%.</div></div><div class=\"row row-even row-forecast\"><div class=\"col-sm-2 forecast-label\"><b>Monday</b></div><div class=\"col-sm-10 forecast-text\">Partly sunny, with a high near 82. South wind 6 to 10 mph. </div></div><div class=\"row row-odd row-forecast\"><div class=\"col-sm-2 forecast-label\"><b>Monday Night</b></div><div class=\"col-sm-10 forecast-text\">A chance of showers, mainly after 3am.  Partly cloudy, with a low around 68. South wind 6 to 10 mph.  Chance of precipitation is 40%.</div></div><div class=\"row row-even row-forecast\"><div class=\"col-sm-2 forecast-label\"><b>Tuesday</b></div><div class=\"col-sm-10 forecast-text\">A chance of showers, then showers and possibly a thunderstorm after 9am.  High near 78. Chance of precipitation is 80%.</div></div><div class=\"row row-odd row-forecast\"><div class=\"col-sm-2 forecast-label\"><b>Tuesday Night</b></div><div class=\"col-sm-10 forecast-text\">Showers and possibly a thunderstorm before 3am, then showers likely.  Low around 61. Chance of precipitation is 80%.</div></div><div class=\"row row-even row-forecast\"><div class=\"col-sm-2 forecast-label\"><b>Wednesday</b></div><div class=\"col-sm-10 forecast-text\">Showers likely, mainly before 9am.  Mostly cloudy, with a high near 72. Chance of precipitation is 60%.</div></div><div class=\"row row-odd row-forecast\"><div class=\"col-sm-2 forecast-label\"><b>Wednesday Night</b></div><div class=\"col-sm-10 forecast-text\">A chance of showers.  Mostly cloudy, with a low around 57. Chance of precipitation is 40%.</div></div><div class=\"row row-even row-forecast\"><div class=\"col-sm-2 forecast-label\"><b>Thursday</b></div><div class=\"col-sm-10 forecast-text\">A chance of showers.  Mostly sunny, with a high near 71. Chance of precipitation is 40%.</div></div><div class=\"row row-odd row-forecast\"><div class=\"col-sm-2 forecast-label\"><b>Thursday Night</b></div><div class=\"col-sm-10 forecast-text\">A chance of showers.  Partly cloudy, with a low around 53. Chance of precipitation is 30%.</div></div><div class=\"row row-even row-forecast\"><div class=\"col-sm-2 forecast-label\"><b>Friday</b></div><div class=\"col-sm-10 forecast-text\">Partly sunny, with a high near 67.</div></div><div class=\"row row-odd row-forecast\"><div class=\"col-sm-2 forecast-label\"><b>Friday Night</b></div><div class=\"col-sm-10 forecast-text\">Partly cloudy, with a low around 48.</div></div><div class=\"row row-even row-forecast\"><div class=\"col-sm-2 forecast-label\"><b>Saturday</b></div><div class=\"col-sm-10 forecast-text\">Sunny, with a high near 65.</div></div>        </div>\\n\\t</div>\\n\\t<!-- /Detailed Forecast -->\\n\\n        \\n        <!-- Additional Forecasts and Information -->\\n        <div id=\"additional_forecasts\" class=\"panel panel-default\">\\n\\t    <div class=\"panel-heading\">\\n\\t\\t<h2 class=\"panel-title\">Additional Forecasts and Information</h2>\\n\\t    </div>\\n\\n\\t    <div class=\"panel-body\" id=\"additional-forecasts-body\">\\n\\t\\t<p class=\"myforecast-location\"><a href=\"MapClick.php?zoneid=DCZ001\">Zone Area Forecast for District of Columbia, DC</a></p>\\n                <!-- First nine-ten links -->\\n\\t\\t<div id=\"linkBlockContainer\">\\n\\t\\t    <div class=\"linkBlock\">\\n                <ul class=\"list-unstyled\">\\n                    <li><a href=\"//forecast.weather.gov/product.php?site=LWX&issuedby=LWX&product=AFD&format=CI&version=1&glossary=1&highlight=off\">Forecast Discussion</a></li>\\n                    <li><a href=\"MapClick.php?lat=38.8904&lon=-77.032&unit=0&lg=english&FcstType=text&TextType=2\">Printable Forecast</a></li>\\n                    <li><a href=\"MapClick.php?lat=38.8904&lon=-77.032&unit=0&lg=english&FcstType=text&TextType=1\">Text Only Forecast</a></li>\\n                </ul>\\n            </div>\\n\\t\\t    <div class=\"linkBlock\">\\n                <ul class=\"list-unstyled\">\\n                    <li><a href=\"MapClick.php?lat=38.8904&lon=-77.032&unit=0&lg=english&FcstType=graphical\">Hourly Weather Forecast</a></li>\\n                    <li><a href=\"MapClick.php?lat=38.8904&lon=-77.032&unit=0&lg=english&FcstType=digital\">Tabular Forecast</a></li>\\n                    <!-- <li><a href=\"afm/PointClick.php?lat=38.8904&lon=-77.032\">Quick Forecast</a></li> -->\\n                </ul>\\n            </div>\\n\\t\\t    <div class=\"linkBlock\">\\n                <ul class=\"list-unstyled\">\\n                    <li><a href=\"//weather.gov/aq/probe_aq_data.php?latitude=38.8904&longitude=-77.032\">Air Quality Forecasts</a></li>\\n                    <li><a href=\"MapClick.php?lat=38.8904&lon=-77.032&FcstType=text&unit=1&lg=en\">International System of Units</a></li>\\n                                    </ul>\\n\\t\\t    </div>\\n\\t\\t    <!-- /First nine-ten links -->\\n                <!-- Additional links -->\\n                    <div class=\"linkBlock\"><ul class=\"list-unstyled\"><li><a href=\"http://forecast.weather.gov/product.php?site=NWS&issuedby=LWX&product=HWO&format=CI&version=1&glossary=0&highlight=off\" target=\"_self\">Hazardous Weather </a></li><li><a href=\"http://www.weather.gov/lwx/empage\" target=\"_self\">Briefing Page</a></li></ul></div><div class=\"linkBlock\"><ul class=\"list-unstyled\"><li><a href=\"http://www.weather.gov/climate/index.php?wfo=lwx\" target=\"_self\">Past Weather Information</a></li><li><a href=\"http://preview.weather.gov/edd/\" target=\"_self\">Interactive Forecast Map</a></li></ul></div><div class=\"linkBlock\"><ul class=\"list-unstyled\"><li><a href=\"http://www.weather.gov/lwx/\" target=\"_self\">Home</a></li></ul></div>\\n\\t\\t</div> <!-- /linkBlockContainer -->\\n\\t    </div><!-- /additional-forecasts-body-->\\n\\t</div> <!-- /additional_forecasts -->\\n    </div> <!-- /Everything on the left-hand side -->\\n\\n    <!-- right-side-data -->\\n    <div class=\"col-md-5 col-lg-4\" id=\"right-side-data\">\\n\\t<div id=\"mapAndDescriptionArea\">\\n        <!-- openlayer map -->\\n            <style>\\n#custom-search{\\ndisplay: block;\\nposition: relative;\\nz-index: 50;\\ntop: 52px;\\nleft: 60px;\\n}\\n#esri-geocoder-search{\\ndisplay: block;\\nposition: relative;\\nz-index: 50;\\ntop: 52px;\\nleft: 60px;\\n}\\n#emap{\\nmargin-top:15px;\\ncursor:pointer;\\nheight:370px;\\nwidth:100%;\\nborder: 1px solid #ccc;\\nborder-radius: 3px;\\n}\\n#switch-basemap-container{\\n}\\n#basemap-selection-form ul{\\nlist-style: none;\\n margin: 0px;\\n}\\n#basemap-selection-form li{\\nfloat: left;\\n}\\n.disclaimer{\\nmargin-top:350px;\\nmargin-left: 5px;\\nz-index: 100;\\nposition: absolute;\\ntext-transform: none;\\n}\\n.esriAttributionLastItem{\\ntext-transform: none;\\n}\\n.esriSimpleSlider div{\\nheight:22px;\\nline-height:20px;\\nwidth:20px;\\n}\\n#point-forecast-map-label {\\ntext-align:center;\\nfont-weight:bold;\\ncolor:black;\\n}\\n@media (max-width: 767px) {\\n#emap{\\nmargin-top:.5em;\\nheight:270px;\\n}\\n.disclaimer{\\nmargin-top:250px;\\n}\\n}\\n</style>\\n<!-- forecast-map -->\\n<div class=\\'point-forecast-map\\'>\\n    <div class=\\'point-forecast-map-header text-center\\'>\\n        <div id=\"toolbar\">\\n    \\t<div id=\"switch-basemap-container\">\\n    \\t    <div id=\"basemap-selection-form\" title=\"Choose a Basemap\">\\n    \\t\\t<div id=\"basemap-menu\">\\n    \\t\\t    <select name=\"basemap-selected\" id=\"basemap-selected\" autocomplete=\"off\" title=\"Basemap Dropdown Menu\">\\n    \\t\\t    <option value=\"none\">Select Basemap</option>\\n    \\t\\t    <option value=\"topo\" selected>Topographic</option>\\n    \\t\\t    <option value=\"streets\">Streets</option>\\n    \\t\\t    <option value=\"satellite\">Satellite</option>\\n    \\t\\t    <option value=\"ocean\">Ocean</option>\\n    \\t\\t    </select>\\n    \\t\\t</div>\\n    \\t    </div>\\n    \\t    <div id=\"point-forecast-map-label\">\\n                    Click Map For Forecast\\n                </div>\\n    \\t</div><!-- //#switch-basemap-container -->\\n    \\t<div style=\"clear:both;\"></div>\\n        </div><!-- //#toolbar -->\\n    </div><!-- //.point-forecast-map-header -->\\n\\n    <div id=\"emap\">\\n        <noscript><center><br><br><b>Map function requires Javascript and a compatible browser.</b></center></noscript>\\n        <div class=\"disclaimer\"><a href=\\'http://www.weather.gov/disclaimer#esri\\'>Disclaimer</a></div>\\n    </div><!-- //#emap -->\\n\\n    <div class=\"point-forecast-map-footer\">\\n        <img src=\"./images/wtf/maplegend_forecast-area.gif\" width=\"100\" height=\"16\" alt=\"Map Legend\">\\n    </div><!-- //.point-forecast-map-footer -->\\n\\n</div> <!-- //.point-forecast-map -->\\n<!-- //forecast-map -->\\n        <!-- //openlayer map -->\\n\\n\\t    <!-- About this Forecast -->\\n        <div id=\"about_forecast\">\\n            <div class=\"fullRow\">\\n                <div class=\"left\">Point Forecast:</div>\\n                <div class=\"right\">Washington DC<br>&nbsp;38.89&deg;N 77.02&deg;W (Elev. 20 ft)</div>\\n                    </div>\\n            <div class=\"fullRow\">\\n                <div class=\"left\"><a target=\"_blank\" href=\"//www.weather.gov/glossary/index.php?word=Last+update\">Last Update</a>: </div>\\n                <div class=\"right\">1:31 am EDT Sep 27, 2020</div>\\n            </div>\\n            <div class=\"fullRow\">\\n                <div class=\"left\"><a target=\"_blank\" href=\"//www.weather.gov/glossary/index.php?word=forecast+valid+for\">Forecast Valid</a>: </div>\\n                <div class=\"right\">2am EDT Sep 27, 2020-6pm EDT Oct 3, 2020</div>\\n            </div>\\n            <div class=\"fullRow\">\\n                <div class=\"left\">&nbsp;</div>\\n                <div class=\"right\"><a href=\"https://forecast.weather.gov/product.php?site=LWX&issuedby=LWX&product=AFD&format=CI&version=1&glossary=1\">Forecast Discussion</a></div>\\n            </div>\\n            <div class=\"fullRow\">\\n                <div class=\"left\">&nbsp;</div>\\n                <div class=\"right\">\\n                    <a href=\"MapClick.php?lat=38.8904&lon=-77.032&unit=0&lg=english&FcstType=kml\"><img src=\"/images/wtf/kml_badge.png\" width=\"45\" height=\"17\" alt=\"Get as KML\" /></a>\\n                    <a href=\"MapClick.php?lat=38.8904&lon=-77.032&unit=0&lg=english&FcstType=dwml\"><img src=\"/images/wtf/xml_badge.png\" width=\"45\" height=\"17\" alt=\"Get as XML\" /></a>\\n                </div>\\n            </div>\\n        </div>\\n\\t    <!-- /About this Forecast -->\\n\\t</div>\\n    \\n        <!--additionalForecast-->\\n        <div class=\"panel panel-default\" id=\"additionalForecast\">\\n            <div class=\"panel-heading\">\\n                <h2 class=\"panel-title\">Additional Resources</h2>\\n            </div>\\n            <div class=\"panel-body\">\\n\\n                <!-- Radar & Satellite Images -->\\n                <div id=\"radar\" class=\"subItem\">\\n                    <h4>Radar &amp; Satellite Image</h4>\\n                    <a href=\"//radar.weather.gov/radar.php?rid=lwx&product=N0R&overlay=11101111&loop=no\"><img src=\"//radar.weather.gov/Thumbs/LWX_Thumb.gif\" class=\"radar-thumb\" alt=\"Link to Local Radar Data\" title=\"Link to Local Radar Data\"></a>                    <a href=\"https://www.star.nesdis.noaa.gov/GOES/GOES16_CONUS.php\"><img src=\"https://cdn.star.nesdis.noaa.gov/GOES16/ABI/CONUS/GEOCOLOR/625x375.jpg\" class=\"satellite-thumb\" alt=\"Link to Satellite Data\" title=\"Link to Satellite Data\"></a>                </div>\\n                <!-- /Radar & Satellite Images -->\\n                <!-- Hourly Weather Forecast -->\\n                <div id=\"feature\" class=\"subItem\">\\n                    <h4>Hourly Weather Forecast</h4>\\n                    <a href=\"MapClick.php?lat=38.8904&lon=-77.032&unit=0&lg=english&FcstType=graphical\"><img src=\"newimages/medium/hourlyweather.png\" class=\"img-responsive\" /></a>\\n                </div>\\n                <!-- /Hourly Weather Forecast -->\\n                <!-- NDFD -->\\n                <div id=\"NDFD\" class=\"subItem\">\\n                    <h4>National Digital Forecast Database</h4>\\n                    <div class=\"one-sixth-first\"><a href=\"//graphical.weather.gov/sectors/nemetro.php?element=MaxT\"><img src=\"//graphical.weather.gov/images/thumbnail/latest_MaxMinT_nemetro_thumbnail.png\" border=\"0\" alt=\"National Digital Forecast Database Maximum Temperature Forecast\" title=\"National Digital Forecast Database Maximum Temperature Forecast\" width=\"147\" height=\"150\"></a>\\n\\t \\t\\t\\t<p><a href=\"//graphical.weather.gov/sectors/nemetro.php?element=MaxT\">High Temperature</a></p></div><div class=\"one-sixth-first\"><a href=\"//graphical.weather.gov/sectors/nemetro.php?element=Wx\"><img src=\"//graphical.weather.gov/images/thumbnail/latest_Wx_nemetro_thumbnail.png\" border=\"0\" alt=\"National Digital Forecast Database Weather Element Forecast\" title=\"National Digital Forecast Database Weather Element Forecast\" width=\"147\" height=\"150\"></a>\\n\\t \\t\\t\\t<p><a href=\"//graphical.weather.gov/sectors/nemetro.php?element=Wx\">Chance of Precipitation</a></p></div>                </div>\\n                <!-- /NDFD -->\\n            </div>\\n        </div>\\n        <!-- /additionalForecast -->\\n\\n    </div>\\n    <!-- /col-md-4 -->\\n    <!-- /right-side-data -->\\n    <script language=\\'javascript\\'>$( document ).ready(function() { load_openlayers_map(\\'\\', \\'\\', \\'\\', \\'{\"centroid_lat\":\"38.8904\",\"centroid_lon\":\"-77.032\",\"lat1\":\"38.8785\",\"lon1\":\"-77.041\",\"lat2\":\"38.9005\",\"lon2\":\"-77.037\",\"lat3\":\"38.8975\",\"lon3\":\"-77.009\",\"lat4\":\"38.8755\",\"lon4\":\"-77.013\"}\\') });</script></div>\\n<!-- /row  -->\\n\\n\\n</div>\\n<!-- /PageFormat-Land -->\\n\\n\\t    </div>\\n            <footer>\\n                        <div id=\"sitemap\" class=\"sitemap-content row\">\\r\\n            <div class=\"col-xs-12\">\\r\\n                <div class=\"sitemap-columns\">\\r\\n                                                    <div class=\"sitemap-section\">\\r\\n                                    <div class=\"panel-heading\">\\r\\n                                        <a class=\"sitemap-section-heading\" href=\" http://www.nws.noaa.gov/climate/\">PAST WEATHER</a>\\r\\n                                        <button type=\"button\" class=\"menu-toggle pull-right\" data-toggle=\"collapse\" data-target=\"#sitemap-1\">\\r\\n                                            <span class=\"sr-only\">Toggle menu</span>\\r\\n                                            <span class=\"icon-bar\"></span>\\r\\n                                            <span class=\"icon-bar\"></span>\\r\\n                                            <span class=\"icon-bar\"></span>\\r\\n                                        </button>\\r\\n                                    </div>\\r\\n                                    <div class=\"sitemap-section-body panel-body collapsable collapse\" id=\"sitemap-1\">\\r\\n                                        <ul class=\"list-unstyled\">\\r\\n                                                                                            <li><a href=\" http://www.cpc.ncep.noaa.gov/products/MD_index.shtml\">Climate Monitoring </a></li>\\r\\n                                                                                                <li><a href=\"https://w2.weather.gov/climate/\">Past Weather </a></li>\\r\\n                                                                                                <li><a href=\" http://www.nws.noaa.gov/climate/\">Monthly Temps </a></li>\\r\\n                                                                                                <li><a href=\" http://www.nws.noaa.gov/climate/\">Records </a></li>\\r\\n                                                                                                <li><a href=\"https://www.esrl.noaa.gov/gmd/grad/solcalc/sunrise.html\">Astronomical Data </a></li>\\r\\n                                                                                                <li><a href=\"https://www.climate.gov/maps-data/dataset/past-weather-zip-code-data-table\">Certified Weather Data </a></li>\\r\\n                                                                                        </ul>\\r\\n                                    </div>\\r\\n                                </div>\\r\\n                                                                <div class=\"sitemap-section\">\\r\\n                                    <div class=\"panel-heading\">\\r\\n                                        <a class=\"sitemap-section-heading\" href=\"http://alerts.weather.gov\">ACTIVE ALERTS</a>\\r\\n                                        <button type=\"button\" class=\"menu-toggle pull-right\" data-toggle=\"collapse\" data-target=\"#sitemap-2\">\\r\\n                                            <span class=\"sr-only\">Toggle menu</span>\\r\\n                                            <span class=\"icon-bar\"></span>\\r\\n                                            <span class=\"icon-bar\"></span>\\r\\n                                            <span class=\"icon-bar\"></span>\\r\\n                                        </button>\\r\\n                                    </div>\\r\\n                                    <div class=\"sitemap-section-body panel-body collapsable collapse\" id=\"sitemap-2\">\\r\\n                                        <ul class=\"list-unstyled\">\\r\\n                                                                                            <li><a href=\" http://alerts.weather.gov\">Warnings By State</a></li>\\r\\n                                                                                                <li><a href=\" http://www.wpc.ncep.noaa.gov/ww.shtml\">Excessive Rainfall and Winter Weather Forecasts</a></li>\\r\\n                                                                                                <li><a href=\"http://water.weather.gov/ahps/?current_color=flood&amp;current_type=all&amp;fcst_type=obs&amp;conus_map=d_map\">River Flooding </a></li>\\r\\n                                                                                                <li><a href=\" http://www.weather.gov\">Latest Warnings</a></li>\\r\\n                                                                                                <li><a href=\" http://www.spc.noaa.gov/products/outlook/\">Thunderstorm/Tornado Outlook </a></li>\\r\\n                                                                                                <li><a href=\" http://www.nhc.noaa.gov/\">Hurricanes </a></li>\\r\\n                                                                                                <li><a href=\" http://www.spc.noaa.gov/products/fire_wx/\">Fire Weather Outlooks </a></li>\\r\\n                                                                                                <li><a href=\" http://www.cpc.ncep.noaa.gov/products/stratosphere/uv_index/uv_alert.shtml\">UV Alerts </a></li>\\r\\n                                                                                                <li><a href=\" http://www.drought.gov/\">Drought </a></li>\\r\\n                                                                                                <li><a href=\"http://www.swpc.noaa.gov/products/alerts-watches-and-warnings\">Space Weather </a></li>\\r\\n                                                                                                <li><a href=\" http://www.nws.noaa.gov/nwr/\">NOAA Weather Radio </a></li>\\r\\n                                                                                                <li><a href=\" http://alerts.weather.gov/\">NWS CAP Feeds </a></li>\\r\\n                                                                                        </ul>\\r\\n                                    </div>\\r\\n                                </div>\\r\\n                                                                <div class=\"sitemap-section\">\\r\\n                                    <div class=\"panel-heading\">\\r\\n                                        <a class=\"sitemap-section-heading\" href=\"http://www.weather.gov/current\">CURRENT CONDITIONS</a>\\r\\n                                        <button type=\"button\" class=\"menu-toggle pull-right\" data-toggle=\"collapse\" data-target=\"#sitemap-3\">\\r\\n                                            <span class=\"sr-only\">Toggle menu</span>\\r\\n                                            <span class=\"icon-bar\"></span>\\r\\n                                            <span class=\"icon-bar\"></span>\\r\\n                                            <span class=\"icon-bar\"></span>\\r\\n                                        </button>\\r\\n                                    </div>\\r\\n                                    <div class=\"sitemap-section-body panel-body collapsable collapse\" id=\"sitemap-3\">\\r\\n                                        <ul class=\"list-unstyled\">\\r\\n                                                                                            <li><a href=\" http://www.weather.gov/Radar\">Radar </a></li>\\r\\n                                                                                                <li><a href=\"http://www.cpc.ncep.noaa.gov/products/monitoring_and_data/\">Climate Monitoring </a></li>\\r\\n                                                                                                <li><a href=\" http://water.weather.gov/ahps/\">River Levels </a></li>\\r\\n                                                                                                <li><a href=\" http://water.weather.gov/precip/\">Observed Precipitation </a></li>\\r\\n                                                                                                <li><a href=\"https://www.wpc.ncep.noaa.gov/sfc/sfcobs/sfcobs.shtml\">Surface Weather </a></li>\\r\\n                                                                                                <li><a href=\"http://www.spc.noaa.gov/obswx/maps/\">Upper Air </a></li>\\r\\n                                                                                                <li><a href=\" http://www.ndbc.noaa.gov/\">Marine and Buoy Reports </a></li>\\r\\n                                                                                                <li><a href=\"http://www.nohrsc.noaa.gov/interactive/html/map.html\">Snow Cover </a></li>\\r\\n                                                                                                <li><a href=\" http://www.weather.gov/satellite\">Satellite </a></li>\\r\\n                                                                                                <li><a href=\" http://www.swpc.noaa.gov/\">Space Weather </a></li>\\r\\n                                                                                                <li><a href=\"http://www.weather.gov/pr\">International Observations</a></li>\\r\\n                                                                                        </ul>\\r\\n                                    </div>\\r\\n                                </div>\\r\\n                                                                <div class=\"sitemap-section\">\\r\\n                                    <div class=\"panel-heading\">\\r\\n                                        <a class=\"sitemap-section-heading\" href=\"http://weather.gov/forecastmaps\">FORECAST</a>\\r\\n                                        <button type=\"button\" class=\"menu-toggle pull-right\" data-toggle=\"collapse\" data-target=\"#sitemap-4\">\\r\\n                                            <span class=\"sr-only\">Toggle menu</span>\\r\\n                                            <span class=\"icon-bar\"></span>\\r\\n                                            <span class=\"icon-bar\"></span>\\r\\n                                            <span class=\"icon-bar\"></span>\\r\\n                                        </button>\\r\\n                                    </div>\\r\\n                                    <div class=\"sitemap-section-body panel-body collapsable collapse\" id=\"sitemap-4\">\\r\\n                                        <ul class=\"list-unstyled\">\\r\\n                                                                                            <li><a href=\" http://www.weather.gov/\">Local Forecast </a></li>\\r\\n                                                                                                <li><a href=\"http://www.weather.gov/pr\">International Forecasts</a></li>\\r\\n                                                                                                <li><a href=\" http://www.spc.noaa.gov/\">Severe Weather </a></li>\\r\\n                                                                                                <li><a href=\" http://www.wpc.ncep.noaa.gov/\">Current Outlook Maps </a></li>\\r\\n                                                                                                <li><a href=\"http://www.cpc.ncep.noaa.gov/products/Drought\">Drought </a></li>\\r\\n                                                                                                <li><a href=\"http://www.weather.gov/fire\">Fire Weather </a></li>\\r\\n                                                                                                <li><a href=\" http://www.wpc.ncep.noaa.gov/\">Fronts/Precipitation Maps </a></li>\\r\\n                                                                                                <li><a href=\" http://www.nws.noaa.gov/forecasts/graphical/\">Current Graphical Forecast Maps </a></li>\\r\\n                                                                                                <li><a href=\"http://water.weather.gov/ahps/forecasts.php\">Rivers </a></li>\\r\\n                                                                                                <li><a href=\"https://www.weather.gov/marine/\">Marine </a></li>\\r\\n                                                                                                <li><a href=\"https://ocean.weather.gov/marine_areas.php\">Offshore and High Seas</a></li>\\r\\n                                                                                                <li><a href=\" http://www.nhc.noaa.gov/\">Hurricanes </a></li>\\r\\n                                                                                                <li><a href=\" http://aviationweather.gov\">Aviation Weather </a></li>\\r\\n                                                                                                <li><a href=\"http://www.cpc.ncep.noaa.gov/products/OUTLOOKS_index.shtml\">Climatic Outlook </a></li>\\r\\n                                                                                        </ul>\\r\\n                                    </div>\\r\\n                                </div>\\r\\n                                                                <div class=\"sitemap-section\">\\r\\n                                    <div class=\"panel-heading\">\\r\\n                                        <a class=\"sitemap-section-heading\" href=\"http://www.weather.gov/informationcenter\">INFORMATION CENTER</a>\\r\\n                                        <button type=\"button\" class=\"menu-toggle pull-right\" data-toggle=\"collapse\" data-target=\"#sitemap-5\">\\r\\n                                            <span class=\"sr-only\">Toggle menu</span>\\r\\n                                            <span class=\"icon-bar\"></span>\\r\\n                                            <span class=\"icon-bar\"></span>\\r\\n                                            <span class=\"icon-bar\"></span>\\r\\n                                        </button>\\r\\n                                    </div>\\r\\n                                    <div class=\"sitemap-section-body panel-body collapsable collapse\" id=\"sitemap-5\">\\r\\n                                        <ul class=\"list-unstyled\">\\r\\n                                                                                            <li><a href=\" http://www.spaceweather.gov\">Space Weather </a></li>\\r\\n                                                                                                <li><a href=\"http://www.weather.gov/briefing/\">Daily Briefing </a></li>\\r\\n                                                                                                <li><a href=\" http://www.nws.noaa.gov/om/marine/home.htm\">Marine </a></li>\\r\\n                                                                                                <li><a href=\"http://www.nws.noaa.gov/climate\">Climate </a></li>\\r\\n                                                                                                <li><a href=\"http://www.weather.gov/fire\">Fire Weather </a></li>\\r\\n                                                                                                <li><a href=\" http://www.aviationweather.gov/\">Aviation </a></li>\\r\\n                                                                                                <li><a href=\"http://mag.ncep.noaa.gov/\">Forecast Models </a></li>\\r\\n                                                                                                <li><a href=\"http://water.weather.gov/ahps/\">Water </a></li>\\r\\n                                                                                                <li><a href=\"https://www.weather.gov/gis/\">GIS</a></li>\\r\\n                                                                                                <li><a href=\" http://www.nws.noaa.gov/om/coop/\">Cooperative Observers </a></li>\\r\\n                                                                                                <li><a href=\"https://www.weather.gov/skywarn/\">Storm Spotters </a></li>\\r\\n                                                                                                <li><a href=\"http://www.tsunami.gov\">Tsunami Warning System</a></li>\\r\\n                                                                                                <li><a href=\"http://water.noaa.gov/\">National Water Center</a></li>\\r\\n                                                                                                <li><a href=\"http://www.weather.gov/pr\">International Weather</a></li>\\r\\n                                                                                        </ul>\\r\\n                                    </div>\\r\\n                                </div>\\r\\n                                                                <div class=\"sitemap-section\">\\r\\n                                    <div class=\"panel-heading\">\\r\\n                                        <a class=\"sitemap-section-heading\" href=\"http://weather.gov/safety\">WEATHER SAFETY</a>\\r\\n                                        <button type=\"button\" class=\"menu-toggle pull-right\" data-toggle=\"collapse\" data-target=\"#sitemap-6\">\\r\\n                                            <span class=\"sr-only\">Toggle menu</span>\\r\\n                                            <span class=\"icon-bar\"></span>\\r\\n                                            <span class=\"icon-bar\"></span>\\r\\n                                            <span class=\"icon-bar\"></span>\\r\\n                                        </button>\\r\\n                                    </div>\\r\\n                                    <div class=\"sitemap-section-body panel-body collapsable collapse\" id=\"sitemap-6\">\\r\\n                                        <ul class=\"list-unstyled\">\\r\\n                                                                                            <li><a href=\"http://www.weather.gov/nwr/\">NOAA Weather Radio</a></li>\\r\\n                                                                                                <li><a href=\"http://www.weather.gov/stormready/\">StormReady</a></li>\\r\\n                                                                                                <li><a href=\"http://www.nws.noaa.gov/om/heat/index.shtml\">Heat </a></li>\\r\\n                                                                                                <li><a href=\"https://www.weather.gov/safety/lightning\">Lightning </a></li>\\r\\n                                                                                                <li><a href=\" http://www.nhc.noaa.gov/prepare/\">Hurricanes </a></li>\\r\\n                                                                                                <li><a href=\"http://www.nws.noaa.gov/om/thunderstorm/\">Thunderstorms </a></li>\\r\\n                                                                                                <li><a href=\"https://www.weather.gov/safety/tornado\">Tornadoes </a></li>\\r\\n                                                                                                <li><a href=\"https://www.weather.gov/safety/ripcurrent\">Rip Currents </a></li>\\r\\n                                                                                                <li><a href=\"https://www.weather.gov/safety/flood\">Floods </a></li>\\r\\n                                                                                                <li><a href=\"https://www.weather.gov/safety/tsunami\">Tsunamis</a></li>\\r\\n                                                                                                <li><a href=\"https://www.weather.gov/tsunamiready/\">TsunamiReady</a></li>\\r\\n                                                                                                <li><a href=\" http://www.weather.gov/om/winter/index.shtml\">Winter Weather </a></li>\\r\\n                                                                                                <li><a href=\"http://www.nws.noaa.gov/om/heat/uv.shtml\">Ultra Violet Radiation </a></li>\\r\\n                                                                                                <li><a href=\" http://www.weather.gov/airquality/\">Air Quality </a></li>\\r\\n                                                                                                <li><a href=\" http://www.weather.gov/om/hazstats.shtml\">Damage/Fatality/Injury Statistics </a></li>\\r\\n                                                                                                <li><a href=\" http://www.redcross.org/\">Red Cross </a></li>\\r\\n                                                                                                <li><a href=\" http://www.fema.gov/\">Federal Emergency Management Agency (FEMA) </a></li>\\r\\n                                                                                                <li><a href=\" http://www.weather.gov/om/brochures.shtml\">Brochures </a></li>\\r\\n                                                                                                <li><a href=\"http://www.nws.noaa.gov/os/marine/safeboating/\">Safe Boating</a></li>\\r\\n                                                                                        </ul>\\r\\n                                    </div>\\r\\n                                </div>\\r\\n                                                                <div class=\"sitemap-section\">\\r\\n                                    <div class=\"panel-heading\">\\r\\n                                        <a class=\"sitemap-section-heading\" href=\"http://weather.gov/news\">NEWS</a>\\r\\n                                        <button type=\"button\" class=\"menu-toggle pull-right\" data-toggle=\"collapse\" data-target=\"#sitemap-7\">\\r\\n                                            <span class=\"sr-only\">Toggle menu</span>\\r\\n                                            <span class=\"icon-bar\"></span>\\r\\n                                            <span class=\"icon-bar\"></span>\\r\\n                                            <span class=\"icon-bar\"></span>\\r\\n                                        </button>\\r\\n                                    </div>\\r\\n                                    <div class=\"sitemap-section-body panel-body collapsable collapse\" id=\"sitemap-7\">\\r\\n                                        <ul class=\"list-unstyled\">\\r\\n                                                                                            <li><a href=\" http://weather.gov/news\">Newsroom</a></li>\\r\\n                                                                                                <li><a href=\" http://weather.gov/socialmedia\">Social Media </a></li>\\r\\n                                                                                                <li><a href=\"http://www.nws.noaa.gov/com/weatherreadynation/calendar.html\">Events</a></li>\\r\\n                                                                                                <li><a href=\" http://www.weather.gov/om/brochures.shtml\">Pubs/Brochures/Booklets </a></li>\\r\\n                                                                                        </ul>\\r\\n                                    </div>\\r\\n                                </div>\\r\\n                                                                <div class=\"sitemap-section\">\\r\\n                                    <div class=\"panel-heading\">\\r\\n                                        <a class=\"sitemap-section-heading\" href=\"http://weather.gov/owlie\">EDUCATION</a>\\r\\n                                        <button type=\"button\" class=\"menu-toggle pull-right\" data-toggle=\"collapse\" data-target=\"#sitemap-8\">\\r\\n                                            <span class=\"sr-only\">Toggle menu</span>\\r\\n                                            <span class=\"icon-bar\"></span>\\r\\n                                            <span class=\"icon-bar\"></span>\\r\\n                                            <span class=\"icon-bar\"></span>\\r\\n                                        </button>\\r\\n                                    </div>\\r\\n                                    <div class=\"sitemap-section-body panel-body collapsable collapse\" id=\"sitemap-8\">\\r\\n                                        <ul class=\"list-unstyled\">\\r\\n                                                                                            <li><a href=\"http://weather.gov/owlie\">NWS Education Home</a></li>\\r\\n                                                                                                <li><a href=\"http://www.nws.noaa.gov/com/weatherreadynation/force.html\">Be A Force of Nature</a></li>\\r\\n                                                                                                <li><a href=\" http://www.education.noaa.gov/Weather_and_Atmosphere/\">NOAA Education Resources </a></li>\\r\\n                                                                                                <li><a href=\" http://www.weather.gov/glossary/\">Glossary </a></li>\\r\\n                                                                                                <li><a href=\"https://www.weather.gov/jetstream/\">JetStream </a></li>\\r\\n                                                                                                <li><a href=\" http://www.weather.gov/training/\">NWS Training Portal </a></li>\\r\\n                                                                                                <li><a href=\"https://library.noaa.gov/\">NOAA Library </a></li>\\r\\n                                                                                                <li><a href=\"http://weather.gov/owlie\">For Students, Parents and Teachers</a></li>\\r\\n                                                                                                <li><a href=\"http://www.weather.gov/owlie/publication_brochures\">Brochures </a></li>\\r\\n                                                                                        </ul>\\r\\n                                    </div>\\r\\n                                </div>\\r\\n                                                                <div class=\"sitemap-section\">\\r\\n                                    <div class=\"panel-heading\">\\r\\n                                        <a class=\"sitemap-section-heading\" href=\"http://weather.gov/about\">ABOUT</a>\\r\\n                                        <button type=\"button\" class=\"menu-toggle pull-right\" data-toggle=\"collapse\" data-target=\"#sitemap-9\">\\r\\n                                            <span class=\"sr-only\">Toggle menu</span>\\r\\n                                            <span class=\"icon-bar\"></span>\\r\\n                                            <span class=\"icon-bar\"></span>\\r\\n                                            <span class=\"icon-bar\"></span>\\r\\n                                        </button>\\r\\n                                    </div>\\r\\n                                    <div class=\"sitemap-section-body panel-body collapsable collapse\" id=\"sitemap-9\">\\r\\n                                        <ul class=\"list-unstyled\">\\r\\n                                                                                            <li><a href=\"http://weather.gov/organization\">Organization </a></li>\\r\\n                                                                                                <li><a href=\"https://www.weather.gov/media/wrn/NWS_Weather-Ready-Nation_Strategic_Plan_2019-2022.pdf\">Strategic Plan </a></li>\\r\\n                                                                                                <li><a href=\"https://sites.google.com/a/noaa.gov/nws-best-practices/\">For NWS Employees </a></li>\\r\\n                                                                                                <li><a href=\"https://www.weather.gov/international/\">International </a></li>\\r\\n                                                                                                <li><a href=\"http://www.ncep.noaa.gov/\">National Centers </a></li>\\r\\n                                                                                                <li><a href=\" http://www.weather.gov/tg/\">Products and Services </a></li>\\r\\n                                                                                                <li><a href=\"http://www.weather.gov/careers/\">Careers</a></li>\\r\\n                                                                                                <li><a href=\" http://www.weather.gov/glossary/\">Glossary </a></li>\\r\\n                                                                                                <li><a href=\"http://weather.gov/contact\">Contact Us </a></li>\\r\\n                                                                                        </ul>\\r\\n                                    </div>\\r\\n                                </div>\\r\\n                                                </div>\\r\\n            </div>\\r\\n        </div>\\r\\n        \\n                <!-- legal footer area -->\\n                \\t\\t<div class=\"footer-legal\">\\r\\n\\t\\t\\t<div id=\"footerLogo\" class=\"col-xs-12 col-sm-2 col-md-2\">\\r\\n\\t\\t\\t\\t<a href=\"http://www.usa.gov\"><img src=\"/css/images/usa_gov.png\" alt=\"usa.gov\" width=\"110\" height=\"30\" /></a>\\r\\n\\t\\t\\t</div>\\r\\n\\t\\t\\t<div class=\"col-xs-12 col-sm-4 col-md-4\">\\r\\n\\t\\t\\t\\t<ul class=\"list-unstyled footer-legal-content\">\\r\\n\\t\\t\\t\\t<li><a href=\"http://www.commerce.gov\">US Dept of Commerce</a></li>\\r\\n\\t\\t\\t\\t<li><a href=\"http://www.noaa.gov\">National Oceanic and Atmospheric Administration</a></li>\\r\\n\\t\\t\\t\\t<li><a href=\"http://www.weather.gov\">National Weather Service</a></li>\\r\\n\\t\\t\\t\\t<li><a href=\"https://www.weather.gov/lwx\">Baltimore/Washington</a></li><li><br /><a href=\"mailto:lwxwebmaster@noaa.gov\">Comments? Questions? Please Contact Us.</a></li>\\t\\t\\t\\t</ul>\\r\\n\\t\\t\\t</div>\\r\\n\\t\\t\\t<div class=\"col-xs-12 col-sm-3 col-md-3\">\\r\\n\\t\\t\\t\\t<ul class=\"list-unstyled\">\\r\\n\\t\\t\\t\\t\\t<li><a href=\"https://www.weather.gov/disclaimer\">Disclaimer</a></li>\\r\\n\\t\\t\\t\\t\\t<li><a href=\"http://www.cio.noaa.gov/services_programs/info_quality.html\">Information Quality</a></li>\\r\\n\\t\\t\\t\\t\\t<li><a href=\"https://www.weather.gov/help\">Help</a></li>\\r\\n\\t\\t\\t\\t\\t<li><a href=\"http://www.weather.gov/glossary\">Glossary</a></li>\\r\\n\\t\\t\\t\\t</ul>\\r\\n\\t\\t\\t</div>\\r\\n\\t\\t\\t<div class=\"col-xs-12 col-sm-3 col-md-3\">\\r\\n\\t\\t\\t\\t<ul class=\"list-unstyled\">\\r\\n\\t\\t\\t\\t\\t<li><a href=\"https://www.weather.gov/privacy\">Privacy Policy</a></li>\\r\\n\\t\\t\\t\\t\\t<li><a href=\"https://www.noaa.gov/foia-freedom-of-information-act\">Freedom of Information Act (FOIA)</a></li>\\r\\n\\t\\t\\t\\t\\t<li><a href=\"https://www.weather.gov/about\">About Us</a></li>\\r\\n\\t\\t\\t\\t\\t<li><a href=\"https://www.weather.gov/careers\">Career Opportunities</a></li>\\r\\n\\t\\t\\t\\t</ul>\\r\\n\\t\\t\\t</div>\\r\\n\\t\\t</div>\\r\\n\\t\\t\\n            </footer>\\n        </main>\\n    </body>\\n</html>\\n'"
      ]
     },
     "execution_count": 40,
     "metadata": {},
     "output_type": "execute_result"
    }
   ],
   "source": [
    "r.content"
   ]
  },
  {
   "cell_type": "code",
   "execution_count": 41,
   "metadata": {},
   "outputs": [],
   "source": [
    "#Let's make some soup\n",
    "soup = BeautifulSoup(r.content, 'html.parser')"
   ]
  },
  {
   "cell_type": "code",
   "execution_count": 42,
   "metadata": {
    "scrolled": true
   },
   "outputs": [
    {
     "data": {
      "text/plain": [
       "<!DOCTYPE html>\n",
       "\n",
       "<html class=\"no-js\">\n",
       "<head>\n",
       "<!-- Meta -->\n",
       "<meta content=\"width=device-width\" name=\"viewport\"/>\n",
       "<link href=\"http://purl.org/dc/elements/1.1/\" rel=\"schema.DC\"/><title>National Weather Service</title><meta content=\"National Weather Service\" name=\"DC.title\"><meta content=\"NOAA National Weather Service National Weather Service\" name=\"DC.description\"/><meta content=\"US Department of Commerce, NOAA, National Weather Service\" name=\"DC.creator\"/><meta content=\"\" name=\"DC.date.created\" scheme=\"ISO8601\"/><meta content=\"EN-US\" name=\"DC.language\" scheme=\"DCTERMS.RFC1766\"/><meta content=\"weather, National Weather Service\" name=\"DC.keywords\"/><meta content=\"NOAA's National Weather Service\" name=\"DC.publisher\"/><meta content=\"National Weather Service\" name=\"DC.contributor\"/><meta content=\"http://www.weather.gov/disclaimer.php\" name=\"DC.rights\"/><meta content=\"General\" name=\"rating\"/><meta content=\"index,follow\" name=\"robots\"/>\n",
       "<!-- Icons -->\n",
       "<link href=\"./images/favicon.ico\" rel=\"shortcut icon\" type=\"image/x-icon\"/>\n",
       "<!-- CSS -->\n",
       "<link href=\"css/bootstrap-3.2.0.min.css\" rel=\"stylesheet\"/>\n",
       "<link href=\"css/bootstrap-theme-3.2.0.min.css\" rel=\"stylesheet\"/>\n",
       "<link href=\"css/font-awesome-4.3.0.min.css\" rel=\"stylesheet\"/>\n",
       "<link href=\"css/ol-4.6.4.css\" rel=\"stylesheet\" type=\"text/css\"/>\n",
       "<link href=\"css/mapclick.css\" rel=\"stylesheet\" type=\"text/css\">\n",
       "<!--[if lte IE 7]><link rel=\"stylesheet\" type=\"text/css\" href=\"css/bootstrap-ie7.css\" /><![endif]-->\n",
       "<!--[if lte IE 9]><link rel=\"stylesheet\" type=\"text/css\" href=\"css/mapclick-ie.css\" /><![endif]-->\n",
       "<link href=\"css/print.css\" rel=\"stylesheet\" type=\"text/css\">\n",
       "<link href=\"css/search.css\" rel=\"stylesheet\" type=\"text/css\">\n",
       "<!-- Javascript -->\n",
       "<script src=\"js/lib/modernizr-2.8.3.js\" type=\"text/javascript\"></script>\n",
       "<script src=\"js/lib/json3-3.3.2.min.js\" type=\"text/javascript\"></script>\n",
       "<script src=\"js/lib/jquery-1.11.3.min.js\" type=\"text/javascript\"></script>\n",
       "<script src=\"js/lib/jquery.hoverIntent-1.8.1.min.js\" type=\"text/javascript\"></script>\n",
       "<script src=\"js/lib/bootstrap-3.2.0.min.js\" type=\"text/javascript\"></script>\n",
       "<script src=\"js/lib/ol-4.6.4.js\" type=\"text/javascript\"></script>\n",
       "<!--[if lte IE 8]><script type=\"text/javascript\" src=\"js/respond.min.js\"></script><![endif]-->\n",
       "<script src=\"js/jquery.autocomplete.min.js\" type=\"text/javascript\"></script>\n",
       "<script src=\"js/cfisurvey/cfi.js?v2\" type=\"text/javascript\"></script>\n",
       "<script src=\"js/forecast.esri.js\" type=\"text/javascript\"></script>\n",
       "<script src=\"js/forecast.search.js\" type=\"text/javascript\"></script>\n",
       "<script src=\"js/forecast.openlayers.js\" type=\"text/javascript\"></script>\n",
       "<script src=\"js/browserSniffer.js\" type=\"text/javascript\"></script>\n",
       "<script src=\"js/federated-analytics.js\" type=\"text/javascript\"></script>\n",
       "<script type=\"javascript\">\n",
       "// ForeSee Staging Embed Script v2.01\n",
       "// DO NOT MODIFY BELOW THIS LINE *****************************************\n",
       ";(function (g) {\n",
       "  var d = document, am = d.createElement('script'), h = d.head || d.getElementsByTagName(\"head\")[0], fsr = 'fsReady',\n",
       "  aex = { \n",
       "    \"src\": \"//gateway.foresee.com/sites/weather-gov/production/gateway.min.js\",\n",
       "    \"type\": \"text/javascript\", \n",
       "    \"async\": \"true\", \n",
       "    \"data-vendor\": \"fs\", \n",
       "    \"data-role\": \"gateway\" \n",
       "  };\n",
       "  for (var attr in aex) { am.setAttribute(attr, aex[attr]); } h.appendChild(am); g[fsr] || (g[fsr] = function () { var aT = '__' + fsr + '_stk__'; g[aT] = g[aT] || []; g[aT].push(arguments); });\n",
       "})(window);\n",
       "// DO NOT MODIFY ABOVE THIS LINE *****************************************\n",
       "</script>\n",
       "<script type=\"text/javascript\">\n",
       "            (function (i, s, o, g, r, a, m) {\n",
       "                i['GoogleAnalyticsObject'] = r;\n",
       "                i[r] = i[r] || function () {\n",
       "                    (i[r].q = i[r].q || []).push(arguments)\n",
       "                }, i[r].l = 1 * new Date();\n",
       "                a = s.createElement(o),\n",
       "                        m = s.getElementsByTagName(o)[0];\n",
       "                a.async = 1;\n",
       "                a.src = g;\n",
       "                m.parentNode.insertBefore(a, m)\n",
       "            })(window, document, 'script', '//www.google-analytics.com/analytics.js', 'ga');\n",
       "\n",
       "            ga('create', 'UA-40768555-1', 'weather.gov', {'sampleRate': 6});\n",
       "            ga('set', 'anonymizeIp', true);\n",
       "            ga('require', 'linkid');\n",
       "            ga('send', 'pageview');\n",
       "        </script>\n",
       "</link></link></link></meta></head>\n",
       "<body>\n",
       "<main class=\"container\">\n",
       "<header class=\"row clearfix\" id=\"page-header\">\n",
       "<a class=\"pull-left\" href=\"http://www.noaa.gov\" id=\"header-noaa\"><img alt=\"National Oceanic and Atmospheric Administration\" src=\"/css/images/header_noaa.png\"/></a>\n",
       "<a class=\"pull-left\" href=\"http://www.weather.gov\" id=\"header-nws\"><img alt=\"National Weather Service\" src=\"/css/images/header_nws.png\"/></a>\n",
       "<a class=\"pull-right\" href=\"http://www.commerce.gov\" id=\"header-doc\"><img alt=\"United States Department of Commerce\" src=\"/css/images/header_doc.png\"/></a>\n",
       "</header>\n",
       "<nav class=\"navbar navbar-default row\" role=\"navigation\">\n",
       "<div class=\"container-fluid\">\n",
       "<div class=\"navbar-header\">\n",
       "<button class=\"navbar-toggle collapsed\" data-target=\"#top-nav\" data-toggle=\"collapse\" type=\"button\">\n",
       "<span class=\"sr-only\">Toggle navigation</span>\n",
       "<span class=\"icon-bar\"></span>\n",
       "<span class=\"icon-bar\"></span>\n",
       "<span class=\"icon-bar\"></span>\n",
       "</button>\n",
       "</div>\n",
       "<div class=\"collapse navbar-collapse\" id=\"top-nav\">\n",
       "<ul class=\"nav navbar-nav\">\n",
       "<li><a href=\"http://www.weather.gov\">HOME</a></li>\n",
       "<li class=\"dropdown\"><a class=\"dropdown-toggle\" data-toggle=\"dropdown\" href=\"http://www.weather.gov/forecastmaps\">FORECAST <span class=\"caret\"></span></a><ul class=\"dropdown-menu\" role=\"menu\"><li><a href=\"http://www.weather.gov\">Local</a></li><li><a href=\"http://digital.weather.gov\">Graphical</a></li><li><a href=\"http://www.aviationweather.gov/\">Aviation</a></li><li><a href=\"http://www.nws.noaa.gov/om/marine/home.htm\">Marine</a></li><li><a href=\"http://water.weather.gov/ahps/\">Rivers and Lakes</a></li><li><a href=\"http://www.nhc.noaa.gov/\">Hurricanes</a></li><li><a href=\"http://www.spc.noaa.gov/\">Severe Weather</a></li><li><a href=\"http://www.weather.gov/fire/\">Fire Weather</a></li><li><a href=\"https://www.esrl.noaa.gov/gmd/grad/solcalc/sunrise.html\">Sun/Moon</a></li><li><a href=\"http://www.cpc.ncep.noaa.gov/\">Long Range Forecasts</a></li><li><a href=\"http://www.cpc.ncep.noaa.gov\">Climate Prediction</a></li><li><a href=\"https://www.swpc.noaa.gov/\">Space Weather</a></li></ul> </li>\n",
       "<li class=\"dropdown\"><a class=\"dropdown-toggle\" data-toggle=\"dropdown\" href=\"https://w2.weather.gov/climate\">PAST WEATHER <span class=\"caret\"></span></a><ul class=\"dropdown-menu\" role=\"menu\"><li><a href=\"https://w2.weather.gov/climate/\">Past Weather</a></li><li><a href=\"https://w2.weather.gov/climate/\">Heating/Cooling Days</a></li><li><a href=\"https://w2.weather.gov/climate/\">Monthly Temperatures</a></li><li><a href=\"https://w2.weather.gov/climate/\">Records</a></li><li><a href=\"http://aa.usno.navy.mil/\">Astronomical Data</a></li></ul> </li>\n",
       "<li class=\"dropdown\"><a class=\"dropdown-toggle\" data-toggle=\"dropdown\" href=\"http://www.weather.gov/safety\">SAFETY <span class=\"caret\"></span></a><ul class=\"dropdown-menu\" role=\"menu\"><li><a href=\"https://www.weather.gov/safety/flood\">Floods</a></li><li><a href=\"https://www.weather.gov/safety/tsunami\">Tsunamis</a></li><li><a href=\"https://www.weather.gov/safety/beachhazards\">Beach Hazards</a></li><li><a href=\"https://www.weather.gov/safety/wildfire\">Wildfire</a></li><li><a href=\"https://www.weather.gov/safety/cold\">Cold</a></li><li><a href=\"https://www.weather.gov/safety/tornado\">Tornadoes</a></li><li><a href=\"https://www.weather.gov/safety/airquality\">Air Quality</a></li><li><a href=\"https://www.weather.gov/safety/fog\">Fog</a></li><li><a href=\"https://www.weather.gov/safety/heat\">Heat</a></li><li><a href=\"https://www.weather.gov/safety/hurricane\">Hurricanes</a></li><li><a href=\"https://www.weather.gov/safety/lightning\">Lightning</a></li><li><a href=\"https://www.weather.gov/safety/safeboating\">Safe Boating</a></li><li><a href=\"https://www.weather.gov/safety/ripcurrent\">Rip Currents</a></li><li><a href=\"https://www.weather.gov/safety/thunderstorm\">Thunderstorms</a></li><li><a href=\"https://www.weather.gov/safety/space\">Space Weather</a></li><li><a href=\"https://www.weather.gov/safety/heat-uv\">Sun (Ultraviolet Radiation)</a></li><li><a href=\"http://www.weather.gov/safetycampaign\">Safety Campaigns</a></li><li><a href=\"https://www.weather.gov/safety/wind\">Wind</a></li><li><a href=\"https://www.weather.gov/safety/drought\">Drought</a></li><li><a href=\"https://www.weather.gov/safety/winter\">Winter Weather</a></li></ul> </li>\n",
       "<li class=\"dropdown\"><a class=\"dropdown-toggle\" data-toggle=\"dropdown\" href=\"http://www.weather.gov/informationcenter\">INFORMATION <span class=\"caret\"></span></a><ul class=\"dropdown-menu\" role=\"menu\"><li><a href=\"http://www.weather.gov/Owlie's\">Owlie's Kids Page</a></li><li><a href=\"http://www.weather.gov/wrn/wea\">Wireless Emergency Alerts</a></li><li><a href=\"https://www.weather.gov/owlie/publication_brochures\">Brochures</a></li><li><a href=\"http://www.weather.gov/wrn/\">Weather-Ready Nation</a></li><li><a href=\"https://www.weather.gov/coop/\">Cooperative Observers</a></li><li><a href=\"http://www.weather.gov/briefing/\">Daily Briefing</a></li><li><a href=\"http://www.nws.noaa.gov/om/hazstats.shtml\">Damage/Fatality/Injury Statistics</a></li><li><a href=\"http://mag.ncep.noaa.gov/\">Forecast Models</a></li><li><a href=\"https://www.weather.gov/gis\">GIS Data Portal</a></li><li><a href=\"https://www.weather.gov/nwr/\">NOAA Weather Radio</a></li><li><a href=\"http://weather.gov/publications\">Publications</a></li><li><a href=\"http://www.weather.gov/SKYWARN\">SKYWARN Storm Spotters</a></li><li><a href=\"http://www.weather.gov/StormReady\">StormReady</a></li><li><a href=\"https://www.weather.gov/TsunamiReady/\">TsunamiReady</a></li><li><a href=\"https://www.weather.gov/notification/\">Service Change Notices</a></li></ul> </li>\n",
       "<li class=\"dropdown\"><a class=\"dropdown-toggle\" data-toggle=\"dropdown\" href=\"http://www.weather.gov/owlie\">EDUCATION <span class=\"caret\"></span></a><ul class=\"dropdown-menu\" role=\"menu\"><li><a href=\"https://www.weather.gov/wrn/force\">Be A Force of Nature</a></li><li><a href=\"http://www.weather.gov/owlie\">NWS Education Home</a></li></ul> </li>\n",
       "<li class=\"dropdown\"><a class=\"dropdown-toggle\" data-toggle=\"dropdown\" href=\"http://www.weather.gov/contact-media/\">NEWS <span class=\"caret\"></span></a><ul class=\"dropdown-menu\" role=\"menu\"><li><a href=\"http://www.weather.gov/news\">NWS News</a></li><li><a href=\"https://www.weather.gov/wrn/calendar\">Events</a></li><li><a href=\"http://www.weather.gov/socialmedia\">Social Media</a></li><li><a href=\"https://www.weather.gov/owlie/publication_brochures\">Pubs/Brochures/Booklets </a></li><li><a href=\"http://www.noaa.gov/NOAA-Communications\">NWS Media Contacts</a></li></ul> </li>\n",
       "<li class=\"dropdown\"><a class=\"dropdown-toggle\" data-toggle=\"dropdown\" href=\"http://www.weather.gov/search\">SEARCH <span class=\"caret\"></span></a><ul class=\"dropdown-menu\" role=\"menu\"> <li><!-- Begin search code -->\n",
       "<div id=\"site-search\">\n",
       "<form action=\"//search.usa.gov/search\" method=\"get\" style=\"margin-bottom: 0; margin-top: 0;\">\n",
       "<input name=\"v:project\" type=\"hidden\" value=\"firstgov\"/>\n",
       "<label for=\"query\">Search For</label>\n",
       "<input id=\"query\" name=\"query\" size=\"12\" type=\"text\"/>\n",
       "<input type=\"submit\" value=\"Go\"/>\n",
       "<p>\n",
       "<input checked=\"checked\" id=\"nws\" name=\"affiliate\" type=\"radio\" value=\"nws.noaa.gov\"/>\n",
       "<label class=\"search-scope\" for=\"nws\">NWS</label>\n",
       "<input id=\"noaa\" name=\"affiliate\" type=\"radio\" value=\"noaa.gov\"/>\n",
       "<label class=\"search-scope\" for=\"noaa\">All NOAA</label>\n",
       "</p>\n",
       "</form>\n",
       "</div>\n",
       "</li>\n",
       "</ul> </li>\n",
       "<li class=\"dropdown\"><a class=\"dropdown-toggle\" data-toggle=\"dropdown\" href=\"http://www.weather.gov/about\">ABOUT <span class=\"caret\"></span></a><ul class=\"dropdown-menu\" role=\"menu\"><li><a href=\"http://www.weather.gov/about\">About NWS</a></li><li><a href=\"http://www.weather.gov/organization\">Organization</a></li><li><a href=\"https://www.weather.gov/media/wrn/NWS_Weather-Ready-Nation_Strategic_Plan_2019-2022.pdf\">Strategic Plan</a></li><li><a href=\"https://sites.google.com/a/noaa.gov/nws-insider/\">For NWS Employees</a></li><li><a href=\"http://www.weather.gov/international/\">International</a></li><li><a href=\"http://www.weather.gov/organization\">National Centers</a></li><li><a href=\"http://www.weather.gov/careers/\">Careers</a></li><li><a href=\"http://www.weather.gov/contact\">Contact Us</a></li><li><a href=\"https://w1.weather.gov/glossary\">Glossary</a></li></ul> </li>\n",
       "</ul>\n",
       "</div>\n",
       "</div>\n",
       "</nav>\n",
       "<div class=\"contentArea\">\n",
       "<!-- Start Forecastsearch -->\n",
       "<div class=\"\" id=\"fcst-search\">\n",
       "<form action=\"https://forecast.weather.gov/zipcity.php\" class=\"form-inline\" id=\"getForecast\" method=\"get\" name=\"getForecast\" role=\"form\">\n",
       "<div id=\"getfcst-body\">\n",
       "<input class=\"form-control\" id=\"inputstring\" name=\"inputstring\" placeholder=\"\" type=\"text\"/>\n",
       "<input class=\"btn btn-default\" id=\"btnSearch\" name=\"btnSearch\" type=\"submit\" value=\"Go\"/>\n",
       "<div id=\"txtHelp\"><a href=\"javascript:void(window.open('http://weather.gov/ForecastSearchHelp.html','locsearchhelp','status=0,toolbar=0,location=0,menubar=0,directories=0,resizable=1,scrollbars=1,height=500,width=530').focus());\">View Location Examples</a></div>\n",
       "</div>\n",
       "<div id=\"txtError\">\n",
       "<div id=\"errorNoResults\" style=\"display:none;\">Sorry, the location you searched for was not found. Please try another search.</div>\n",
       "<div id=\"errorMultipleResults\" style=\"display:none\">Multiple locations were found. Please select one of the following:</div>\n",
       "<div id=\"errorChoices\" style=\"display:none\"></div>\n",
       "<input id=\"btnCloseError\" style=\"display:none\" type=\"button\" value=\"Close\"/>\n",
       "</div>\n",
       "<div id=\"getfcst-head\">\n",
       "<p>Your local forecast office is</p>\n",
       "<h3 id=\"getfcst-headOffice\"></h3>\n",
       "</div>\n",
       "</form>\n",
       "</div>\n",
       "<!-- end Forecastsearch -->\n",
       "<link href=\"/css/topnews.css\" rel=\"stylesheet\" type=\"text/css\"/>\n",
       "<div id=\"news-items\">\n",
       "<div id=\"topnews\">\n",
       "<div class=\"icon\"><img src=\"/images/news-important.jpg\"/></div>\n",
       "<div class=\"body\">\n",
       "<h1 style=\"font-size: 11pt;\">Critical Fire Weather Conditions For Much of the West; Summer-Like Warmth for Parts of the Central and Southwest U.S.</h1>\n",
       "<p>\n",
       "            Unsettled conditions in the Southeast, Mid Atlantic, and Pacific Northwest will gradually improve this weekend. Meanwhile, critical fire weather conditions are expected to persist over parts of the Rockies, Plains, and Great Basin. Widespread above normal temperatures are anticipated over much of the Central and Southwest U.S.\n",
       "            <a href=\"http://www.wpc.ncep.noaa.gov/discussions/hpcdiscussions.php?disc=pmdspd\" target=\"_blank\">Read More &gt;</a>\n",
       "</p>\n",
       "</div>\n",
       "</div>\n",
       "</div>\n",
       "<script type=\"text/javascript\">(function ($) { var topnews = $(\"#topnews\"); topnews.hide(); $.get(\"siteNews.php\", {a:\"lwx\"},function(response){ if (response !== \"false\") topnews.replaceWith($(response)); topnews.show(); }); })(jQuery);</script><!-- PageFormat-Land -->\n",
       "<script language=\"javascript\">document.title = $('<div/>').html('7-Day Forecast for Latitude 38.89&deg;N and Longitude 77.02&deg;W (Elev. 20 ft)').text();</script><img src=\"images/track_land_point.png\" style=\"display:none;\">\n",
       "<div id=\"quickLinks\">\n",
       "<span class=\"lang-spanish\"><a href=\"//forecast.weather.gov/MapClick.php?lat=38.8904&amp;lon=-77.032&amp;lg=sp\">En Español</a></span>\n",
       "<div class=\"addthis_toolbox addthis_default_style addthis-forecast\">\n",
       "<a class=\"addthis_button_compact\" href=\"//www.addthis.com/bookmark.php?v=250&amp;pubid=ra-5127a6364d551d04\">Share</a>\n",
       "<span class=\"addthis_separator\">|</span>\n",
       "<a class=\"addthis_button_preferred_1\"></a>\n",
       "<a class=\"addthis_button_preferred_2\"></a>\n",
       "<a class=\"addthis_button_preferred_3\"></a>\n",
       "<a class=\"addthis_button_preferred_4\"></a>\n",
       "<a class=\"addthis_button_preferred_5\"></a>\n",
       "</div>\n",
       "<script type=\"text/javascript\">\n",
       "\t\tvar addthis_config = addthis_config || {data_track_addressbar:true, pubid: 'xa-4b05b2d91f18c9cc'};\n",
       "\t    $(document).ready(function(){\n",
       "\t\t\tjQuery.ajax({\n",
       "\t\t\t\turl: \"//s7.addthis.com/js/300/addthis_widget.js#async=1\",\n",
       "\t\t\t\tdataType: \"script\",\n",
       "\t\t\t\tcache: false\n",
       "\t\t\t});\n",
       "\t    });\n",
       "\t</script>\n",
       "</div>\n",
       "<!-- Current Conditions -->\n",
       "<div class=\"panel panel-default\" id=\"current-conditions\">\n",
       "<!-- Current Conditions header row -->\n",
       "<div class=\"panel-heading\">\n",
       "<div>\n",
       "<b>Current conditions at</b>\n",
       "<h2 class=\"panel-title\">Washington/Reagan National Airport, DC (KDCA)</h2>\n",
       "<span class=\"smallTxt\"><b>Lat: </b>38.85°N<b>Lon: </b>77.03°W<b>Elev: </b>13ft.</span>\n",
       "</div>\n",
       "</div>\n",
       "<div class=\"panel-body\" id=\"current-conditions-body\">\n",
       "<!-- Graphic and temperatures -->\n",
       "<div class=\"pull-left\" id=\"current_conditions-summary\">\n",
       "<img alt=\"\" class=\"pull-left\" src=\"newimages/large/nra.png\"/>\n",
       "<p class=\"myforecast-current\"> Light Drizzle Fog/Mist</p>\n",
       "<p class=\"myforecast-current-lrg\">69°F</p>\n",
       "<p class=\"myforecast-current-sm\">21°C</p>\n",
       "</div>\n",
       "<div class=\"pull-left\" id=\"current_conditions_detail\">\n",
       "<table>\n",
       "<tr>\n",
       "<td class=\"text-right\"><b>Humidity</b></td>\n",
       "<td>93%</td>\n",
       "</tr>\n",
       "<tr>\n",
       "<td class=\"text-right\"><b>Wind Speed</b></td>\n",
       "<td>Calm</td>\n",
       "</tr>\n",
       "<tr>\n",
       "<td class=\"text-right\"><b>Barometer</b></td>\n",
       "<td>29.98 in (1015.0 mb)</td>\n",
       "</tr>\n",
       "<tr>\n",
       "<td class=\"text-right\"><b>Dewpoint</b></td>\n",
       "<td>67°F (19°C)</td>\n",
       "</tr>\n",
       "<tr>\n",
       "<td class=\"text-right\"><b>Visibility</b></td>\n",
       "<td>2.50 mi</td>\n",
       "</tr>\n",
       "<tr>\n",
       "<td class=\"text-right\"><b>Last update</b></td>\n",
       "<td>\n",
       "                27 Sep 1:52 am EDT            </td>\n",
       "</tr>\n",
       "</table>\n",
       "</div>\n",
       "<div id=\"current_conditions_station\">\n",
       "<div class=\"current-conditions-extra\">\n",
       "<!-- Right hand section -->\n",
       "<p class=\"moreInfo\"><b>More Information:</b></p><p><a href=\"https://www.weather.gov/lwx\" id=\"localWFO\" title=\"Baltimore, MD/Washington, D.C.\"><span class=\"hideText\">Local</span> Forecast Office</a><a href=\"obslocal.php?warnzone=DCZ001&amp;local_place=Washington DC&amp;zoneid=EDT&amp;offset=14400\" id=\"moreWx\">More Local Wx</a><a href=\"//www.weather.gov/data/obhistory/KDCA.html\" id=\"3dayHist\">3 Day History</a><a href=\"//mobile.weather.gov/index.php?lat=38.8904&amp;lon=-77.032&amp;unit=0&amp;lg=english\" id=\"mobileWxLink\">Mobile Weather</a><a href=\"MapClick.php?lat=38.8904&amp;lon=-77.032&amp;unit=0&amp;lg=english&amp;FcstType=graphical\" id=\"wxGraph\">Hourly <span class=\"hideText\">Weather </span>Forecast</a></p> </div>\n",
       "<!-- /current_conditions_station -->\n",
       "</div>\n",
       "<!-- /current-conditions-body -->\n",
       "</div>\n",
       "<!-- /Current Conditions -->\n",
       "</div>\n",
       "<!-- 7-Day Forecast -->\n",
       "<div class=\"panel panel-default\" id=\"seven-day-forecast\">\n",
       "<div class=\"panel-heading\">\n",
       "<b>Extended Forecast for</b>\n",
       "<h2 class=\"panel-title\">\n",
       "\t    \t    Washington DC\t</h2>\n",
       "</div>\n",
       "<div class=\"panel-body\" id=\"seven-day-forecast-body\">\n",
       "<div id=\"seven-day-forecast-container\"><ul class=\"list-unstyled\" id=\"seven-day-forecast-list\"><li class=\"forecast-tombstone\">\n",
       "<div class=\"tombstone-container\">\n",
       "<p class=\"period-name\">Overnight<br/><br/></p>\n",
       "<p><img alt=\"Overnight: Patchy drizzle and fog with isolated showers before 3am, then isolated showers after 3am.  Cloudy, with a low around 63. Calm wind.  Chance of precipitation is 20%.\" class=\"forecast-icon\" src=\"newimages/medium/nra20.png\" title=\"Overnight: Patchy drizzle and fog with isolated showers before 3am, then isolated showers after 3am.  Cloudy, with a low around 63. Calm wind.  Chance of precipitation is 20%.\"/></p><p class=\"short-desc\">Patchy<br/>Drizzle and<br/>Patchy Fog</p><p class=\"temp temp-low\">Low: 63 °F</p></div></li><li class=\"forecast-tombstone\">\n",
       "<div class=\"tombstone-container\">\n",
       "<p class=\"period-name\">Sunday<br/><br/></p>\n",
       "<p><img alt=\"Sunday: Isolated showers.  Areas of fog before 11am.  Otherwise, mostly cloudy, with a high near 80. Calm wind becoming southeast around 6 mph in the afternoon.  Chance of precipitation is 20%.\" class=\"forecast-icon\" src=\"newimages/medium/shra20.png\" title=\"Sunday: Isolated showers.  Areas of fog before 11am.  Otherwise, mostly cloudy, with a high near 80. Calm wind becoming southeast around 6 mph in the afternoon.  Chance of precipitation is 20%.\"/></p><p class=\"short-desc\">Isolated<br/>Showers and<br/>Areas Fog</p><p class=\"temp temp-high\">High: 80 °F</p></div></li><li class=\"forecast-tombstone\">\n",
       "<div class=\"tombstone-container\">\n",
       "<p class=\"period-name\">Sunday<br/>Night</p>\n",
       "<p><img alt=\"Sunday Night: Isolated showers before 9pm.  Cloudy, with a low around 65. South wind around 6 mph.  Chance of precipitation is 20%.\" class=\"forecast-icon\" src=\"DualImage.php?i=nshra&amp;j=novc&amp;ip=20\" title=\"Sunday Night: Isolated showers before 9pm.  Cloudy, with a low around 65. South wind around 6 mph.  Chance of precipitation is 20%.\"/></p><p class=\"short-desc\">Isolated<br/>Showers then<br/>Cloudy</p><p class=\"temp temp-low\">Low: 65 °F</p></div></li><li class=\"forecast-tombstone\">\n",
       "<div class=\"tombstone-container\">\n",
       "<p class=\"period-name\">Monday<br/><br/></p>\n",
       "<p><img alt=\"Monday: Partly sunny, with a high near 82. South wind 6 to 10 mph. \" class=\"forecast-icon\" src=\"newimages/medium/bkn.png\" title=\"Monday: Partly sunny, with a high near 82. South wind 6 to 10 mph. \"/></p><p class=\"short-desc\">Partly Sunny</p><p class=\"temp temp-high\">High: 82 °F</p></div></li><li class=\"forecast-tombstone\">\n",
       "<div class=\"tombstone-container\">\n",
       "<p class=\"period-name\">Monday<br/>Night</p>\n",
       "<p><img alt=\"Monday Night: A chance of showers, mainly after 3am.  Partly cloudy, with a low around 68. South wind 6 to 10 mph.  Chance of precipitation is 40%.\" class=\"forecast-icon\" src=\"newimages/medium/hi_nshwrs40.png\" title=\"Monday Night: A chance of showers, mainly after 3am.  Partly cloudy, with a low around 68. South wind 6 to 10 mph.  Chance of precipitation is 40%.\"/></p><p class=\"short-desc\">Chance<br/>Showers</p><p class=\"temp temp-low\">Low: 68 °F</p></div></li><li class=\"forecast-tombstone\">\n",
       "<div class=\"tombstone-container\">\n",
       "<p class=\"period-name\">Tuesday<br/><br/></p>\n",
       "<p><img alt=\"Tuesday: A chance of showers, then showers and possibly a thunderstorm after 9am.  High near 78. Chance of precipitation is 80%.\" class=\"forecast-icon\" src=\"newimages/medium/shra80.png\" title=\"Tuesday: A chance of showers, then showers and possibly a thunderstorm after 9am.  High near 78. Chance of precipitation is 80%.\"/></p><p class=\"short-desc\">Showers</p><p class=\"temp temp-high\">High: 78 °F</p></div></li><li class=\"forecast-tombstone\">\n",
       "<div class=\"tombstone-container\">\n",
       "<p class=\"period-name\">Tuesday<br/>Night</p>\n",
       "<p><img alt=\"Tuesday Night: Showers and possibly a thunderstorm before 3am, then showers likely.  Low around 61. Chance of precipitation is 80%.\" class=\"forecast-icon\" src=\"newimages/medium/nshra80.png\" title=\"Tuesday Night: Showers and possibly a thunderstorm before 3am, then showers likely.  Low around 61. Chance of precipitation is 80%.\"/></p><p class=\"short-desc\">Showers</p><p class=\"temp temp-low\">Low: 61 °F</p></div></li><li class=\"forecast-tombstone\">\n",
       "<div class=\"tombstone-container\">\n",
       "<p class=\"period-name\">Wednesday<br/><br/></p>\n",
       "<p><img alt=\"Wednesday: Showers likely, mainly before 9am.  Mostly cloudy, with a high near 72. Chance of precipitation is 60%.\" class=\"forecast-icon\" src=\"newimages/medium/shra60.png\" title=\"Wednesday: Showers likely, mainly before 9am.  Mostly cloudy, with a high near 72. Chance of precipitation is 60%.\"/></p><p class=\"short-desc\">Showers<br/>Likely</p><p class=\"temp temp-high\">High: 72 °F</p></div></li><li class=\"forecast-tombstone\">\n",
       "<div class=\"tombstone-container\">\n",
       "<p class=\"period-name\">Wednesday<br/>Night</p>\n",
       "<p><img alt=\"Wednesday Night: A chance of showers.  Mostly cloudy, with a low around 57. Chance of precipitation is 40%.\" class=\"forecast-icon\" src=\"newimages/medium/nshra40.png\" title=\"Wednesday Night: A chance of showers.  Mostly cloudy, with a low around 57. Chance of precipitation is 40%.\"/></p><p class=\"short-desc\">Chance<br/>Showers</p><p class=\"temp temp-low\">Low: 57 °F</p></div></li></ul></div>\n",
       "<script type=\"text/javascript\">\n",
       "// equalize forecast heights\n",
       "$(function () {\n",
       "\tvar maxh = 0;\n",
       "\t$(\".forecast-tombstone .short-desc\").each(function () {\n",
       "\t\tvar h = $(this).height();\n",
       "\t\tif (h > maxh) { maxh = h; }\n",
       "\t});\n",
       "\t$(\".forecast-tombstone .short-desc\").height(maxh);\n",
       "});\n",
       "</script> </div>\n",
       "</div>\n",
       "<!-- Everything between 7-Day Forecast and Footer goes in this row -->\n",
       "<div class=\"row\" id=\"floatingDivs\">\n",
       "<!-- Everything on the left-hand side -->\n",
       "<div class=\"col-md-7 col-lg-8\">\n",
       "<!-- Detailed Forecast -->\n",
       "<div class=\"panel panel-default\" id=\"detailed-forecast\">\n",
       "<div class=\"panel-heading\">\n",
       "<h2 class=\"panel-title\">Detailed Forecast</h2>\n",
       "</div>\n",
       "<div class=\"panel-body\" id=\"detailed-forecast-body\">\n",
       "<div class=\"row row-odd row-forecast\"><div class=\"col-sm-2 forecast-label\"><b>Overnight</b></div><div class=\"col-sm-10 forecast-text\">Patchy drizzle and fog with isolated showers before 3am, then isolated showers after 3am.  Cloudy, with a low around 63. Calm wind.  Chance of precipitation is 20%.</div></div><div class=\"row row-even row-forecast\"><div class=\"col-sm-2 forecast-label\"><b>Sunday</b></div><div class=\"col-sm-10 forecast-text\">Isolated showers.  Areas of fog before 11am.  Otherwise, mostly cloudy, with a high near 80. Calm wind becoming southeast around 6 mph in the afternoon.  Chance of precipitation is 20%.</div></div><div class=\"row row-odd row-forecast\"><div class=\"col-sm-2 forecast-label\"><b>Sunday Night</b></div><div class=\"col-sm-10 forecast-text\">Isolated showers before 9pm.  Cloudy, with a low around 65. South wind around 6 mph.  Chance of precipitation is 20%.</div></div><div class=\"row row-even row-forecast\"><div class=\"col-sm-2 forecast-label\"><b>Monday</b></div><div class=\"col-sm-10 forecast-text\">Partly sunny, with a high near 82. South wind 6 to 10 mph. </div></div><div class=\"row row-odd row-forecast\"><div class=\"col-sm-2 forecast-label\"><b>Monday Night</b></div><div class=\"col-sm-10 forecast-text\">A chance of showers, mainly after 3am.  Partly cloudy, with a low around 68. South wind 6 to 10 mph.  Chance of precipitation is 40%.</div></div><div class=\"row row-even row-forecast\"><div class=\"col-sm-2 forecast-label\"><b>Tuesday</b></div><div class=\"col-sm-10 forecast-text\">A chance of showers, then showers and possibly a thunderstorm after 9am.  High near 78. Chance of precipitation is 80%.</div></div><div class=\"row row-odd row-forecast\"><div class=\"col-sm-2 forecast-label\"><b>Tuesday Night</b></div><div class=\"col-sm-10 forecast-text\">Showers and possibly a thunderstorm before 3am, then showers likely.  Low around 61. Chance of precipitation is 80%.</div></div><div class=\"row row-even row-forecast\"><div class=\"col-sm-2 forecast-label\"><b>Wednesday</b></div><div class=\"col-sm-10 forecast-text\">Showers likely, mainly before 9am.  Mostly cloudy, with a high near 72. Chance of precipitation is 60%.</div></div><div class=\"row row-odd row-forecast\"><div class=\"col-sm-2 forecast-label\"><b>Wednesday Night</b></div><div class=\"col-sm-10 forecast-text\">A chance of showers.  Mostly cloudy, with a low around 57. Chance of precipitation is 40%.</div></div><div class=\"row row-even row-forecast\"><div class=\"col-sm-2 forecast-label\"><b>Thursday</b></div><div class=\"col-sm-10 forecast-text\">A chance of showers.  Mostly sunny, with a high near 71. Chance of precipitation is 40%.</div></div><div class=\"row row-odd row-forecast\"><div class=\"col-sm-2 forecast-label\"><b>Thursday Night</b></div><div class=\"col-sm-10 forecast-text\">A chance of showers.  Partly cloudy, with a low around 53. Chance of precipitation is 30%.</div></div><div class=\"row row-even row-forecast\"><div class=\"col-sm-2 forecast-label\"><b>Friday</b></div><div class=\"col-sm-10 forecast-text\">Partly sunny, with a high near 67.</div></div><div class=\"row row-odd row-forecast\"><div class=\"col-sm-2 forecast-label\"><b>Friday Night</b></div><div class=\"col-sm-10 forecast-text\">Partly cloudy, with a low around 48.</div></div><div class=\"row row-even row-forecast\"><div class=\"col-sm-2 forecast-label\"><b>Saturday</b></div><div class=\"col-sm-10 forecast-text\">Sunny, with a high near 65.</div></div> </div>\n",
       "</div>\n",
       "<!-- /Detailed Forecast -->\n",
       "<!-- Additional Forecasts and Information -->\n",
       "<div class=\"panel panel-default\" id=\"additional_forecasts\">\n",
       "<div class=\"panel-heading\">\n",
       "<h2 class=\"panel-title\">Additional Forecasts and Information</h2>\n",
       "</div>\n",
       "<div class=\"panel-body\" id=\"additional-forecasts-body\">\n",
       "<p class=\"myforecast-location\"><a href=\"MapClick.php?zoneid=DCZ001\">Zone Area Forecast for District of Columbia, DC</a></p>\n",
       "<!-- First nine-ten links -->\n",
       "<div id=\"linkBlockContainer\">\n",
       "<div class=\"linkBlock\">\n",
       "<ul class=\"list-unstyled\">\n",
       "<li><a href=\"//forecast.weather.gov/product.php?site=LWX&amp;issuedby=LWX&amp;product=AFD&amp;format=CI&amp;version=1&amp;glossary=1&amp;highlight=off\">Forecast Discussion</a></li>\n",
       "<li><a href=\"MapClick.php?lat=38.8904&amp;lon=-77.032&amp;unit=0&amp;lg=english&amp;FcstType=text&amp;TextType=2\">Printable Forecast</a></li>\n",
       "<li><a href=\"MapClick.php?lat=38.8904&amp;lon=-77.032&amp;unit=0&amp;lg=english&amp;FcstType=text&amp;TextType=1\">Text Only Forecast</a></li>\n",
       "</ul>\n",
       "</div>\n",
       "<div class=\"linkBlock\">\n",
       "<ul class=\"list-unstyled\">\n",
       "<li><a href=\"MapClick.php?lat=38.8904&amp;lon=-77.032&amp;unit=0&amp;lg=english&amp;FcstType=graphical\">Hourly Weather Forecast</a></li>\n",
       "<li><a href=\"MapClick.php?lat=38.8904&amp;lon=-77.032&amp;unit=0&amp;lg=english&amp;FcstType=digital\">Tabular Forecast</a></li>\n",
       "<!-- <li><a href=\"afm/PointClick.php?lat=38.8904&lon=-77.032\">Quick Forecast</a></li> -->\n",
       "</ul>\n",
       "</div>\n",
       "<div class=\"linkBlock\">\n",
       "<ul class=\"list-unstyled\">\n",
       "<li><a href=\"//weather.gov/aq/probe_aq_data.php?latitude=38.8904&amp;longitude=-77.032\">Air Quality Forecasts</a></li>\n",
       "<li><a href=\"MapClick.php?lat=38.8904&amp;lon=-77.032&amp;FcstType=text&amp;unit=1&amp;lg=en\">International System of Units</a></li>\n",
       "</ul>\n",
       "</div>\n",
       "<!-- /First nine-ten links -->\n",
       "<!-- Additional links -->\n",
       "<div class=\"linkBlock\"><ul class=\"list-unstyled\"><li><a href=\"http://forecast.weather.gov/product.php?site=NWS&amp;issuedby=LWX&amp;product=HWO&amp;format=CI&amp;version=1&amp;glossary=0&amp;highlight=off\" target=\"_self\">Hazardous Weather </a></li><li><a href=\"http://www.weather.gov/lwx/empage\" target=\"_self\">Briefing Page</a></li></ul></div><div class=\"linkBlock\"><ul class=\"list-unstyled\"><li><a href=\"http://www.weather.gov/climate/index.php?wfo=lwx\" target=\"_self\">Past Weather Information</a></li><li><a href=\"http://preview.weather.gov/edd/\" target=\"_self\">Interactive Forecast Map</a></li></ul></div><div class=\"linkBlock\"><ul class=\"list-unstyled\"><li><a href=\"http://www.weather.gov/lwx/\" target=\"_self\">Home</a></li></ul></div>\n",
       "</div> <!-- /linkBlockContainer -->\n",
       "</div><!-- /additional-forecasts-body-->\n",
       "</div> <!-- /additional_forecasts -->\n",
       "</div> <!-- /Everything on the left-hand side -->\n",
       "<!-- right-side-data -->\n",
       "<div class=\"col-md-5 col-lg-4\" id=\"right-side-data\">\n",
       "<div id=\"mapAndDescriptionArea\">\n",
       "<!-- openlayer map -->\n",
       "<style>\n",
       "#custom-search{\n",
       "display: block;\n",
       "position: relative;\n",
       "z-index: 50;\n",
       "top: 52px;\n",
       "left: 60px;\n",
       "}\n",
       "#esri-geocoder-search{\n",
       "display: block;\n",
       "position: relative;\n",
       "z-index: 50;\n",
       "top: 52px;\n",
       "left: 60px;\n",
       "}\n",
       "#emap{\n",
       "margin-top:15px;\n",
       "cursor:pointer;\n",
       "height:370px;\n",
       "width:100%;\n",
       "border: 1px solid #ccc;\n",
       "border-radius: 3px;\n",
       "}\n",
       "#switch-basemap-container{\n",
       "}\n",
       "#basemap-selection-form ul{\n",
       "list-style: none;\n",
       " margin: 0px;\n",
       "}\n",
       "#basemap-selection-form li{\n",
       "float: left;\n",
       "}\n",
       ".disclaimer{\n",
       "margin-top:350px;\n",
       "margin-left: 5px;\n",
       "z-index: 100;\n",
       "position: absolute;\n",
       "text-transform: none;\n",
       "}\n",
       ".esriAttributionLastItem{\n",
       "text-transform: none;\n",
       "}\n",
       ".esriSimpleSlider div{\n",
       "height:22px;\n",
       "line-height:20px;\n",
       "width:20px;\n",
       "}\n",
       "#point-forecast-map-label {\n",
       "text-align:center;\n",
       "font-weight:bold;\n",
       "color:black;\n",
       "}\n",
       "@media (max-width: 767px) {\n",
       "#emap{\n",
       "margin-top:.5em;\n",
       "height:270px;\n",
       "}\n",
       ".disclaimer{\n",
       "margin-top:250px;\n",
       "}\n",
       "}\n",
       "</style>\n",
       "<!-- forecast-map -->\n",
       "<div class=\"point-forecast-map\">\n",
       "<div class=\"point-forecast-map-header text-center\">\n",
       "<div id=\"toolbar\">\n",
       "<div id=\"switch-basemap-container\">\n",
       "<div id=\"basemap-selection-form\" title=\"Choose a Basemap\">\n",
       "<div id=\"basemap-menu\">\n",
       "<select autocomplete=\"off\" id=\"basemap-selected\" name=\"basemap-selected\" title=\"Basemap Dropdown Menu\">\n",
       "<option value=\"none\">Select Basemap</option>\n",
       "<option selected=\"\" value=\"topo\">Topographic</option>\n",
       "<option value=\"streets\">Streets</option>\n",
       "<option value=\"satellite\">Satellite</option>\n",
       "<option value=\"ocean\">Ocean</option>\n",
       "</select>\n",
       "</div>\n",
       "</div>\n",
       "<div id=\"point-forecast-map-label\">\n",
       "                    Click Map For Forecast\n",
       "                </div>\n",
       "</div><!-- //#switch-basemap-container -->\n",
       "<div style=\"clear:both;\"></div>\n",
       "</div><!-- //#toolbar -->\n",
       "</div><!-- //.point-forecast-map-header -->\n",
       "<div id=\"emap\">\n",
       "<noscript><center><br/><br/><b>Map function requires Javascript and a compatible browser.</b></center></noscript>\n",
       "<div class=\"disclaimer\"><a href=\"http://www.weather.gov/disclaimer#esri\">Disclaimer</a></div>\n",
       "</div><!-- //#emap -->\n",
       "<div class=\"point-forecast-map-footer\">\n",
       "<img alt=\"Map Legend\" height=\"16\" src=\"./images/wtf/maplegend_forecast-area.gif\" width=\"100\"/>\n",
       "</div><!-- //.point-forecast-map-footer -->\n",
       "</div> <!-- //.point-forecast-map -->\n",
       "<!-- //forecast-map -->\n",
       "<!-- //openlayer map -->\n",
       "<!-- About this Forecast -->\n",
       "<div id=\"about_forecast\">\n",
       "<div class=\"fullRow\">\n",
       "<div class=\"left\">Point Forecast:</div>\n",
       "<div class=\"right\">Washington DC<br/> 38.89°N 77.02°W (Elev. 20 ft)</div>\n",
       "</div>\n",
       "<div class=\"fullRow\">\n",
       "<div class=\"left\"><a href=\"//www.weather.gov/glossary/index.php?word=Last+update\" target=\"_blank\">Last Update</a>: </div>\n",
       "<div class=\"right\">1:31 am EDT Sep 27, 2020</div>\n",
       "</div>\n",
       "<div class=\"fullRow\">\n",
       "<div class=\"left\"><a href=\"//www.weather.gov/glossary/index.php?word=forecast+valid+for\" target=\"_blank\">Forecast Valid</a>: </div>\n",
       "<div class=\"right\">2am EDT Sep 27, 2020-6pm EDT Oct 3, 2020</div>\n",
       "</div>\n",
       "<div class=\"fullRow\">\n",
       "<div class=\"left\"> </div>\n",
       "<div class=\"right\"><a href=\"https://forecast.weather.gov/product.php?site=LWX&amp;issuedby=LWX&amp;product=AFD&amp;format=CI&amp;version=1&amp;glossary=1\">Forecast Discussion</a></div>\n",
       "</div>\n",
       "<div class=\"fullRow\">\n",
       "<div class=\"left\"> </div>\n",
       "<div class=\"right\">\n",
       "<a href=\"MapClick.php?lat=38.8904&amp;lon=-77.032&amp;unit=0&amp;lg=english&amp;FcstType=kml\"><img alt=\"Get as KML\" height=\"17\" src=\"/images/wtf/kml_badge.png\" width=\"45\"/></a>\n",
       "<a href=\"MapClick.php?lat=38.8904&amp;lon=-77.032&amp;unit=0&amp;lg=english&amp;FcstType=dwml\"><img alt=\"Get as XML\" height=\"17\" src=\"/images/wtf/xml_badge.png\" width=\"45\"/></a>\n",
       "</div>\n",
       "</div>\n",
       "</div>\n",
       "<!-- /About this Forecast -->\n",
       "</div>\n",
       "<!--additionalForecast-->\n",
       "<div class=\"panel panel-default\" id=\"additionalForecast\">\n",
       "<div class=\"panel-heading\">\n",
       "<h2 class=\"panel-title\">Additional Resources</h2>\n",
       "</div>\n",
       "<div class=\"panel-body\">\n",
       "<!-- Radar & Satellite Images -->\n",
       "<div class=\"subItem\" id=\"radar\">\n",
       "<h4>Radar &amp; Satellite Image</h4>\n",
       "<a href=\"//radar.weather.gov/radar.php?rid=lwx&amp;product=N0R&amp;overlay=11101111&amp;loop=no\"><img alt=\"Link to Local Radar Data\" class=\"radar-thumb\" src=\"//radar.weather.gov/Thumbs/LWX_Thumb.gif\" title=\"Link to Local Radar Data\"/></a> <a href=\"https://www.star.nesdis.noaa.gov/GOES/GOES16_CONUS.php\"><img alt=\"Link to Satellite Data\" class=\"satellite-thumb\" src=\"https://cdn.star.nesdis.noaa.gov/GOES16/ABI/CONUS/GEOCOLOR/625x375.jpg\" title=\"Link to Satellite Data\"/></a> </div>\n",
       "<!-- /Radar & Satellite Images -->\n",
       "<!-- Hourly Weather Forecast -->\n",
       "<div class=\"subItem\" id=\"feature\">\n",
       "<h4>Hourly Weather Forecast</h4>\n",
       "<a href=\"MapClick.php?lat=38.8904&amp;lon=-77.032&amp;unit=0&amp;lg=english&amp;FcstType=graphical\"><img class=\"img-responsive\" src=\"newimages/medium/hourlyweather.png\"/></a>\n",
       "</div>\n",
       "<!-- /Hourly Weather Forecast -->\n",
       "<!-- NDFD -->\n",
       "<div class=\"subItem\" id=\"NDFD\">\n",
       "<h4>National Digital Forecast Database</h4>\n",
       "<div class=\"one-sixth-first\"><a href=\"//graphical.weather.gov/sectors/nemetro.php?element=MaxT\"><img alt=\"National Digital Forecast Database Maximum Temperature Forecast\" border=\"0\" height=\"150\" src=\"//graphical.weather.gov/images/thumbnail/latest_MaxMinT_nemetro_thumbnail.png\" title=\"National Digital Forecast Database Maximum Temperature Forecast\" width=\"147\"/></a>\n",
       "<p><a href=\"//graphical.weather.gov/sectors/nemetro.php?element=MaxT\">High Temperature</a></p></div><div class=\"one-sixth-first\"><a href=\"//graphical.weather.gov/sectors/nemetro.php?element=Wx\"><img alt=\"National Digital Forecast Database Weather Element Forecast\" border=\"0\" height=\"150\" src=\"//graphical.weather.gov/images/thumbnail/latest_Wx_nemetro_thumbnail.png\" title=\"National Digital Forecast Database Weather Element Forecast\" width=\"147\"/></a>\n",
       "<p><a href=\"//graphical.weather.gov/sectors/nemetro.php?element=Wx\">Chance of Precipitation</a></p></div> </div>\n",
       "<!-- /NDFD -->\n",
       "</div>\n",
       "</div>\n",
       "<!-- /additionalForecast -->\n",
       "</div>\n",
       "<!-- /col-md-4 -->\n",
       "<!-- /right-side-data -->\n",
       "<script language=\"javascript\">$( document ).ready(function() { load_openlayers_map('', '', '', '{\"centroid_lat\":\"38.8904\",\"centroid_lon\":\"-77.032\",\"lat1\":\"38.8785\",\"lon1\":\"-77.041\",\"lat2\":\"38.9005\",\"lon2\":\"-77.037\",\"lat3\":\"38.8975\",\"lon3\":\"-77.009\",\"lat4\":\"38.8755\",\"lon4\":\"-77.013\"}') });</script></div>\n",
       "<!-- /row  -->\n",
       "</img></div>\n",
       "<!-- /PageFormat-Land -->\n",
       "</main></body></html>\n",
       "<footer>\n",
       "<div class=\"sitemap-content row\" id=\"sitemap\">\n",
       "<div class=\"col-xs-12\">\n",
       "<div class=\"sitemap-columns\">\n",
       "<div class=\"sitemap-section\">\n",
       "<div class=\"panel-heading\">\n",
       "<a class=\"sitemap-section-heading\" href=\" http://www.nws.noaa.gov/climate/\">PAST WEATHER</a>\n",
       "<button class=\"menu-toggle pull-right\" data-target=\"#sitemap-1\" data-toggle=\"collapse\" type=\"button\">\n",
       "<span class=\"sr-only\">Toggle menu</span>\n",
       "<span class=\"icon-bar\"></span>\n",
       "<span class=\"icon-bar\"></span>\n",
       "<span class=\"icon-bar\"></span>\n",
       "</button>\n",
       "</div>\n",
       "<div class=\"sitemap-section-body panel-body collapsable collapse\" id=\"sitemap-1\">\n",
       "<ul class=\"list-unstyled\">\n",
       "<li><a href=\" http://www.cpc.ncep.noaa.gov/products/MD_index.shtml\">Climate Monitoring </a></li>\n",
       "<li><a href=\"https://w2.weather.gov/climate/\">Past Weather </a></li>\n",
       "<li><a href=\" http://www.nws.noaa.gov/climate/\">Monthly Temps </a></li>\n",
       "<li><a href=\" http://www.nws.noaa.gov/climate/\">Records </a></li>\n",
       "<li><a href=\"https://www.esrl.noaa.gov/gmd/grad/solcalc/sunrise.html\">Astronomical Data </a></li>\n",
       "<li><a href=\"https://www.climate.gov/maps-data/dataset/past-weather-zip-code-data-table\">Certified Weather Data </a></li>\n",
       "</ul>\n",
       "</div>\n",
       "</div>\n",
       "<div class=\"sitemap-section\">\n",
       "<div class=\"panel-heading\">\n",
       "<a class=\"sitemap-section-heading\" href=\"http://alerts.weather.gov\">ACTIVE ALERTS</a>\n",
       "<button class=\"menu-toggle pull-right\" data-target=\"#sitemap-2\" data-toggle=\"collapse\" type=\"button\">\n",
       "<span class=\"sr-only\">Toggle menu</span>\n",
       "<span class=\"icon-bar\"></span>\n",
       "<span class=\"icon-bar\"></span>\n",
       "<span class=\"icon-bar\"></span>\n",
       "</button>\n",
       "</div>\n",
       "<div class=\"sitemap-section-body panel-body collapsable collapse\" id=\"sitemap-2\">\n",
       "<ul class=\"list-unstyled\">\n",
       "<li><a href=\" http://alerts.weather.gov\">Warnings By State</a></li>\n",
       "<li><a href=\" http://www.wpc.ncep.noaa.gov/ww.shtml\">Excessive Rainfall and Winter Weather Forecasts</a></li>\n",
       "<li><a href=\"http://water.weather.gov/ahps/?current_color=flood&amp;current_type=all&amp;fcst_type=obs&amp;conus_map=d_map\">River Flooding </a></li>\n",
       "<li><a href=\" http://www.weather.gov\">Latest Warnings</a></li>\n",
       "<li><a href=\" http://www.spc.noaa.gov/products/outlook/\">Thunderstorm/Tornado Outlook </a></li>\n",
       "<li><a href=\" http://www.nhc.noaa.gov/\">Hurricanes </a></li>\n",
       "<li><a href=\" http://www.spc.noaa.gov/products/fire_wx/\">Fire Weather Outlooks </a></li>\n",
       "<li><a href=\" http://www.cpc.ncep.noaa.gov/products/stratosphere/uv_index/uv_alert.shtml\">UV Alerts </a></li>\n",
       "<li><a href=\" http://www.drought.gov/\">Drought </a></li>\n",
       "<li><a href=\"http://www.swpc.noaa.gov/products/alerts-watches-and-warnings\">Space Weather </a></li>\n",
       "<li><a href=\" http://www.nws.noaa.gov/nwr/\">NOAA Weather Radio </a></li>\n",
       "<li><a href=\" http://alerts.weather.gov/\">NWS CAP Feeds </a></li>\n",
       "</ul>\n",
       "</div>\n",
       "</div>\n",
       "<div class=\"sitemap-section\">\n",
       "<div class=\"panel-heading\">\n",
       "<a class=\"sitemap-section-heading\" href=\"http://www.weather.gov/current\">CURRENT CONDITIONS</a>\n",
       "<button class=\"menu-toggle pull-right\" data-target=\"#sitemap-3\" data-toggle=\"collapse\" type=\"button\">\n",
       "<span class=\"sr-only\">Toggle menu</span>\n",
       "<span class=\"icon-bar\"></span>\n",
       "<span class=\"icon-bar\"></span>\n",
       "<span class=\"icon-bar\"></span>\n",
       "</button>\n",
       "</div>\n",
       "<div class=\"sitemap-section-body panel-body collapsable collapse\" id=\"sitemap-3\">\n",
       "<ul class=\"list-unstyled\">\n",
       "<li><a href=\" http://www.weather.gov/Radar\">Radar </a></li>\n",
       "<li><a href=\"http://www.cpc.ncep.noaa.gov/products/monitoring_and_data/\">Climate Monitoring </a></li>\n",
       "<li><a href=\" http://water.weather.gov/ahps/\">River Levels </a></li>\n",
       "<li><a href=\" http://water.weather.gov/precip/\">Observed Precipitation </a></li>\n",
       "<li><a href=\"https://www.wpc.ncep.noaa.gov/sfc/sfcobs/sfcobs.shtml\">Surface Weather </a></li>\n",
       "<li><a href=\"http://www.spc.noaa.gov/obswx/maps/\">Upper Air </a></li>\n",
       "<li><a href=\" http://www.ndbc.noaa.gov/\">Marine and Buoy Reports </a></li>\n",
       "<li><a href=\"http://www.nohrsc.noaa.gov/interactive/html/map.html\">Snow Cover </a></li>\n",
       "<li><a href=\" http://www.weather.gov/satellite\">Satellite </a></li>\n",
       "<li><a href=\" http://www.swpc.noaa.gov/\">Space Weather </a></li>\n",
       "<li><a href=\"http://www.weather.gov/pr\">International Observations</a></li>\n",
       "</ul>\n",
       "</div>\n",
       "</div>\n",
       "<div class=\"sitemap-section\">\n",
       "<div class=\"panel-heading\">\n",
       "<a class=\"sitemap-section-heading\" href=\"http://weather.gov/forecastmaps\">FORECAST</a>\n",
       "<button class=\"menu-toggle pull-right\" data-target=\"#sitemap-4\" data-toggle=\"collapse\" type=\"button\">\n",
       "<span class=\"sr-only\">Toggle menu</span>\n",
       "<span class=\"icon-bar\"></span>\n",
       "<span class=\"icon-bar\"></span>\n",
       "<span class=\"icon-bar\"></span>\n",
       "</button>\n",
       "</div>\n",
       "<div class=\"sitemap-section-body panel-body collapsable collapse\" id=\"sitemap-4\">\n",
       "<ul class=\"list-unstyled\">\n",
       "<li><a href=\" http://www.weather.gov/\">Local Forecast </a></li>\n",
       "<li><a href=\"http://www.weather.gov/pr\">International Forecasts</a></li>\n",
       "<li><a href=\" http://www.spc.noaa.gov/\">Severe Weather </a></li>\n",
       "<li><a href=\" http://www.wpc.ncep.noaa.gov/\">Current Outlook Maps </a></li>\n",
       "<li><a href=\"http://www.cpc.ncep.noaa.gov/products/Drought\">Drought </a></li>\n",
       "<li><a href=\"http://www.weather.gov/fire\">Fire Weather </a></li>\n",
       "<li><a href=\" http://www.wpc.ncep.noaa.gov/\">Fronts/Precipitation Maps </a></li>\n",
       "<li><a href=\" http://www.nws.noaa.gov/forecasts/graphical/\">Current Graphical Forecast Maps </a></li>\n",
       "<li><a href=\"http://water.weather.gov/ahps/forecasts.php\">Rivers </a></li>\n",
       "<li><a href=\"https://www.weather.gov/marine/\">Marine </a></li>\n",
       "<li><a href=\"https://ocean.weather.gov/marine_areas.php\">Offshore and High Seas</a></li>\n",
       "<li><a href=\" http://www.nhc.noaa.gov/\">Hurricanes </a></li>\n",
       "<li><a href=\" http://aviationweather.gov\">Aviation Weather </a></li>\n",
       "<li><a href=\"http://www.cpc.ncep.noaa.gov/products/OUTLOOKS_index.shtml\">Climatic Outlook </a></li>\n",
       "</ul>\n",
       "</div>\n",
       "</div>\n",
       "<div class=\"sitemap-section\">\n",
       "<div class=\"panel-heading\">\n",
       "<a class=\"sitemap-section-heading\" href=\"http://www.weather.gov/informationcenter\">INFORMATION CENTER</a>\n",
       "<button class=\"menu-toggle pull-right\" data-target=\"#sitemap-5\" data-toggle=\"collapse\" type=\"button\">\n",
       "<span class=\"sr-only\">Toggle menu</span>\n",
       "<span class=\"icon-bar\"></span>\n",
       "<span class=\"icon-bar\"></span>\n",
       "<span class=\"icon-bar\"></span>\n",
       "</button>\n",
       "</div>\n",
       "<div class=\"sitemap-section-body panel-body collapsable collapse\" id=\"sitemap-5\">\n",
       "<ul class=\"list-unstyled\">\n",
       "<li><a href=\" http://www.spaceweather.gov\">Space Weather </a></li>\n",
       "<li><a href=\"http://www.weather.gov/briefing/\">Daily Briefing </a></li>\n",
       "<li><a href=\" http://www.nws.noaa.gov/om/marine/home.htm\">Marine </a></li>\n",
       "<li><a href=\"http://www.nws.noaa.gov/climate\">Climate </a></li>\n",
       "<li><a href=\"http://www.weather.gov/fire\">Fire Weather </a></li>\n",
       "<li><a href=\" http://www.aviationweather.gov/\">Aviation </a></li>\n",
       "<li><a href=\"http://mag.ncep.noaa.gov/\">Forecast Models </a></li>\n",
       "<li><a href=\"http://water.weather.gov/ahps/\">Water </a></li>\n",
       "<li><a href=\"https://www.weather.gov/gis/\">GIS</a></li>\n",
       "<li><a href=\" http://www.nws.noaa.gov/om/coop/\">Cooperative Observers </a></li>\n",
       "<li><a href=\"https://www.weather.gov/skywarn/\">Storm Spotters </a></li>\n",
       "<li><a href=\"http://www.tsunami.gov\">Tsunami Warning System</a></li>\n",
       "<li><a href=\"http://water.noaa.gov/\">National Water Center</a></li>\n",
       "<li><a href=\"http://www.weather.gov/pr\">International Weather</a></li>\n",
       "</ul>\n",
       "</div>\n",
       "</div>\n",
       "<div class=\"sitemap-section\">\n",
       "<div class=\"panel-heading\">\n",
       "<a class=\"sitemap-section-heading\" href=\"http://weather.gov/safety\">WEATHER SAFETY</a>\n",
       "<button class=\"menu-toggle pull-right\" data-target=\"#sitemap-6\" data-toggle=\"collapse\" type=\"button\">\n",
       "<span class=\"sr-only\">Toggle menu</span>\n",
       "<span class=\"icon-bar\"></span>\n",
       "<span class=\"icon-bar\"></span>\n",
       "<span class=\"icon-bar\"></span>\n",
       "</button>\n",
       "</div>\n",
       "<div class=\"sitemap-section-body panel-body collapsable collapse\" id=\"sitemap-6\">\n",
       "<ul class=\"list-unstyled\">\n",
       "<li><a href=\"http://www.weather.gov/nwr/\">NOAA Weather Radio</a></li>\n",
       "<li><a href=\"http://www.weather.gov/stormready/\">StormReady</a></li>\n",
       "<li><a href=\"http://www.nws.noaa.gov/om/heat/index.shtml\">Heat </a></li>\n",
       "<li><a href=\"https://www.weather.gov/safety/lightning\">Lightning </a></li>\n",
       "<li><a href=\" http://www.nhc.noaa.gov/prepare/\">Hurricanes </a></li>\n",
       "<li><a href=\"http://www.nws.noaa.gov/om/thunderstorm/\">Thunderstorms </a></li>\n",
       "<li><a href=\"https://www.weather.gov/safety/tornado\">Tornadoes </a></li>\n",
       "<li><a href=\"https://www.weather.gov/safety/ripcurrent\">Rip Currents </a></li>\n",
       "<li><a href=\"https://www.weather.gov/safety/flood\">Floods </a></li>\n",
       "<li><a href=\"https://www.weather.gov/safety/tsunami\">Tsunamis</a></li>\n",
       "<li><a href=\"https://www.weather.gov/tsunamiready/\">TsunamiReady</a></li>\n",
       "<li><a href=\" http://www.weather.gov/om/winter/index.shtml\">Winter Weather </a></li>\n",
       "<li><a href=\"http://www.nws.noaa.gov/om/heat/uv.shtml\">Ultra Violet Radiation </a></li>\n",
       "<li><a href=\" http://www.weather.gov/airquality/\">Air Quality </a></li>\n",
       "<li><a href=\" http://www.weather.gov/om/hazstats.shtml\">Damage/Fatality/Injury Statistics </a></li>\n",
       "<li><a href=\" http://www.redcross.org/\">Red Cross </a></li>\n",
       "<li><a href=\" http://www.fema.gov/\">Federal Emergency Management Agency (FEMA) </a></li>\n",
       "<li><a href=\" http://www.weather.gov/om/brochures.shtml\">Brochures </a></li>\n",
       "<li><a href=\"http://www.nws.noaa.gov/os/marine/safeboating/\">Safe Boating</a></li>\n",
       "</ul>\n",
       "</div>\n",
       "</div>\n",
       "<div class=\"sitemap-section\">\n",
       "<div class=\"panel-heading\">\n",
       "<a class=\"sitemap-section-heading\" href=\"http://weather.gov/news\">NEWS</a>\n",
       "<button class=\"menu-toggle pull-right\" data-target=\"#sitemap-7\" data-toggle=\"collapse\" type=\"button\">\n",
       "<span class=\"sr-only\">Toggle menu</span>\n",
       "<span class=\"icon-bar\"></span>\n",
       "<span class=\"icon-bar\"></span>\n",
       "<span class=\"icon-bar\"></span>\n",
       "</button>\n",
       "</div>\n",
       "<div class=\"sitemap-section-body panel-body collapsable collapse\" id=\"sitemap-7\">\n",
       "<ul class=\"list-unstyled\">\n",
       "<li><a href=\" http://weather.gov/news\">Newsroom</a></li>\n",
       "<li><a href=\" http://weather.gov/socialmedia\">Social Media </a></li>\n",
       "<li><a href=\"http://www.nws.noaa.gov/com/weatherreadynation/calendar.html\">Events</a></li>\n",
       "<li><a href=\" http://www.weather.gov/om/brochures.shtml\">Pubs/Brochures/Booklets </a></li>\n",
       "</ul>\n",
       "</div>\n",
       "</div>\n",
       "<div class=\"sitemap-section\">\n",
       "<div class=\"panel-heading\">\n",
       "<a class=\"sitemap-section-heading\" href=\"http://weather.gov/owlie\">EDUCATION</a>\n",
       "<button class=\"menu-toggle pull-right\" data-target=\"#sitemap-8\" data-toggle=\"collapse\" type=\"button\">\n",
       "<span class=\"sr-only\">Toggle menu</span>\n",
       "<span class=\"icon-bar\"></span>\n",
       "<span class=\"icon-bar\"></span>\n",
       "<span class=\"icon-bar\"></span>\n",
       "</button>\n",
       "</div>\n",
       "<div class=\"sitemap-section-body panel-body collapsable collapse\" id=\"sitemap-8\">\n",
       "<ul class=\"list-unstyled\">\n",
       "<li><a href=\"http://weather.gov/owlie\">NWS Education Home</a></li>\n",
       "<li><a href=\"http://www.nws.noaa.gov/com/weatherreadynation/force.html\">Be A Force of Nature</a></li>\n",
       "<li><a href=\" http://www.education.noaa.gov/Weather_and_Atmosphere/\">NOAA Education Resources </a></li>\n",
       "<li><a href=\" http://www.weather.gov/glossary/\">Glossary </a></li>\n",
       "<li><a href=\"https://www.weather.gov/jetstream/\">JetStream </a></li>\n",
       "<li><a href=\" http://www.weather.gov/training/\">NWS Training Portal </a></li>\n",
       "<li><a href=\"https://library.noaa.gov/\">NOAA Library </a></li>\n",
       "<li><a href=\"http://weather.gov/owlie\">For Students, Parents and Teachers</a></li>\n",
       "<li><a href=\"http://www.weather.gov/owlie/publication_brochures\">Brochures </a></li>\n",
       "</ul>\n",
       "</div>\n",
       "</div>\n",
       "<div class=\"sitemap-section\">\n",
       "<div class=\"panel-heading\">\n",
       "<a class=\"sitemap-section-heading\" href=\"http://weather.gov/about\">ABOUT</a>\n",
       "<button class=\"menu-toggle pull-right\" data-target=\"#sitemap-9\" data-toggle=\"collapse\" type=\"button\">\n",
       "<span class=\"sr-only\">Toggle menu</span>\n",
       "<span class=\"icon-bar\"></span>\n",
       "<span class=\"icon-bar\"></span>\n",
       "<span class=\"icon-bar\"></span>\n",
       "</button>\n",
       "</div>\n",
       "<div class=\"sitemap-section-body panel-body collapsable collapse\" id=\"sitemap-9\">\n",
       "<ul class=\"list-unstyled\">\n",
       "<li><a href=\"http://weather.gov/organization\">Organization </a></li>\n",
       "<li><a href=\"https://www.weather.gov/media/wrn/NWS_Weather-Ready-Nation_Strategic_Plan_2019-2022.pdf\">Strategic Plan </a></li>\n",
       "<li><a href=\"https://sites.google.com/a/noaa.gov/nws-best-practices/\">For NWS Employees </a></li>\n",
       "<li><a href=\"https://www.weather.gov/international/\">International </a></li>\n",
       "<li><a href=\"http://www.ncep.noaa.gov/\">National Centers </a></li>\n",
       "<li><a href=\" http://www.weather.gov/tg/\">Products and Services </a></li>\n",
       "<li><a href=\"http://www.weather.gov/careers/\">Careers</a></li>\n",
       "<li><a href=\" http://www.weather.gov/glossary/\">Glossary </a></li>\n",
       "<li><a href=\"http://weather.gov/contact\">Contact Us </a></li>\n",
       "</ul>\n",
       "</div>\n",
       "</div>\n",
       "</div>\n",
       "</div>\n",
       "</div>\n",
       "<!-- legal footer area -->\n",
       "<div class=\"footer-legal\">\n",
       "<div class=\"col-xs-12 col-sm-2 col-md-2\" id=\"footerLogo\">\n",
       "<a href=\"http://www.usa.gov\"><img alt=\"usa.gov\" height=\"30\" src=\"/css/images/usa_gov.png\" width=\"110\"/></a>\n",
       "</div>\n",
       "<div class=\"col-xs-12 col-sm-4 col-md-4\">\n",
       "<ul class=\"list-unstyled footer-legal-content\">\n",
       "<li><a href=\"http://www.commerce.gov\">US Dept of Commerce</a></li>\n",
       "<li><a href=\"http://www.noaa.gov\">National Oceanic and Atmospheric Administration</a></li>\n",
       "<li><a href=\"http://www.weather.gov\">National Weather Service</a></li>\n",
       "<li><a href=\"https://www.weather.gov/lwx\">Baltimore/Washington</a></li><li><br><a href=\"mailto:lwxwebmaster@noaa.gov\">Comments? Questions? Please Contact Us.</a></br></li> </ul>\n",
       "</div>\n",
       "<div class=\"col-xs-12 col-sm-3 col-md-3\">\n",
       "<ul class=\"list-unstyled\">\n",
       "<li><a href=\"https://www.weather.gov/disclaimer\">Disclaimer</a></li>\n",
       "<li><a href=\"http://www.cio.noaa.gov/services_programs/info_quality.html\">Information Quality</a></li>\n",
       "<li><a href=\"https://www.weather.gov/help\">Help</a></li>\n",
       "<li><a href=\"http://www.weather.gov/glossary\">Glossary</a></li>\n",
       "</ul>\n",
       "</div>\n",
       "<div class=\"col-xs-12 col-sm-3 col-md-3\">\n",
       "<ul class=\"list-unstyled\">\n",
       "<li><a href=\"https://www.weather.gov/privacy\">Privacy Policy</a></li>\n",
       "<li><a href=\"https://www.noaa.gov/foia-freedom-of-information-act\">Freedom of Information Act (FOIA)</a></li>\n",
       "<li><a href=\"https://www.weather.gov/about\">About Us</a></li>\n",
       "<li><a href=\"https://www.weather.gov/careers\">Career Opportunities</a></li>\n",
       "</ul>\n",
       "</div>\n",
       "</div>\n",
       "</footer>\n",
       "\n",
       "\n"
      ]
     },
     "execution_count": 42,
     "metadata": {},
     "output_type": "execute_result"
    }
   ],
   "source": [
    "soup"
   ]
  },
  {
   "cell_type": "code",
   "execution_count": 43,
   "metadata": {},
   "outputs": [],
   "source": [
    "seven_day = soup.find(id=\"seven-day-forecast\")"
   ]
  },
  {
   "cell_type": "code",
   "execution_count": 44,
   "metadata": {},
   "outputs": [
    {
     "data": {
      "text/plain": [
       "<div class=\"panel panel-default\" id=\"seven-day-forecast\">\n",
       "<div class=\"panel-heading\">\n",
       "<b>Extended Forecast for</b>\n",
       "<h2 class=\"panel-title\">\n",
       "\t    \t    Washington DC\t</h2>\n",
       "</div>\n",
       "<div class=\"panel-body\" id=\"seven-day-forecast-body\">\n",
       "<div id=\"seven-day-forecast-container\"><ul class=\"list-unstyled\" id=\"seven-day-forecast-list\"><li class=\"forecast-tombstone\">\n",
       "<div class=\"tombstone-container\">\n",
       "<p class=\"period-name\">Overnight<br/><br/></p>\n",
       "<p><img alt=\"Overnight: Patchy drizzle and fog with isolated showers before 3am, then isolated showers after 3am.  Cloudy, with a low around 63. Calm wind.  Chance of precipitation is 20%.\" class=\"forecast-icon\" src=\"newimages/medium/nra20.png\" title=\"Overnight: Patchy drizzle and fog with isolated showers before 3am, then isolated showers after 3am.  Cloudy, with a low around 63. Calm wind.  Chance of precipitation is 20%.\"/></p><p class=\"short-desc\">Patchy<br/>Drizzle and<br/>Patchy Fog</p><p class=\"temp temp-low\">Low: 63 °F</p></div></li><li class=\"forecast-tombstone\">\n",
       "<div class=\"tombstone-container\">\n",
       "<p class=\"period-name\">Sunday<br/><br/></p>\n",
       "<p><img alt=\"Sunday: Isolated showers.  Areas of fog before 11am.  Otherwise, mostly cloudy, with a high near 80. Calm wind becoming southeast around 6 mph in the afternoon.  Chance of precipitation is 20%.\" class=\"forecast-icon\" src=\"newimages/medium/shra20.png\" title=\"Sunday: Isolated showers.  Areas of fog before 11am.  Otherwise, mostly cloudy, with a high near 80. Calm wind becoming southeast around 6 mph in the afternoon.  Chance of precipitation is 20%.\"/></p><p class=\"short-desc\">Isolated<br/>Showers and<br/>Areas Fog</p><p class=\"temp temp-high\">High: 80 °F</p></div></li><li class=\"forecast-tombstone\">\n",
       "<div class=\"tombstone-container\">\n",
       "<p class=\"period-name\">Sunday<br/>Night</p>\n",
       "<p><img alt=\"Sunday Night: Isolated showers before 9pm.  Cloudy, with a low around 65. South wind around 6 mph.  Chance of precipitation is 20%.\" class=\"forecast-icon\" src=\"DualImage.php?i=nshra&amp;j=novc&amp;ip=20\" title=\"Sunday Night: Isolated showers before 9pm.  Cloudy, with a low around 65. South wind around 6 mph.  Chance of precipitation is 20%.\"/></p><p class=\"short-desc\">Isolated<br/>Showers then<br/>Cloudy</p><p class=\"temp temp-low\">Low: 65 °F</p></div></li><li class=\"forecast-tombstone\">\n",
       "<div class=\"tombstone-container\">\n",
       "<p class=\"period-name\">Monday<br/><br/></p>\n",
       "<p><img alt=\"Monday: Partly sunny, with a high near 82. South wind 6 to 10 mph. \" class=\"forecast-icon\" src=\"newimages/medium/bkn.png\" title=\"Monday: Partly sunny, with a high near 82. South wind 6 to 10 mph. \"/></p><p class=\"short-desc\">Partly Sunny</p><p class=\"temp temp-high\">High: 82 °F</p></div></li><li class=\"forecast-tombstone\">\n",
       "<div class=\"tombstone-container\">\n",
       "<p class=\"period-name\">Monday<br/>Night</p>\n",
       "<p><img alt=\"Monday Night: A chance of showers, mainly after 3am.  Partly cloudy, with a low around 68. South wind 6 to 10 mph.  Chance of precipitation is 40%.\" class=\"forecast-icon\" src=\"newimages/medium/hi_nshwrs40.png\" title=\"Monday Night: A chance of showers, mainly after 3am.  Partly cloudy, with a low around 68. South wind 6 to 10 mph.  Chance of precipitation is 40%.\"/></p><p class=\"short-desc\">Chance<br/>Showers</p><p class=\"temp temp-low\">Low: 68 °F</p></div></li><li class=\"forecast-tombstone\">\n",
       "<div class=\"tombstone-container\">\n",
       "<p class=\"period-name\">Tuesday<br/><br/></p>\n",
       "<p><img alt=\"Tuesday: A chance of showers, then showers and possibly a thunderstorm after 9am.  High near 78. Chance of precipitation is 80%.\" class=\"forecast-icon\" src=\"newimages/medium/shra80.png\" title=\"Tuesday: A chance of showers, then showers and possibly a thunderstorm after 9am.  High near 78. Chance of precipitation is 80%.\"/></p><p class=\"short-desc\">Showers</p><p class=\"temp temp-high\">High: 78 °F</p></div></li><li class=\"forecast-tombstone\">\n",
       "<div class=\"tombstone-container\">\n",
       "<p class=\"period-name\">Tuesday<br/>Night</p>\n",
       "<p><img alt=\"Tuesday Night: Showers and possibly a thunderstorm before 3am, then showers likely.  Low around 61. Chance of precipitation is 80%.\" class=\"forecast-icon\" src=\"newimages/medium/nshra80.png\" title=\"Tuesday Night: Showers and possibly a thunderstorm before 3am, then showers likely.  Low around 61. Chance of precipitation is 80%.\"/></p><p class=\"short-desc\">Showers</p><p class=\"temp temp-low\">Low: 61 °F</p></div></li><li class=\"forecast-tombstone\">\n",
       "<div class=\"tombstone-container\">\n",
       "<p class=\"period-name\">Wednesday<br/><br/></p>\n",
       "<p><img alt=\"Wednesday: Showers likely, mainly before 9am.  Mostly cloudy, with a high near 72. Chance of precipitation is 60%.\" class=\"forecast-icon\" src=\"newimages/medium/shra60.png\" title=\"Wednesday: Showers likely, mainly before 9am.  Mostly cloudy, with a high near 72. Chance of precipitation is 60%.\"/></p><p class=\"short-desc\">Showers<br/>Likely</p><p class=\"temp temp-high\">High: 72 °F</p></div></li><li class=\"forecast-tombstone\">\n",
       "<div class=\"tombstone-container\">\n",
       "<p class=\"period-name\">Wednesday<br/>Night</p>\n",
       "<p><img alt=\"Wednesday Night: A chance of showers.  Mostly cloudy, with a low around 57. Chance of precipitation is 40%.\" class=\"forecast-icon\" src=\"newimages/medium/nshra40.png\" title=\"Wednesday Night: A chance of showers.  Mostly cloudy, with a low around 57. Chance of precipitation is 40%.\"/></p><p class=\"short-desc\">Chance<br/>Showers</p><p class=\"temp temp-low\">Low: 57 °F</p></div></li></ul></div>\n",
       "<script type=\"text/javascript\">\n",
       "// equalize forecast heights\n",
       "$(function () {\n",
       "\tvar maxh = 0;\n",
       "\t$(\".forecast-tombstone .short-desc\").each(function () {\n",
       "\t\tvar h = $(this).height();\n",
       "\t\tif (h > maxh) { maxh = h; }\n",
       "\t});\n",
       "\t$(\".forecast-tombstone .short-desc\").height(maxh);\n",
       "});\n",
       "</script> </div>\n",
       "</div>"
      ]
     },
     "execution_count": 44,
     "metadata": {},
     "output_type": "execute_result"
    }
   ],
   "source": [
    "seven_day"
   ]
  },
  {
   "cell_type": "code",
   "execution_count": 45,
   "metadata": {},
   "outputs": [
    {
     "data": {
      "text/plain": [
       "[<div class=\"tombstone-container\">\n",
       " <p class=\"period-name\">Overnight<br/><br/></p>\n",
       " <p><img alt=\"Overnight: Patchy drizzle and fog with isolated showers before 3am, then isolated showers after 3am.  Cloudy, with a low around 63. Calm wind.  Chance of precipitation is 20%.\" class=\"forecast-icon\" src=\"newimages/medium/nra20.png\" title=\"Overnight: Patchy drizzle and fog with isolated showers before 3am, then isolated showers after 3am.  Cloudy, with a low around 63. Calm wind.  Chance of precipitation is 20%.\"/></p><p class=\"short-desc\">Patchy<br/>Drizzle and<br/>Patchy Fog</p><p class=\"temp temp-low\">Low: 63 °F</p></div>,\n",
       " <div class=\"tombstone-container\">\n",
       " <p class=\"period-name\">Sunday<br/><br/></p>\n",
       " <p><img alt=\"Sunday: Isolated showers.  Areas of fog before 11am.  Otherwise, mostly cloudy, with a high near 80. Calm wind becoming southeast around 6 mph in the afternoon.  Chance of precipitation is 20%.\" class=\"forecast-icon\" src=\"newimages/medium/shra20.png\" title=\"Sunday: Isolated showers.  Areas of fog before 11am.  Otherwise, mostly cloudy, with a high near 80. Calm wind becoming southeast around 6 mph in the afternoon.  Chance of precipitation is 20%.\"/></p><p class=\"short-desc\">Isolated<br/>Showers and<br/>Areas Fog</p><p class=\"temp temp-high\">High: 80 °F</p></div>,\n",
       " <div class=\"tombstone-container\">\n",
       " <p class=\"period-name\">Sunday<br/>Night</p>\n",
       " <p><img alt=\"Sunday Night: Isolated showers before 9pm.  Cloudy, with a low around 65. South wind around 6 mph.  Chance of precipitation is 20%.\" class=\"forecast-icon\" src=\"DualImage.php?i=nshra&amp;j=novc&amp;ip=20\" title=\"Sunday Night: Isolated showers before 9pm.  Cloudy, with a low around 65. South wind around 6 mph.  Chance of precipitation is 20%.\"/></p><p class=\"short-desc\">Isolated<br/>Showers then<br/>Cloudy</p><p class=\"temp temp-low\">Low: 65 °F</p></div>,\n",
       " <div class=\"tombstone-container\">\n",
       " <p class=\"period-name\">Monday<br/><br/></p>\n",
       " <p><img alt=\"Monday: Partly sunny, with a high near 82. South wind 6 to 10 mph. \" class=\"forecast-icon\" src=\"newimages/medium/bkn.png\" title=\"Monday: Partly sunny, with a high near 82. South wind 6 to 10 mph. \"/></p><p class=\"short-desc\">Partly Sunny</p><p class=\"temp temp-high\">High: 82 °F</p></div>,\n",
       " <div class=\"tombstone-container\">\n",
       " <p class=\"period-name\">Monday<br/>Night</p>\n",
       " <p><img alt=\"Monday Night: A chance of showers, mainly after 3am.  Partly cloudy, with a low around 68. South wind 6 to 10 mph.  Chance of precipitation is 40%.\" class=\"forecast-icon\" src=\"newimages/medium/hi_nshwrs40.png\" title=\"Monday Night: A chance of showers, mainly after 3am.  Partly cloudy, with a low around 68. South wind 6 to 10 mph.  Chance of precipitation is 40%.\"/></p><p class=\"short-desc\">Chance<br/>Showers</p><p class=\"temp temp-low\">Low: 68 °F</p></div>,\n",
       " <div class=\"tombstone-container\">\n",
       " <p class=\"period-name\">Tuesday<br/><br/></p>\n",
       " <p><img alt=\"Tuesday: A chance of showers, then showers and possibly a thunderstorm after 9am.  High near 78. Chance of precipitation is 80%.\" class=\"forecast-icon\" src=\"newimages/medium/shra80.png\" title=\"Tuesday: A chance of showers, then showers and possibly a thunderstorm after 9am.  High near 78. Chance of precipitation is 80%.\"/></p><p class=\"short-desc\">Showers</p><p class=\"temp temp-high\">High: 78 °F</p></div>,\n",
       " <div class=\"tombstone-container\">\n",
       " <p class=\"period-name\">Tuesday<br/>Night</p>\n",
       " <p><img alt=\"Tuesday Night: Showers and possibly a thunderstorm before 3am, then showers likely.  Low around 61. Chance of precipitation is 80%.\" class=\"forecast-icon\" src=\"newimages/medium/nshra80.png\" title=\"Tuesday Night: Showers and possibly a thunderstorm before 3am, then showers likely.  Low around 61. Chance of precipitation is 80%.\"/></p><p class=\"short-desc\">Showers</p><p class=\"temp temp-low\">Low: 61 °F</p></div>,\n",
       " <div class=\"tombstone-container\">\n",
       " <p class=\"period-name\">Wednesday<br/><br/></p>\n",
       " <p><img alt=\"Wednesday: Showers likely, mainly before 9am.  Mostly cloudy, with a high near 72. Chance of precipitation is 60%.\" class=\"forecast-icon\" src=\"newimages/medium/shra60.png\" title=\"Wednesday: Showers likely, mainly before 9am.  Mostly cloudy, with a high near 72. Chance of precipitation is 60%.\"/></p><p class=\"short-desc\">Showers<br/>Likely</p><p class=\"temp temp-high\">High: 72 °F</p></div>,\n",
       " <div class=\"tombstone-container\">\n",
       " <p class=\"period-name\">Wednesday<br/>Night</p>\n",
       " <p><img alt=\"Wednesday Night: A chance of showers.  Mostly cloudy, with a low around 57. Chance of precipitation is 40%.\" class=\"forecast-icon\" src=\"newimages/medium/nshra40.png\" title=\"Wednesday Night: A chance of showers.  Mostly cloudy, with a low around 57. Chance of precipitation is 40%.\"/></p><p class=\"short-desc\">Chance<br/>Showers</p><p class=\"temp temp-low\">Low: 57 °F</p></div>]"
      ]
     },
     "execution_count": 45,
     "metadata": {},
     "output_type": "execute_result"
    }
   ],
   "source": [
    "forecast_items = seven_day.find_all(class_=\"tombstone-container\")\n",
    "forecast_items"
   ]
  },
  {
   "cell_type": "code",
   "execution_count": 46,
   "metadata": {},
   "outputs": [
    {
     "name": "stdout",
     "output_type": "stream",
     "text": [
      "<div class=\"tombstone-container\">\n",
      "<p class=\"period-name\">Overnight<br/><br/></p>\n",
      "<p><img alt=\"Overnight: Patchy drizzle and fog with isolated showers before 3am, then isolated showers after 3am.  Cloudy, with a low around 63. Calm wind.  Chance of precipitation is 20%.\" class=\"forecast-icon\" src=\"newimages/medium/nra20.png\" title=\"Overnight: Patchy drizzle and fog with isolated showers before 3am, then isolated showers after 3am.  Cloudy, with a low around 63. Calm wind.  Chance of precipitation is 20%.\"/></p><p class=\"short-desc\">Patchy<br/>Drizzle and<br/>Patchy Fog</p><p class=\"temp temp-low\">Low: 63 °F</p></div>\n"
     ]
    }
   ],
   "source": [
    "tonight = forecast_items[0]\n",
    "print(tonight)"
   ]
  },
  {
   "cell_type": "code",
   "execution_count": 47,
   "metadata": {},
   "outputs": [
    {
     "name": "stdout",
     "output_type": "stream",
     "text": [
      "<div class=\"tombstone-container\">\n",
      " <p class=\"period-name\">\n",
      "  Overnight\n",
      "  <br/>\n",
      "  <br/>\n",
      " </p>\n",
      " <p>\n",
      "  <img alt=\"Overnight: Patchy drizzle and fog with isolated showers before 3am, then isolated showers after 3am.  Cloudy, with a low around 63. Calm wind.  Chance of precipitation is 20%.\" class=\"forecast-icon\" src=\"newimages/medium/nra20.png\" title=\"Overnight: Patchy drizzle and fog with isolated showers before 3am, then isolated showers after 3am.  Cloudy, with a low around 63. Calm wind.  Chance of precipitation is 20%.\"/>\n",
      " </p>\n",
      " <p class=\"short-desc\">\n",
      "  Patchy\n",
      "  <br/>\n",
      "  Drizzle and\n",
      "  <br/>\n",
      "  Patchy Fog\n",
      " </p>\n",
      " <p class=\"temp temp-low\">\n",
      "  Low: 63 °F\n",
      " </p>\n",
      "</div>\n"
     ]
    }
   ],
   "source": [
    "print(tonight.prettify())"
   ]
  },
  {
   "cell_type": "markdown",
   "metadata": {},
   "source": [
    "##### Extracting information from the page\n",
    "\n",
    "As you can see, inside the forecast item tonight is all the information we want. There are 4 pieces of information we can extract:\n",
    "\n",
    "* The name of the forecast item — in this case, Tonight.\n",
    "* The description of the conditions — this is stored in the title property of img.\n",
    "* A short description of the conditions.\n",
    "* The temperature low.\n",
    "\n",
    "We'll extract the name of the forecast item, the short description, and the temperature first, since they're all similar:"
   ]
  },
  {
   "cell_type": "code",
   "execution_count": 48,
   "metadata": {},
   "outputs": [
    {
     "name": "stdout",
     "output_type": "stream",
     "text": [
      "Overnight\n",
      "PatchyDrizzle andPatchy Fog\n",
      "Low: 63 °F\n"
     ]
    }
   ],
   "source": [
    "period = tonight.find(class_=\"period-name\").get_text()\n",
    "short_desc = tonight.find(class_=\"short-desc\").get_text()\n",
    "temp = tonight.find(class_=\"temp\").get_text()\n",
    "\n",
    "print(period)\n",
    "print(short_desc)\n",
    "print(temp)"
   ]
  },
  {
   "cell_type": "code",
   "execution_count": 49,
   "metadata": {},
   "outputs": [
    {
     "data": {
      "text/plain": [
       "<img alt=\"Overnight: Patchy drizzle and fog with isolated showers before 3am, then isolated showers after 3am.  Cloudy, with a low around 63. Calm wind.  Chance of precipitation is 20%.\" class=\"forecast-icon\" src=\"newimages/medium/nra20.png\" title=\"Overnight: Patchy drizzle and fog with isolated showers before 3am, then isolated showers after 3am.  Cloudy, with a low around 63. Calm wind.  Chance of precipitation is 20%.\"/>"
      ]
     },
     "execution_count": 49,
     "metadata": {},
     "output_type": "execute_result"
    }
   ],
   "source": [
    "img = tonight.find(\"img\")\n",
    "img"
   ]
  },
  {
   "cell_type": "markdown",
   "metadata": {},
   "source": [
    "Now, we can extract the `title` attribute from the `img` tag. To do this, we just treat the BeautifulSoup object like a dictionary, and pass in the attribute we want as a key:"
   ]
  },
  {
   "cell_type": "code",
   "execution_count": 50,
   "metadata": {},
   "outputs": [
    {
     "name": "stdout",
     "output_type": "stream",
     "text": [
      "Overnight: Patchy drizzle and fog with isolated showers before 3am, then isolated showers after 3am.  Cloudy, with a low around 63. Calm wind.  Chance of precipitation is 20%.\n"
     ]
    }
   ],
   "source": [
    "img = tonight.find(\"img\")\n",
    "desc = img['title']\n",
    "\n",
    "print(desc)"
   ]
  },
  {
   "cell_type": "markdown",
   "metadata": {},
   "source": [
    "##### Extracting all the information from the page\n",
    "Now that we know how to extract each individual piece of information, we can combine our knowledge with css selectors and list comprehensions to extract everything at once.\n",
    "\n",
    "In the below code, we:\n",
    "\n",
    "* Select all items with the class `period-name` inside an item with the class `tombstone-container` in `seven_day`.\n",
    "* Use a list comprehension to call the `get_text` method on each `BeautifulSoup` object."
   ]
  },
  {
   "cell_type": "code",
   "execution_count": 51,
   "metadata": {},
   "outputs": [
    {
     "name": "stdout",
     "output_type": "stream",
     "text": [
      "<div class=\"tombstone-container\">\n",
      " <p class=\"period-name\">\n",
      "  Overnight\n",
      "  <br/>\n",
      "  <br/>\n",
      " </p>\n",
      " <p>\n",
      "  <img alt=\"Overnight: Patchy drizzle and fog with isolated showers before 3am, then isolated showers after 3am.  Cloudy, with a low around 63. Calm wind.  Chance of precipitation is 20%.\" class=\"forecast-icon\" src=\"newimages/medium/nra20.png\" title=\"Overnight: Patchy drizzle and fog with isolated showers before 3am, then isolated showers after 3am.  Cloudy, with a low around 63. Calm wind.  Chance of precipitation is 20%.\"/>\n",
      " </p>\n",
      " <p class=\"short-desc\">\n",
      "  Patchy\n",
      "  <br/>\n",
      "  Drizzle and\n",
      "  <br/>\n",
      "  Patchy Fog\n",
      " </p>\n",
      " <p class=\"temp temp-low\">\n",
      "  Low: 63 °F\n",
      " </p>\n",
      "</div>\n"
     ]
    }
   ],
   "source": [
    "# As a reminder here is what we are working with\n",
    "print(tonight.prettify())"
   ]
  },
  {
   "cell_type": "code",
   "execution_count": 52,
   "metadata": {},
   "outputs": [
    {
     "data": {
      "text/plain": [
       "['Overnight',\n",
       " 'Sunday',\n",
       " 'SundayNight',\n",
       " 'Monday',\n",
       " 'MondayNight',\n",
       " 'Tuesday',\n",
       " 'TuesdayNight',\n",
       " 'Wednesday',\n",
       " 'WednesdayNight']"
      ]
     },
     "execution_count": 52,
     "metadata": {},
     "output_type": "execute_result"
    }
   ],
   "source": [
    "period_tags = seven_day.select(\".tombstone-container .period-name\")\n",
    "periods = [pt.get_text() for pt in period_tags]\n",
    "periods"
   ]
  },
  {
   "cell_type": "code",
   "execution_count": 53,
   "metadata": {},
   "outputs": [
    {
     "data": {
      "text/plain": [
       "[<p class=\"period-name\">Overnight<br/><br/></p>,\n",
       " <p class=\"period-name\">Sunday<br/><br/></p>,\n",
       " <p class=\"period-name\">Sunday<br/>Night</p>,\n",
       " <p class=\"period-name\">Monday<br/><br/></p>,\n",
       " <p class=\"period-name\">Monday<br/>Night</p>,\n",
       " <p class=\"period-name\">Tuesday<br/><br/></p>,\n",
       " <p class=\"period-name\">Tuesday<br/>Night</p>,\n",
       " <p class=\"period-name\">Wednesday<br/><br/></p>,\n",
       " <p class=\"period-name\">Wednesday<br/>Night</p>]"
      ]
     },
     "execution_count": 53,
     "metadata": {},
     "output_type": "execute_result"
    }
   ],
   "source": [
    "#breaking it down\n",
    "period_tags = seven_day.select(\".tombstone-container .period-name\")\n",
    "period_tags"
   ]
  },
  {
   "cell_type": "code",
   "execution_count": 54,
   "metadata": {},
   "outputs": [
    {
     "data": {
      "text/plain": [
       "['Overnight',\n",
       " 'Sunday',\n",
       " 'SundayNight',\n",
       " 'Monday',\n",
       " 'MondayNight',\n",
       " 'Tuesday',\n",
       " 'TuesdayNight',\n",
       " 'Wednesday',\n",
       " 'WednesdayNight']"
      ]
     },
     "execution_count": 54,
     "metadata": {},
     "output_type": "execute_result"
    }
   ],
   "source": [
    "periods = [pt.get_text() for pt in period_tags]\n",
    "periods"
   ]
  },
  {
   "cell_type": "code",
   "execution_count": 55,
   "metadata": {},
   "outputs": [
    {
     "name": "stdout",
     "output_type": "stream",
     "text": [
      "['PatchyDrizzle andPatchy Fog', 'IsolatedShowers andAreas Fog', 'IsolatedShowers thenCloudy', 'Partly Sunny', 'ChanceShowers', 'Showers', 'Showers', 'ShowersLikely', 'ChanceShowers']\n",
      "['Low: 63 °F', 'High: 80 °F', 'Low: 65 °F', 'High: 82 °F', 'Low: 68 °F', 'High: 78 °F', 'Low: 61 °F', 'High: 72 °F', 'Low: 57 °F']\n",
      "['Overnight: Patchy drizzle and fog with isolated showers before 3am, then isolated showers after 3am.  Cloudy, with a low around 63. Calm wind.  Chance of precipitation is 20%.', 'Sunday: Isolated showers.  Areas of fog before 11am.  Otherwise, mostly cloudy, with a high near 80. Calm wind becoming southeast around 6 mph in the afternoon.  Chance of precipitation is 20%.', 'Sunday Night: Isolated showers before 9pm.  Cloudy, with a low around 65. South wind around 6 mph.  Chance of precipitation is 20%.', 'Monday: Partly sunny, with a high near 82. South wind 6 to 10 mph. ', 'Monday Night: A chance of showers, mainly after 3am.  Partly cloudy, with a low around 68. South wind 6 to 10 mph.  Chance of precipitation is 40%.', 'Tuesday: A chance of showers, then showers and possibly a thunderstorm after 9am.  High near 78. Chance of precipitation is 80%.', 'Tuesday Night: Showers and possibly a thunderstorm before 3am, then showers likely.  Low around 61. Chance of precipitation is 80%.', 'Wednesday: Showers likely, mainly before 9am.  Mostly cloudy, with a high near 72. Chance of precipitation is 60%.', 'Wednesday Night: A chance of showers.  Mostly cloudy, with a low around 57. Chance of precipitation is 40%.']\n"
     ]
    }
   ],
   "source": [
    "short_descs = [sd.get_text() for sd in seven_day.select(\".tombstone-container .short-desc\")]\n",
    "temps = [t.get_text() for t in seven_day.select(\".tombstone-container .temp\")]\n",
    "descs = [d[\"title\"] for d in seven_day.select(\".tombstone-container img\")]\n",
    "\n",
    "print(short_descs)\n",
    "print(temps)\n",
    "print(descs)"
   ]
  },
  {
   "cell_type": "code",
   "execution_count": 56,
   "metadata": {},
   "outputs": [
    {
     "name": "stdout",
     "output_type": "stream",
     "text": [
      "['PatchyDrizzle andPatchy Fog', 'IsolatedShowers andAreas Fog', 'IsolatedShowers thenCloudy', 'Partly Sunny', 'ChanceShowers', 'Showers', 'Showers', 'ShowersLikely', 'ChanceShowers']\n"
     ]
    }
   ],
   "source": [
    "short_desc = [sd.get_text() for sd in seven_day.select(\".tombstone-container .short-desc\")]\n",
    "print(short_desc)"
   ]
  },
  {
   "cell_type": "code",
   "execution_count": 57,
   "metadata": {},
   "outputs": [
    {
     "name": "stdout",
     "output_type": "stream",
     "text": [
      "['Low: 63 °F', 'High: 80 °F', 'Low: 65 °F', 'High: 82 °F', 'Low: 68 °F', 'High: 78 °F', 'Low: 61 °F', 'High: 72 °F', 'Low: 57 °F']\n"
     ]
    }
   ],
   "source": [
    "temps = [t.get_text() for t in seven_day.select(\".tombstone-container .temp\")]\n",
    "print(temps)"
   ]
  },
  {
   "cell_type": "code",
   "execution_count": 58,
   "metadata": {},
   "outputs": [
    {
     "name": "stdout",
     "output_type": "stream",
     "text": [
      "['Overnight: Patchy drizzle and fog with isolated showers before 3am, then isolated showers after 3am.  Cloudy, with a low around 63. Calm wind.  Chance of precipitation is 20%.', 'Sunday: Isolated showers.  Areas of fog before 11am.  Otherwise, mostly cloudy, with a high near 80. Calm wind becoming southeast around 6 mph in the afternoon.  Chance of precipitation is 20%.', 'Sunday Night: Isolated showers before 9pm.  Cloudy, with a low around 65. South wind around 6 mph.  Chance of precipitation is 20%.', 'Monday: Partly sunny, with a high near 82. South wind 6 to 10 mph. ', 'Monday Night: A chance of showers, mainly after 3am.  Partly cloudy, with a low around 68. South wind 6 to 10 mph.  Chance of precipitation is 40%.', 'Tuesday: A chance of showers, then showers and possibly a thunderstorm after 9am.  High near 78. Chance of precipitation is 80%.', 'Tuesday Night: Showers and possibly a thunderstorm before 3am, then showers likely.  Low around 61. Chance of precipitation is 80%.', 'Wednesday: Showers likely, mainly before 9am.  Mostly cloudy, with a high near 72. Chance of precipitation is 60%.', 'Wednesday Night: A chance of showers.  Mostly cloudy, with a low around 57. Chance of precipitation is 40%.']\n"
     ]
    }
   ],
   "source": [
    "desc = [d[\"title\"] for d in seven_day.select(\".tombstone-container img\")]\n",
    "print(desc)"
   ]
  },
  {
   "cell_type": "markdown",
   "metadata": {},
   "source": [
    "## Example 4: Weather Analysis\n",
    "\n",
    "#### **(Skip to UFO's Exercise if time is short)**\n",
    "\n",
    "Combine all the newly scraped data and analyze it. In order to do this, we'll call the DataFrame class, and pass in each list of items that we have. We pass them in as part of a dictionary. Each dictionary key will become a column in the DataFrame, and each list will become the values in the column."
   ]
  },
  {
   "cell_type": "code",
   "execution_count": 59,
   "metadata": {},
   "outputs": [],
   "source": [
    "import pandas as pd"
   ]
  },
  {
   "cell_type": "code",
   "execution_count": 60,
   "metadata": {},
   "outputs": [
    {
     "data": {
      "text/html": [
       "<div>\n",
       "<style scoped>\n",
       "    .dataframe tbody tr th:only-of-type {\n",
       "        vertical-align: middle;\n",
       "    }\n",
       "\n",
       "    .dataframe tbody tr th {\n",
       "        vertical-align: top;\n",
       "    }\n",
       "\n",
       "    .dataframe thead th {\n",
       "        text-align: right;\n",
       "    }\n",
       "</style>\n",
       "<table border=\"1\" class=\"dataframe\">\n",
       "  <thead>\n",
       "    <tr style=\"text-align: right;\">\n",
       "      <th></th>\n",
       "      <th>desc</th>\n",
       "    </tr>\n",
       "  </thead>\n",
       "  <tbody>\n",
       "    <tr>\n",
       "      <th>0</th>\n",
       "      <td>Overnight: Patchy drizzle and fog with isolate...</td>\n",
       "    </tr>\n",
       "    <tr>\n",
       "      <th>1</th>\n",
       "      <td>Sunday: Isolated showers.  Areas of fog before...</td>\n",
       "    </tr>\n",
       "    <tr>\n",
       "      <th>2</th>\n",
       "      <td>Sunday Night: Isolated showers before 9pm.  Cl...</td>\n",
       "    </tr>\n",
       "    <tr>\n",
       "      <th>3</th>\n",
       "      <td>Monday: Partly sunny, with a high near 82. Sou...</td>\n",
       "    </tr>\n",
       "    <tr>\n",
       "      <th>4</th>\n",
       "      <td>Monday Night: A chance of showers, mainly afte...</td>\n",
       "    </tr>\n",
       "    <tr>\n",
       "      <th>5</th>\n",
       "      <td>Tuesday: A chance of showers, then showers and...</td>\n",
       "    </tr>\n",
       "    <tr>\n",
       "      <th>6</th>\n",
       "      <td>Tuesday Night: Showers and possibly a thunders...</td>\n",
       "    </tr>\n",
       "    <tr>\n",
       "      <th>7</th>\n",
       "      <td>Wednesday: Showers likely, mainly before 9am. ...</td>\n",
       "    </tr>\n",
       "    <tr>\n",
       "      <th>8</th>\n",
       "      <td>Wednesday Night: A chance of showers.  Mostly ...</td>\n",
       "    </tr>\n",
       "  </tbody>\n",
       "</table>\n",
       "</div>"
      ],
      "text/plain": [
       "                                                desc\n",
       "0  Overnight: Patchy drizzle and fog with isolate...\n",
       "1  Sunday: Isolated showers.  Areas of fog before...\n",
       "2  Sunday Night: Isolated showers before 9pm.  Cl...\n",
       "3  Monday: Partly sunny, with a high near 82. Sou...\n",
       "4  Monday Night: A chance of showers, mainly afte...\n",
       "5  Tuesday: A chance of showers, then showers and...\n",
       "6  Tuesday Night: Showers and possibly a thunders...\n",
       "7  Wednesday: Showers likely, mainly before 9am. ...\n",
       "8  Wednesday Night: A chance of showers.  Mostly ..."
      ]
     },
     "execution_count": 60,
     "metadata": {},
     "output_type": "execute_result"
    }
   ],
   "source": [
    "frame_desc = pd.DataFrame(data=desc,columns=['desc'])\n",
    "frame_desc"
   ]
  },
  {
   "cell_type": "code",
   "execution_count": 61,
   "metadata": {},
   "outputs": [
    {
     "data": {
      "text/html": [
       "<div>\n",
       "<style scoped>\n",
       "    .dataframe tbody tr th:only-of-type {\n",
       "        vertical-align: middle;\n",
       "    }\n",
       "\n",
       "    .dataframe tbody tr th {\n",
       "        vertical-align: top;\n",
       "    }\n",
       "\n",
       "    .dataframe thead th {\n",
       "        text-align: right;\n",
       "    }\n",
       "</style>\n",
       "<table border=\"1\" class=\"dataframe\">\n",
       "  <thead>\n",
       "    <tr style=\"text-align: right;\">\n",
       "      <th></th>\n",
       "      <th>periods</th>\n",
       "    </tr>\n",
       "  </thead>\n",
       "  <tbody>\n",
       "    <tr>\n",
       "      <th>0</th>\n",
       "      <td>Overnight</td>\n",
       "    </tr>\n",
       "    <tr>\n",
       "      <th>1</th>\n",
       "      <td>Sunday</td>\n",
       "    </tr>\n",
       "    <tr>\n",
       "      <th>2</th>\n",
       "      <td>SundayNight</td>\n",
       "    </tr>\n",
       "    <tr>\n",
       "      <th>3</th>\n",
       "      <td>Monday</td>\n",
       "    </tr>\n",
       "    <tr>\n",
       "      <th>4</th>\n",
       "      <td>MondayNight</td>\n",
       "    </tr>\n",
       "    <tr>\n",
       "      <th>5</th>\n",
       "      <td>Tuesday</td>\n",
       "    </tr>\n",
       "    <tr>\n",
       "      <th>6</th>\n",
       "      <td>TuesdayNight</td>\n",
       "    </tr>\n",
       "    <tr>\n",
       "      <th>7</th>\n",
       "      <td>Wednesday</td>\n",
       "    </tr>\n",
       "    <tr>\n",
       "      <th>8</th>\n",
       "      <td>WednesdayNight</td>\n",
       "    </tr>\n",
       "  </tbody>\n",
       "</table>\n",
       "</div>"
      ],
      "text/plain": [
       "          periods\n",
       "0       Overnight\n",
       "1          Sunday\n",
       "2     SundayNight\n",
       "3          Monday\n",
       "4     MondayNight\n",
       "5         Tuesday\n",
       "6    TuesdayNight\n",
       "7       Wednesday\n",
       "8  WednesdayNight"
      ]
     },
     "execution_count": 61,
     "metadata": {},
     "output_type": "execute_result"
    }
   ],
   "source": [
    "frame_periods = pd.DataFrame(data=periods,columns=['periods'])\n",
    "frame_periods"
   ]
  },
  {
   "cell_type": "code",
   "execution_count": 62,
   "metadata": {},
   "outputs": [
    {
     "data": {
      "text/html": [
       "<div>\n",
       "<style scoped>\n",
       "    .dataframe tbody tr th:only-of-type {\n",
       "        vertical-align: middle;\n",
       "    }\n",
       "\n",
       "    .dataframe tbody tr th {\n",
       "        vertical-align: top;\n",
       "    }\n",
       "\n",
       "    .dataframe thead th {\n",
       "        text-align: right;\n",
       "    }\n",
       "</style>\n",
       "<table border=\"1\" class=\"dataframe\">\n",
       "  <thead>\n",
       "    <tr style=\"text-align: right;\">\n",
       "      <th></th>\n",
       "      <th>short_desc</th>\n",
       "    </tr>\n",
       "  </thead>\n",
       "  <tbody>\n",
       "    <tr>\n",
       "      <th>0</th>\n",
       "      <td>PatchyDrizzle andPatchy Fog</td>\n",
       "    </tr>\n",
       "    <tr>\n",
       "      <th>1</th>\n",
       "      <td>IsolatedShowers andAreas Fog</td>\n",
       "    </tr>\n",
       "    <tr>\n",
       "      <th>2</th>\n",
       "      <td>IsolatedShowers thenCloudy</td>\n",
       "    </tr>\n",
       "    <tr>\n",
       "      <th>3</th>\n",
       "      <td>Partly Sunny</td>\n",
       "    </tr>\n",
       "    <tr>\n",
       "      <th>4</th>\n",
       "      <td>ChanceShowers</td>\n",
       "    </tr>\n",
       "    <tr>\n",
       "      <th>5</th>\n",
       "      <td>Showers</td>\n",
       "    </tr>\n",
       "    <tr>\n",
       "      <th>6</th>\n",
       "      <td>Showers</td>\n",
       "    </tr>\n",
       "    <tr>\n",
       "      <th>7</th>\n",
       "      <td>ShowersLikely</td>\n",
       "    </tr>\n",
       "    <tr>\n",
       "      <th>8</th>\n",
       "      <td>ChanceShowers</td>\n",
       "    </tr>\n",
       "  </tbody>\n",
       "</table>\n",
       "</div>"
      ],
      "text/plain": [
       "                     short_desc\n",
       "0   PatchyDrizzle andPatchy Fog\n",
       "1  IsolatedShowers andAreas Fog\n",
       "2    IsolatedShowers thenCloudy\n",
       "3                  Partly Sunny\n",
       "4                 ChanceShowers\n",
       "5                       Showers\n",
       "6                       Showers\n",
       "7                 ShowersLikely\n",
       "8                 ChanceShowers"
      ]
     },
     "execution_count": 62,
     "metadata": {},
     "output_type": "execute_result"
    }
   ],
   "source": [
    "frame_short_descs = pd.DataFrame(data=short_desc,columns=['short_desc'])\n",
    "frame_short_descs"
   ]
  },
  {
   "cell_type": "code",
   "execution_count": 63,
   "metadata": {},
   "outputs": [
    {
     "data": {
      "text/html": [
       "<div>\n",
       "<style scoped>\n",
       "    .dataframe tbody tr th:only-of-type {\n",
       "        vertical-align: middle;\n",
       "    }\n",
       "\n",
       "    .dataframe tbody tr th {\n",
       "        vertical-align: top;\n",
       "    }\n",
       "\n",
       "    .dataframe thead th {\n",
       "        text-align: right;\n",
       "    }\n",
       "</style>\n",
       "<table border=\"1\" class=\"dataframe\">\n",
       "  <thead>\n",
       "    <tr style=\"text-align: right;\">\n",
       "      <th></th>\n",
       "      <th>temps</th>\n",
       "    </tr>\n",
       "  </thead>\n",
       "  <tbody>\n",
       "    <tr>\n",
       "      <th>0</th>\n",
       "      <td>Low: 63 °F</td>\n",
       "    </tr>\n",
       "    <tr>\n",
       "      <th>1</th>\n",
       "      <td>High: 80 °F</td>\n",
       "    </tr>\n",
       "    <tr>\n",
       "      <th>2</th>\n",
       "      <td>Low: 65 °F</td>\n",
       "    </tr>\n",
       "    <tr>\n",
       "      <th>3</th>\n",
       "      <td>High: 82 °F</td>\n",
       "    </tr>\n",
       "    <tr>\n",
       "      <th>4</th>\n",
       "      <td>Low: 68 °F</td>\n",
       "    </tr>\n",
       "    <tr>\n",
       "      <th>5</th>\n",
       "      <td>High: 78 °F</td>\n",
       "    </tr>\n",
       "    <tr>\n",
       "      <th>6</th>\n",
       "      <td>Low: 61 °F</td>\n",
       "    </tr>\n",
       "    <tr>\n",
       "      <th>7</th>\n",
       "      <td>High: 72 °F</td>\n",
       "    </tr>\n",
       "    <tr>\n",
       "      <th>8</th>\n",
       "      <td>Low: 57 °F</td>\n",
       "    </tr>\n",
       "  </tbody>\n",
       "</table>\n",
       "</div>"
      ],
      "text/plain": [
       "         temps\n",
       "0   Low: 63 °F\n",
       "1  High: 80 °F\n",
       "2   Low: 65 °F\n",
       "3  High: 82 °F\n",
       "4   Low: 68 °F\n",
       "5  High: 78 °F\n",
       "6   Low: 61 °F\n",
       "7  High: 72 °F\n",
       "8   Low: 57 °F"
      ]
     },
     "execution_count": 63,
     "metadata": {},
     "output_type": "execute_result"
    }
   ],
   "source": [
    "frame_temps = pd.DataFrame(data=temps,columns=['temps'],)\n",
    "frame_temps"
   ]
  },
  {
   "cell_type": "code",
   "execution_count": 64,
   "metadata": {},
   "outputs": [
    {
     "data": {
      "text/html": [
       "<div>\n",
       "<style scoped>\n",
       "    .dataframe tbody tr th:only-of-type {\n",
       "        vertical-align: middle;\n",
       "    }\n",
       "\n",
       "    .dataframe tbody tr th {\n",
       "        vertical-align: top;\n",
       "    }\n",
       "\n",
       "    .dataframe thead th {\n",
       "        text-align: right;\n",
       "    }\n",
       "</style>\n",
       "<table border=\"1\" class=\"dataframe\">\n",
       "  <thead>\n",
       "    <tr style=\"text-align: right;\">\n",
       "      <th></th>\n",
       "      <th>desc</th>\n",
       "      <th>periods</th>\n",
       "      <th>short_desc</th>\n",
       "      <th>temps</th>\n",
       "    </tr>\n",
       "  </thead>\n",
       "  <tbody>\n",
       "    <tr>\n",
       "      <th>0</th>\n",
       "      <td>Overnight: Patchy drizzle and fog with isolate...</td>\n",
       "      <td>Overnight</td>\n",
       "      <td>PatchyDrizzle andPatchy Fog</td>\n",
       "      <td>Low: 63 °F</td>\n",
       "    </tr>\n",
       "    <tr>\n",
       "      <th>1</th>\n",
       "      <td>Sunday: Isolated showers.  Areas of fog before...</td>\n",
       "      <td>Sunday</td>\n",
       "      <td>IsolatedShowers andAreas Fog</td>\n",
       "      <td>High: 80 °F</td>\n",
       "    </tr>\n",
       "    <tr>\n",
       "      <th>2</th>\n",
       "      <td>Sunday Night: Isolated showers before 9pm.  Cl...</td>\n",
       "      <td>SundayNight</td>\n",
       "      <td>IsolatedShowers thenCloudy</td>\n",
       "      <td>Low: 65 °F</td>\n",
       "    </tr>\n",
       "    <tr>\n",
       "      <th>3</th>\n",
       "      <td>Monday: Partly sunny, with a high near 82. Sou...</td>\n",
       "      <td>Monday</td>\n",
       "      <td>Partly Sunny</td>\n",
       "      <td>High: 82 °F</td>\n",
       "    </tr>\n",
       "    <tr>\n",
       "      <th>4</th>\n",
       "      <td>Monday Night: A chance of showers, mainly afte...</td>\n",
       "      <td>MondayNight</td>\n",
       "      <td>ChanceShowers</td>\n",
       "      <td>Low: 68 °F</td>\n",
       "    </tr>\n",
       "    <tr>\n",
       "      <th>5</th>\n",
       "      <td>Tuesday: A chance of showers, then showers and...</td>\n",
       "      <td>Tuesday</td>\n",
       "      <td>Showers</td>\n",
       "      <td>High: 78 °F</td>\n",
       "    </tr>\n",
       "    <tr>\n",
       "      <th>6</th>\n",
       "      <td>Tuesday Night: Showers and possibly a thunders...</td>\n",
       "      <td>TuesdayNight</td>\n",
       "      <td>Showers</td>\n",
       "      <td>Low: 61 °F</td>\n",
       "    </tr>\n",
       "    <tr>\n",
       "      <th>7</th>\n",
       "      <td>Wednesday: Showers likely, mainly before 9am. ...</td>\n",
       "      <td>Wednesday</td>\n",
       "      <td>ShowersLikely</td>\n",
       "      <td>High: 72 °F</td>\n",
       "    </tr>\n",
       "    <tr>\n",
       "      <th>8</th>\n",
       "      <td>Wednesday Night: A chance of showers.  Mostly ...</td>\n",
       "      <td>WednesdayNight</td>\n",
       "      <td>ChanceShowers</td>\n",
       "      <td>Low: 57 °F</td>\n",
       "    </tr>\n",
       "  </tbody>\n",
       "</table>\n",
       "</div>"
      ],
      "text/plain": [
       "                                                desc         periods  \\\n",
       "0  Overnight: Patchy drizzle and fog with isolate...       Overnight   \n",
       "1  Sunday: Isolated showers.  Areas of fog before...          Sunday   \n",
       "2  Sunday Night: Isolated showers before 9pm.  Cl...     SundayNight   \n",
       "3  Monday: Partly sunny, with a high near 82. Sou...          Monday   \n",
       "4  Monday Night: A chance of showers, mainly afte...     MondayNight   \n",
       "5  Tuesday: A chance of showers, then showers and...         Tuesday   \n",
       "6  Tuesday Night: Showers and possibly a thunders...    TuesdayNight   \n",
       "7  Wednesday: Showers likely, mainly before 9am. ...       Wednesday   \n",
       "8  Wednesday Night: A chance of showers.  Mostly ...  WednesdayNight   \n",
       "\n",
       "                     short_desc        temps  \n",
       "0   PatchyDrizzle andPatchy Fog   Low: 63 °F  \n",
       "1  IsolatedShowers andAreas Fog  High: 80 °F  \n",
       "2    IsolatedShowers thenCloudy   Low: 65 °F  \n",
       "3                  Partly Sunny  High: 82 °F  \n",
       "4                 ChanceShowers   Low: 68 °F  \n",
       "5                       Showers  High: 78 °F  \n",
       "6                       Showers   Low: 61 °F  \n",
       "7                 ShowersLikely  High: 72 °F  \n",
       "8                 ChanceShowers   Low: 57 °F  "
      ]
     },
     "execution_count": 64,
     "metadata": {},
     "output_type": "execute_result"
    }
   ],
   "source": [
    "weather = pd.concat([frame_desc, frame_periods, frame_short_descs, frame_temps], axis=1)\n",
    "weather"
   ]
  },
  {
   "cell_type": "code",
   "execution_count": 65,
   "metadata": {},
   "outputs": [
    {
     "data": {
      "text/html": [
       "<div>\n",
       "<style scoped>\n",
       "    .dataframe tbody tr th:only-of-type {\n",
       "        vertical-align: middle;\n",
       "    }\n",
       "\n",
       "    .dataframe tbody tr th {\n",
       "        vertical-align: top;\n",
       "    }\n",
       "\n",
       "    .dataframe thead th {\n",
       "        text-align: right;\n",
       "    }\n",
       "</style>\n",
       "<table border=\"1\" class=\"dataframe\">\n",
       "  <thead>\n",
       "    <tr style=\"text-align: right;\">\n",
       "      <th></th>\n",
       "      <th>desc</th>\n",
       "      <th>periods</th>\n",
       "      <th>short_desc</th>\n",
       "      <th>temps</th>\n",
       "    </tr>\n",
       "  </thead>\n",
       "  <tbody>\n",
       "    <tr>\n",
       "      <th>0</th>\n",
       "      <td>Overnight: Patchy drizzle and fog with isolate...</td>\n",
       "      <td>Overnight</td>\n",
       "      <td>PatchyDrizzle andPatchy Fog</td>\n",
       "      <td>Low: 63 °F</td>\n",
       "    </tr>\n",
       "    <tr>\n",
       "      <th>1</th>\n",
       "      <td>Sunday: Isolated showers.  Areas of fog before...</td>\n",
       "      <td>Sunday</td>\n",
       "      <td>IsolatedShowers andAreas Fog</td>\n",
       "      <td>High: 80 °F</td>\n",
       "    </tr>\n",
       "    <tr>\n",
       "      <th>2</th>\n",
       "      <td>Sunday Night: Isolated showers before 9pm.  Cl...</td>\n",
       "      <td>SundayNight</td>\n",
       "      <td>IsolatedShowers thenCloudy</td>\n",
       "      <td>Low: 65 °F</td>\n",
       "    </tr>\n",
       "    <tr>\n",
       "      <th>3</th>\n",
       "      <td>Monday: Partly sunny, with a high near 82. Sou...</td>\n",
       "      <td>Monday</td>\n",
       "      <td>Partly Sunny</td>\n",
       "      <td>High: 82 °F</td>\n",
       "    </tr>\n",
       "    <tr>\n",
       "      <th>4</th>\n",
       "      <td>Monday Night: A chance of showers, mainly afte...</td>\n",
       "      <td>MondayNight</td>\n",
       "      <td>ChanceShowers</td>\n",
       "      <td>Low: 68 °F</td>\n",
       "    </tr>\n",
       "  </tbody>\n",
       "</table>\n",
       "</div>"
      ],
      "text/plain": [
       "                                                desc      periods  \\\n",
       "0  Overnight: Patchy drizzle and fog with isolate...    Overnight   \n",
       "1  Sunday: Isolated showers.  Areas of fog before...       Sunday   \n",
       "2  Sunday Night: Isolated showers before 9pm.  Cl...  SundayNight   \n",
       "3  Monday: Partly sunny, with a high near 82. Sou...       Monday   \n",
       "4  Monday Night: A chance of showers, mainly afte...  MondayNight   \n",
       "\n",
       "                     short_desc        temps  \n",
       "0   PatchyDrizzle andPatchy Fog   Low: 63 °F  \n",
       "1  IsolatedShowers andAreas Fog  High: 80 °F  \n",
       "2    IsolatedShowers thenCloudy   Low: 65 °F  \n",
       "3                  Partly Sunny  High: 82 °F  \n",
       "4                 ChanceShowers   Low: 68 °F  "
      ]
     },
     "execution_count": 65,
     "metadata": {},
     "output_type": "execute_result"
    }
   ],
   "source": [
    "weather.head()"
   ]
  },
  {
   "cell_type": "markdown",
   "metadata": {},
   "source": [
    "### Analyzing Weather\n",
    "\n",
    "Here you will need to have some kind of understanding of regexp pattern syntax. As always if you don't our friend google is here to assist\n",
    "\n",
    "[REGEX CHEAT SHEET](https://www.dataquest.io/blog/regex-cheatsheet/): Refresher\n",
    "\n",
    "[PYTHON REGEX DOCS](https://docs.python.org/3/library/re.html): PyDocs"
   ]
  },
  {
   "cell_type": "code",
   "execution_count": null,
   "metadata": {},
   "outputs": [],
   "source": [
    "#First we will extract the number from the temps columns so we can run some basic functions\n",
    "\n",
    "temp_nums = weather[\"temps\"].str.extract(\"(?P<temp_num>\\d+)\", expand=False)\n",
    "temp_nums"
   ]
  },
  {
   "cell_type": "code",
   "execution_count": null,
   "metadata": {},
   "outputs": [],
   "source": [
    "# Next we will simply add in the temp_num column to our dataframe ensuring to cast is as dtype int so we can run some calcs\n",
    "\n",
    "weather[\"temp_num\"] = temp_nums.astype('int')\n",
    "weather"
   ]
  },
  {
   "cell_type": "markdown",
   "metadata": {},
   "source": [
    "#### Mean Temperatures"
   ]
  },
  {
   "cell_type": "code",
   "execution_count": null,
   "metadata": {},
   "outputs": [],
   "source": [
    "weather[\"temp_num\"].mean()"
   ]
  },
  {
   "cell_type": "markdown",
   "metadata": {},
   "source": [
    "#### Night Time Temperatures"
   ]
  },
  {
   "cell_type": "code",
   "execution_count": null,
   "metadata": {},
   "outputs": [],
   "source": [
    "is_night = weather[\"temps\"].str.contains(\"Low\")\n",
    "weather[\"is_night\"] = is_night\n",
    "is_night\n",
    "weather[is_night]"
   ]
  },
  {
   "cell_type": "markdown",
   "metadata": {},
   "source": [
    "## EXERCISE 5: UFO Sigtings\n",
    "\n",
    "### *with the remaining time, please attempt attempt the exercise below*\n",
    "\n",
    "1. Use beautiful soup to inspect the html file associated with the http://www.nuforc.org/webreports/ndxe201608.html data.\n",
    "2. Use the findAll() and findChildren methods() to loop through the html data and load it into a DataFrame.\n",
    "\n",
    "*HINT you may want to consider using an embedded for loop using the two find methods above; If you can find another more elegant way to do it please share withe the group*"
   ]
  },
  {
   "cell_type": "code",
   "execution_count": null,
   "metadata": {},
   "outputs": [],
   "source": [
    "from bs4 import BeautifulSoup # a python HTML parser\n",
    "import re #Regular expressions\n",
    "import requests\n",
    "import pandas as pd"
   ]
  },
  {
   "cell_type": "code",
   "execution_count": null,
   "metadata": {},
   "outputs": [],
   "source": [
    "r = requests.get(\"http://www.nuforc.org/webreports/ndxe201608.html\")\n",
    "b = BeautifulSoup(r.text, 'html.parser')\n",
    "r.status_code"
   ]
  },
  {
   "cell_type": "code",
   "execution_count": null,
   "metadata": {},
   "outputs": [],
   "source": [
    "# r.content #go ahead and uncomment this line by hitting ctrl+/"
   ]
  },
  {
   "cell_type": "code",
   "execution_count": null,
   "metadata": {},
   "outputs": [],
   "source": [
    "# b #go ahead and uncomment this as well and compare the different... then bask in the glory of BeautifulSoup"
   ]
  },
  {
   "cell_type": "code",
   "execution_count": null,
   "metadata": {},
   "outputs": [],
   "source": [
    "# What data do we have? Let's look at the head of the HTML file to determine what's contained within.\n",
    "d = b.findAll('thead')\n",
    "print(d)"
   ]
  },
  {
   "cell_type": "code",
   "execution_count": null,
   "metadata": {},
   "outputs": [],
   "source": [
    "# Let's take a look at the first sighting\n",
    "for tr in b.findAll('tr', attrs = {'valign':'TOP'})[:1]: # remove the '1' in the slice to view all data\n",
    "    # the findChildren method returns all children underneath it\n",
    "    for child in tr.findChildren():\n",
    "        print(child.text)"
   ]
  },
  {
   "cell_type": "code",
   "execution_count": null,
   "metadata": {},
   "outputs": [],
   "source": [
    "# OK, it's a bit messy, Let's clean it up. Go ahead and use the code below completing the loops below to load the data into a DataFrame.\n",
    "# Looks like the first element is the date, the 4th is the city, 6th if state, 8th is shape etc...\n",
    "\n",
    "\n",
    "ufo_sightings = {\n",
    "        'Date':[],\n",
    "        'City':[],\n",
    "        'State':[],\n",
    "        'Shape':[],\n",
    "        'Duration':[],\n",
    "        'Summary':[]\n",
    "    }\n",
    "\n",
    "for tr in b.findAll('tr', attrs = {'valign':'TOP'}):\n",
    "        #your code goes here\n",
    "    for child in tr.findChildren():\n",
    "        #your code goes here\n",
    "        \n",
    "    pd.DataFrame(ufo_sightings).head()"
   ]
  }
 ],
 "metadata": {
  "kernel_info": {
   "name": "python3"
  },
  "kernelspec": {
   "display_name": "Python 3",
   "language": "python",
   "name": "python3"
  },
  "language_info": {
   "codemirror_mode": {
    "name": "ipython",
    "version": 3
   },
   "file_extension": ".py",
   "mimetype": "text/x-python",
   "name": "python",
   "nbconvert_exporter": "python",
   "pygments_lexer": "ipython3",
   "version": "3.7.6"
  },
  "nteract": {
   "version": "0.11.6"
  }
 },
 "nbformat": 4,
 "nbformat_minor": 2
}
