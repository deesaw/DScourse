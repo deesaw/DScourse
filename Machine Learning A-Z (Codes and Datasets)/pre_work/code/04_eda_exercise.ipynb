{
 "cells": [
  {
   "cell_type": "markdown",
   "metadata": {
    "inputHidden": false,
    "outputHidden": false
   },
   "source": [
    "# Superstore Exploratory Data Analysis"
   ]
  },
  {
   "cell_type": "markdown",
   "metadata": {},
   "source": [
    "### Table of Contents\n",
    "1. [Introduction](#1.-Introduction)\n",
    "2. [Context](#2.-Context)\n",
    "3. [Your turn](#3.-Your-turn)\n",
    "4. [Initial exploration](#4.-Initial-exploration)\n",
    "5. [Column by column exploration](#5.-Column-by-column-exploration)\n",
    "6. [Answering business questions](#6.-Answering-business-questions)"
   ]
  },
  {
   "cell_type": "markdown",
   "metadata": {},
   "source": [
    "### 1. Introduction"
   ]
  },
  {
   "cell_type": "markdown",
   "metadata": {},
   "source": [
    "Over the next __60 minutes__, you will apply the exploratory data analysis techniques from the previous session as well as the other prework to a new dataset.\n",
    "\n",
    "This is an open-ended exercise that is intended to simulate many a real-life situation: unclean data and unexpected results.\n",
    "\n",
    "Apply what you've learned so far and have some fun along the way!"
   ]
  },
  {
   "cell_type": "markdown",
   "metadata": {},
   "source": [
    "__Instructions__\n",
    "- Spend __5 minutes__ getting familiar with the dataset (columns, data types, etc.)\n",
    "- As a group, spend __5 minutes__ discussing what technical and business questions you're going to try to answer and how you might split up that effort \n",
    "- Spend __40 minutes__ exploring the dataset, addressing your questions, and documenting your findings\n",
    "- Spend __10 minutes__ back with your group discussing what you found.\n",
    "  - Was there anything surprising or unexpected in the data? Are there any issues you need to address?\n",
    "  - Do you have conclusive answers to the questions you laid out?\n",
    "  - Is there anything else you would explore if you had more time?\n",
    "\n",
    "__NOTE:__ Focus on EDA and __not__ building models. We will spend plenty of time modeling over the next several days."
   ]
  },
  {
   "cell_type": "markdown",
   "metadata": {},
   "source": [
    "### 2. Context"
   ]
  },
  {
   "cell_type": "markdown",
   "metadata": {},
   "source": [
    "__Superstore__, the biggest office supply store you've never heard of, wants to analyze its sales for any findings that could reveal unknown insights, identify improvement areas, and, of course, boost sales."
   ]
  },
  {
   "cell_type": "markdown",
   "metadata": {},
   "source": [
    "As a __data scientist__, your first step is almost always to review what data is available and determine whether it is sufficient to meet your use case/objective:\n",
    "- Is there any missing data?\n",
    "- Is the data \"clean?\" If not, why not?\n",
    "- Does the data make sense? Do you have questions on what the rows and columns mean?\n",
    "\n",
    "If something is missing or unclear, it's helpful to raise specific issues and questions to get what you need."
   ]
  },
  {
   "cell_type": "markdown",
   "metadata": {},
   "source": [
    "__Superstore__ is interested in the following: \n",
    "- How have Superstore's sales been over time (past month, past year, etc.)? \n",
    "- Which categories and subcategories are performing the best/worst?\n",
    "- Which geographies have the best profit margins?\n",
    "\n",
    "Of course, Superstore is all ears - feel free to come up with your own questions that may pique their interest."
   ]
  },
  {
   "cell_type": "markdown",
   "metadata": {},
   "source": [
    "### 3. Your turn"
   ]
  },
  {
   "cell_type": "code",
   "execution_count": 201,
   "metadata": {},
   "outputs": [],
   "source": [
    "# These imports are provided just to get you started, but feel free to import more libraries as you see fit\n",
    "\n",
    "from datetime import datetime\n",
    "import matplotlib.pyplot as plt\n",
    "import matplotlib.dates as mdates\n",
    "import numpy as np\n",
    "import pandas as pd\n",
    "import seaborn as sns\n",
    "%matplotlib inline"
   ]
  },
  {
   "cell_type": "code",
   "execution_count": 148,
   "metadata": {},
   "outputs": [],
   "source": [
    "# by default, pandas will only print a certain number of columns of your results\n",
    "# setting this option will print all available columns\n",
    "pd.set_option('display.max_columns', None)"
   ]
  },
  {
   "cell_type": "code",
   "execution_count": 149,
   "metadata": {},
   "outputs": [
    {
     "name": "stdout",
     "output_type": "stream",
     "text": [
      " Volume in drive C is OSDisk\n",
      " Volume Serial Number is 503C-A475\n",
      "\n",
      " Directory of C:\\Users\\mprappas\\Documents\\Machine Learning\\Learning\\ML-Guild-US-MLG-07-Apprentice-Academy-2020-September\\pre_work\\data\n",
      "\n",
      "07/19/2020  11:01 AM    <DIR>          .\n",
      "07/19/2020  11:01 AM    <DIR>          ..\n",
      "05/17/2020  05:32 PM            25,070 Automobile_data.csv\n",
      "05/17/2020  05:32 PM             5,167 drinks.csv\n",
      "05/17/2020  05:32 PM         9,158,321 fifa19.csv\n",
      "07/19/2020  11:01 AM         2,287,723 superstore.csv\n",
      "05/17/2020  05:32 PM         3,084,641 ufo.csv\n",
      "               5 File(s)     14,560,922 bytes\n",
      "               2 Dir(s)  114,495,594,496 bytes free\n"
     ]
    }
   ],
   "source": [
    "## If you're wondering where the data is you can navigate your directories by envoking the magic command (preceded with '%')\n",
    "%ls ..\\data"
   ]
  },
  {
   "cell_type": "code",
   "execution_count": 150,
   "metadata": {},
   "outputs": [],
   "source": [
    "superstore = pd.read_csv(\"../data/superstore.csv\", encoding='latin1')"
   ]
  },
  {
   "cell_type": "markdown",
   "metadata": {},
   "source": [
    "### 4. Initial exploration"
   ]
  },
  {
   "cell_type": "markdown",
   "metadata": {},
   "source": [
    "Start by taking a peek at `.head()`, columns in the DataFrame and their data types, and shape"
   ]
  },
  {
   "cell_type": "code",
   "execution_count": 151,
   "metadata": {},
   "outputs": [
    {
     "data": {
      "text/html": [
       "<div>\n",
       "<style scoped>\n",
       "    .dataframe tbody tr th:only-of-type {\n",
       "        vertical-align: middle;\n",
       "    }\n",
       "\n",
       "    .dataframe tbody tr th {\n",
       "        vertical-align: top;\n",
       "    }\n",
       "\n",
       "    .dataframe thead th {\n",
       "        text-align: right;\n",
       "    }\n",
       "</style>\n",
       "<table border=\"1\" class=\"dataframe\">\n",
       "  <thead>\n",
       "    <tr style=\"text-align: right;\">\n",
       "      <th></th>\n",
       "      <th>Row ID</th>\n",
       "      <th>Order ID</th>\n",
       "      <th>Order Date</th>\n",
       "      <th>Ship Date</th>\n",
       "      <th>Ship Mode</th>\n",
       "      <th>Customer ID</th>\n",
       "      <th>Customer Name</th>\n",
       "      <th>Segment</th>\n",
       "      <th>Country</th>\n",
       "      <th>City</th>\n",
       "      <th>Project</th>\n",
       "      <th>Postal Code</th>\n",
       "      <th>Section</th>\n",
       "      <th>Product ID</th>\n",
       "      <th>Category</th>\n",
       "      <th>Sub-Category</th>\n",
       "      <th>Product Name</th>\n",
       "      <th>Sales</th>\n",
       "      <th>Quantity</th>\n",
       "      <th>Discount</th>\n",
       "      <th>Profit</th>\n",
       "    </tr>\n",
       "  </thead>\n",
       "  <tbody>\n",
       "    <tr>\n",
       "      <th>0</th>\n",
       "      <td>7981</td>\n",
       "      <td>CA-2011-103800</td>\n",
       "      <td>1/3/2013</td>\n",
       "      <td>1/7/2013</td>\n",
       "      <td>Standard Class</td>\n",
       "      <td>DP-13000</td>\n",
       "      <td>Darren Powers</td>\n",
       "      <td>Consumer</td>\n",
       "      <td>United States</td>\n",
       "      <td>Houston</td>\n",
       "      <td>Texas</td>\n",
       "      <td>77095</td>\n",
       "      <td>Central</td>\n",
       "      <td>OFF-PA-10000174</td>\n",
       "      <td>Office Supplies</td>\n",
       "      <td>Paper</td>\n",
       "      <td>Message Book, Wirebound, Four 5 1/2\" X 4\" Form...</td>\n",
       "      <td>16.448</td>\n",
       "      <td>2.0</td>\n",
       "      <td>0.2</td>\n",
       "      <td>5.5512</td>\n",
       "    </tr>\n",
       "    <tr>\n",
       "      <th>1</th>\n",
       "      <td>740</td>\n",
       "      <td>CA-2011-112326</td>\n",
       "      <td>1/4/2013</td>\n",
       "      <td>1/8/2013</td>\n",
       "      <td>Standard Class</td>\n",
       "      <td>PO-19195</td>\n",
       "      <td>Phillina Ober</td>\n",
       "      <td>Home Office</td>\n",
       "      <td>United States</td>\n",
       "      <td>Naperville</td>\n",
       "      <td>Illinois</td>\n",
       "      <td>60540</td>\n",
       "      <td>Central</td>\n",
       "      <td>OFF-LA-10003223</td>\n",
       "      <td>Office Supplies</td>\n",
       "      <td>Labels</td>\n",
       "      <td>Avery 508</td>\n",
       "      <td>11.784</td>\n",
       "      <td>3.0</td>\n",
       "      <td>0.2</td>\n",
       "      <td>4.2717</td>\n",
       "    </tr>\n",
       "    <tr>\n",
       "      <th>2</th>\n",
       "      <td>741</td>\n",
       "      <td>CA-2011-112326</td>\n",
       "      <td>1/4/2013</td>\n",
       "      <td>1/8/2013</td>\n",
       "      <td>Standard Class</td>\n",
       "      <td>PO-19195</td>\n",
       "      <td>Phillina Ober</td>\n",
       "      <td>Home Office</td>\n",
       "      <td>United States</td>\n",
       "      <td>Naperville</td>\n",
       "      <td>Illinois</td>\n",
       "      <td>60540</td>\n",
       "      <td>Central</td>\n",
       "      <td>OFF-ST-10002743</td>\n",
       "      <td>Office Supplies</td>\n",
       "      <td>Storage</td>\n",
       "      <td>SAFCO Boltless Steel Shelving</td>\n",
       "      <td>272.736</td>\n",
       "      <td>3.0</td>\n",
       "      <td>0.2</td>\n",
       "      <td>-64.7748</td>\n",
       "    </tr>\n",
       "    <tr>\n",
       "      <th>3</th>\n",
       "      <td>742</td>\n",
       "      <td>CA-2011-112326</td>\n",
       "      <td>1/4/2013</td>\n",
       "      <td>1/8/2013</td>\n",
       "      <td>Standard Class</td>\n",
       "      <td>PO-19195</td>\n",
       "      <td>Phillina Ober</td>\n",
       "      <td>Home Office</td>\n",
       "      <td>USA</td>\n",
       "      <td>Naperville</td>\n",
       "      <td>Illinois</td>\n",
       "      <td>60540</td>\n",
       "      <td>Central</td>\n",
       "      <td>OFF-BI-10004094</td>\n",
       "      <td>Office Supplies</td>\n",
       "      <td>Binders</td>\n",
       "      <td>GBC Standard Plastic Binding Systems Combs</td>\n",
       "      <td>3.540</td>\n",
       "      <td>2.0</td>\n",
       "      <td>0.8</td>\n",
       "      <td>-5.4870</td>\n",
       "    </tr>\n",
       "    <tr>\n",
       "      <th>4</th>\n",
       "      <td>1760</td>\n",
       "      <td>CA-2011-141817</td>\n",
       "      <td>1/5/2013</td>\n",
       "      <td>1/12/2013</td>\n",
       "      <td>Standard Class</td>\n",
       "      <td>MB-18085</td>\n",
       "      <td>Mick Brown</td>\n",
       "      <td>Consumer</td>\n",
       "      <td>United States</td>\n",
       "      <td>Philadelphia</td>\n",
       "      <td>Pennsylvania</td>\n",
       "      <td>19143</td>\n",
       "      <td>East</td>\n",
       "      <td>OFF-AR-10003478</td>\n",
       "      <td>Office Supplies</td>\n",
       "      <td>Art</td>\n",
       "      <td>Avery Hi-Liter EverBold Pen Style Fluorescent ...</td>\n",
       "      <td>19.536</td>\n",
       "      <td>3.0</td>\n",
       "      <td>0.2</td>\n",
       "      <td>4.8840</td>\n",
       "    </tr>\n",
       "  </tbody>\n",
       "</table>\n",
       "</div>"
      ],
      "text/plain": [
       "   Row ID        Order ID Order Date  Ship Date       Ship Mode Customer ID  \\\n",
       "0    7981  CA-2011-103800   1/3/2013   1/7/2013  Standard Class    DP-13000   \n",
       "1     740  CA-2011-112326   1/4/2013   1/8/2013  Standard Class    PO-19195   \n",
       "2     741  CA-2011-112326   1/4/2013   1/8/2013  Standard Class    PO-19195   \n",
       "3     742  CA-2011-112326   1/4/2013   1/8/2013  Standard Class    PO-19195   \n",
       "4    1760  CA-2011-141817   1/5/2013  1/12/2013  Standard Class    MB-18085   \n",
       "\n",
       "   Customer Name      Segment        Country          City       Project  \\\n",
       "0  Darren Powers     Consumer  United States       Houston         Texas   \n",
       "1  Phillina Ober  Home Office  United States    Naperville      Illinois   \n",
       "2  Phillina Ober  Home Office  United States    Naperville      Illinois   \n",
       "3  Phillina Ober  Home Office            USA    Naperville      Illinois   \n",
       "4     Mick Brown     Consumer  United States  Philadelphia  Pennsylvania   \n",
       "\n",
       "   Postal Code  Section       Product ID         Category Sub-Category  \\\n",
       "0        77095  Central  OFF-PA-10000174  Office Supplies        Paper   \n",
       "1        60540  Central  OFF-LA-10003223  Office Supplies       Labels   \n",
       "2        60540  Central  OFF-ST-10002743  Office Supplies      Storage   \n",
       "3        60540  Central  OFF-BI-10004094  Office Supplies      Binders   \n",
       "4        19143     East  OFF-AR-10003478  Office Supplies          Art   \n",
       "\n",
       "                                        Product Name    Sales  Quantity  \\\n",
       "0  Message Book, Wirebound, Four 5 1/2\" X 4\" Form...   16.448       2.0   \n",
       "1                                          Avery 508   11.784       3.0   \n",
       "2                      SAFCO Boltless Steel Shelving  272.736       3.0   \n",
       "3         GBC Standard Plastic Binding Systems Combs    3.540       2.0   \n",
       "4  Avery Hi-Liter EverBold Pen Style Fluorescent ...   19.536       3.0   \n",
       "\n",
       "   Discount   Profit  \n",
       "0       0.2   5.5512  \n",
       "1       0.2   4.2717  \n",
       "2       0.2 -64.7748  \n",
       "3       0.8  -5.4870  \n",
       "4       0.2   4.8840  "
      ]
     },
     "execution_count": 151,
     "metadata": {},
     "output_type": "execute_result"
    }
   ],
   "source": [
    "superstore.head()"
   ]
  },
  {
   "cell_type": "code",
   "execution_count": 152,
   "metadata": {},
   "outputs": [
    {
     "data": {
      "text/plain": [
       "array(['Row ID', 'Order ID', 'Order Date', 'Ship Date', 'Ship Mode',\n",
       "       'Customer ID', 'Customer Name', 'Segment', 'Country', 'City',\n",
       "       'Project', 'Postal Code', 'Section', 'Product ID', 'Category',\n",
       "       'Sub-Category', 'Product Name', 'Sales', 'Quantity', 'Discount',\n",
       "       'Profit'], dtype=object)"
      ]
     },
     "execution_count": 152,
     "metadata": {},
     "output_type": "execute_result"
    }
   ],
   "source": [
    "# get array of columns\n",
    "superstore.columns.values"
   ]
  },
  {
   "cell_type": "code",
   "execution_count": 205,
   "metadata": {},
   "outputs": [
    {
     "data": {
      "text/plain": [
       "Row ID                               int64\n",
       "Order ID                            object\n",
       "Order Date                  datetime64[ns]\n",
       "Ship Date                   datetime64[ns]\n",
       "Ship Mode                         category\n",
       "Customer ID                         object\n",
       "Customer Name                       object\n",
       "Segment                           category\n",
       "Country                             object\n",
       "City                                object\n",
       "Postal Code                          int64\n",
       "Section                           category\n",
       "Product ID                          object\n",
       "Category                            object\n",
       "Sub-Category                        object\n",
       "Product Name                        object\n",
       "Sales                              float64\n",
       "Quantity                           float64\n",
       "Discount                           float64\n",
       "Profit                             float64\n",
       "State                               object\n",
       "Order Date Month of Year         period[M]\n",
       "dtype: object"
      ]
     },
     "execution_count": 205,
     "metadata": {},
     "output_type": "execute_result"
    }
   ],
   "source": [
    "# check the data types that pandas read in\n",
    "# - by default, pandas reads all non-numeric values as str\n",
    "# - for int values, reads them in as 64-bit signed integers (which can go from -9,223,372,036,854,775,808 to 9,223,372,036,854,775,807)\n",
    "# - similar for floating point numbers: read in as 64-bit signed floating point numbers\n",
    "# generally, we can reassign types to make our DataFrame more efficient in memory (i.e., take up less space)\n",
    "# - for string values that take one of a fixed list of values (e.g, Region), we can assign them as 'category'\n",
    "# - we can represent dates as datetime values for which we have built-in logic to handle\n",
    "# - for numeric types (int/float), we can also pick a representation of them that has smaller range but is more efficient in memory\n",
    "# - for example, a signed 8-bit integer can take on values from -128 to 127 (which might be good enough for our use case)\n",
    "superstore.dtypes"
   ]
  },
  {
   "cell_type": "code",
   "execution_count": 154,
   "metadata": {},
   "outputs": [
    {
     "data": {
      "text/plain": [
       "(9994, 21)"
      ]
     },
     "execution_count": 154,
     "metadata": {},
     "output_type": "execute_result"
    }
   ],
   "source": [
    "# 9994 rows, 21 columns\n",
    "superstore.shape"
   ]
  },
  {
   "cell_type": "code",
   "execution_count": 155,
   "metadata": {},
   "outputs": [
    {
     "data": {
      "text/html": [
       "<div>\n",
       "<style scoped>\n",
       "    .dataframe tbody tr th:only-of-type {\n",
       "        vertical-align: middle;\n",
       "    }\n",
       "\n",
       "    .dataframe tbody tr th {\n",
       "        vertical-align: top;\n",
       "    }\n",
       "\n",
       "    .dataframe thead th {\n",
       "        text-align: right;\n",
       "    }\n",
       "</style>\n",
       "<table border=\"1\" class=\"dataframe\">\n",
       "  <thead>\n",
       "    <tr style=\"text-align: right;\">\n",
       "      <th></th>\n",
       "      <th>Row ID</th>\n",
       "      <th>Order ID</th>\n",
       "      <th>Order Date</th>\n",
       "      <th>Ship Date</th>\n",
       "      <th>Ship Mode</th>\n",
       "      <th>Customer ID</th>\n",
       "      <th>Customer Name</th>\n",
       "      <th>Segment</th>\n",
       "      <th>Country</th>\n",
       "      <th>City</th>\n",
       "      <th>Project</th>\n",
       "      <th>Postal Code</th>\n",
       "      <th>Section</th>\n",
       "      <th>Product ID</th>\n",
       "      <th>Category</th>\n",
       "      <th>Sub-Category</th>\n",
       "      <th>Product Name</th>\n",
       "      <th>Sales</th>\n",
       "      <th>Quantity</th>\n",
       "      <th>Discount</th>\n",
       "      <th>Profit</th>\n",
       "    </tr>\n",
       "  </thead>\n",
       "  <tbody>\n",
       "    <tr>\n",
       "      <th>count</th>\n",
       "      <td>9994.000000</td>\n",
       "      <td>9994</td>\n",
       "      <td>9994</td>\n",
       "      <td>9994</td>\n",
       "      <td>9994</td>\n",
       "      <td>9994</td>\n",
       "      <td>9994</td>\n",
       "      <td>9994</td>\n",
       "      <td>9994</td>\n",
       "      <td>9994</td>\n",
       "      <td>9992</td>\n",
       "      <td>9994.000000</td>\n",
       "      <td>9994</td>\n",
       "      <td>9994</td>\n",
       "      <td>9994</td>\n",
       "      <td>9994</td>\n",
       "      <td>9994</td>\n",
       "      <td>9994.000000</td>\n",
       "      <td>9994.000000</td>\n",
       "      <td>9994.000000</td>\n",
       "      <td>9994.000000</td>\n",
       "    </tr>\n",
       "    <tr>\n",
       "      <th>unique</th>\n",
       "      <td>NaN</td>\n",
       "      <td>5009</td>\n",
       "      <td>1237</td>\n",
       "      <td>1334</td>\n",
       "      <td>4</td>\n",
       "      <td>793</td>\n",
       "      <td>793</td>\n",
       "      <td>3</td>\n",
       "      <td>8</td>\n",
       "      <td>531</td>\n",
       "      <td>53</td>\n",
       "      <td>NaN</td>\n",
       "      <td>4</td>\n",
       "      <td>1862</td>\n",
       "      <td>3</td>\n",
       "      <td>17</td>\n",
       "      <td>1850</td>\n",
       "      <td>NaN</td>\n",
       "      <td>NaN</td>\n",
       "      <td>NaN</td>\n",
       "      <td>NaN</td>\n",
       "    </tr>\n",
       "    <tr>\n",
       "      <th>top</th>\n",
       "      <td>NaN</td>\n",
       "      <td>CA-2014-100111</td>\n",
       "      <td>9/6/2015</td>\n",
       "      <td>12/16/2014</td>\n",
       "      <td>Standard Class</td>\n",
       "      <td>WB-21850</td>\n",
       "      <td>William Brown</td>\n",
       "      <td>Consumer</td>\n",
       "      <td>United States</td>\n",
       "      <td>New York City</td>\n",
       "      <td>California</td>\n",
       "      <td>NaN</td>\n",
       "      <td>West</td>\n",
       "      <td>OFF-PA-10001970</td>\n",
       "      <td>Office Supplies</td>\n",
       "      <td>Binders</td>\n",
       "      <td>Staple envelope</td>\n",
       "      <td>NaN</td>\n",
       "      <td>NaN</td>\n",
       "      <td>NaN</td>\n",
       "      <td>NaN</td>\n",
       "    </tr>\n",
       "    <tr>\n",
       "      <th>freq</th>\n",
       "      <td>NaN</td>\n",
       "      <td>14</td>\n",
       "      <td>38</td>\n",
       "      <td>35</td>\n",
       "      <td>5968</td>\n",
       "      <td>37</td>\n",
       "      <td>37</td>\n",
       "      <td>5191</td>\n",
       "      <td>9978</td>\n",
       "      <td>915</td>\n",
       "      <td>2000</td>\n",
       "      <td>NaN</td>\n",
       "      <td>3203</td>\n",
       "      <td>19</td>\n",
       "      <td>6026</td>\n",
       "      <td>1523</td>\n",
       "      <td>48</td>\n",
       "      <td>NaN</td>\n",
       "      <td>NaN</td>\n",
       "      <td>NaN</td>\n",
       "      <td>NaN</td>\n",
       "    </tr>\n",
       "    <tr>\n",
       "      <th>mean</th>\n",
       "      <td>4997.500000</td>\n",
       "      <td>NaN</td>\n",
       "      <td>NaN</td>\n",
       "      <td>NaN</td>\n",
       "      <td>NaN</td>\n",
       "      <td>NaN</td>\n",
       "      <td>NaN</td>\n",
       "      <td>NaN</td>\n",
       "      <td>NaN</td>\n",
       "      <td>NaN</td>\n",
       "      <td>NaN</td>\n",
       "      <td>55190.379428</td>\n",
       "      <td>NaN</td>\n",
       "      <td>NaN</td>\n",
       "      <td>NaN</td>\n",
       "      <td>NaN</td>\n",
       "      <td>NaN</td>\n",
       "      <td>229.858001</td>\n",
       "      <td>3.789524</td>\n",
       "      <td>0.156203</td>\n",
       "      <td>28.656896</td>\n",
       "    </tr>\n",
       "    <tr>\n",
       "      <th>std</th>\n",
       "      <td>2885.163629</td>\n",
       "      <td>NaN</td>\n",
       "      <td>NaN</td>\n",
       "      <td>NaN</td>\n",
       "      <td>NaN</td>\n",
       "      <td>NaN</td>\n",
       "      <td>NaN</td>\n",
       "      <td>NaN</td>\n",
       "      <td>NaN</td>\n",
       "      <td>NaN</td>\n",
       "      <td>NaN</td>\n",
       "      <td>32063.693350</td>\n",
       "      <td>NaN</td>\n",
       "      <td>NaN</td>\n",
       "      <td>NaN</td>\n",
       "      <td>NaN</td>\n",
       "      <td>NaN</td>\n",
       "      <td>623.245101</td>\n",
       "      <td>2.225178</td>\n",
       "      <td>0.206452</td>\n",
       "      <td>234.260108</td>\n",
       "    </tr>\n",
       "    <tr>\n",
       "      <th>min</th>\n",
       "      <td>1.000000</td>\n",
       "      <td>NaN</td>\n",
       "      <td>NaN</td>\n",
       "      <td>NaN</td>\n",
       "      <td>NaN</td>\n",
       "      <td>NaN</td>\n",
       "      <td>NaN</td>\n",
       "      <td>NaN</td>\n",
       "      <td>NaN</td>\n",
       "      <td>NaN</td>\n",
       "      <td>NaN</td>\n",
       "      <td>1040.000000</td>\n",
       "      <td>NaN</td>\n",
       "      <td>NaN</td>\n",
       "      <td>NaN</td>\n",
       "      <td>NaN</td>\n",
       "      <td>NaN</td>\n",
       "      <td>0.444000</td>\n",
       "      <td>0.500000</td>\n",
       "      <td>0.000000</td>\n",
       "      <td>-6599.978000</td>\n",
       "    </tr>\n",
       "    <tr>\n",
       "      <th>25%</th>\n",
       "      <td>2499.250000</td>\n",
       "      <td>NaN</td>\n",
       "      <td>NaN</td>\n",
       "      <td>NaN</td>\n",
       "      <td>NaN</td>\n",
       "      <td>NaN</td>\n",
       "      <td>NaN</td>\n",
       "      <td>NaN</td>\n",
       "      <td>NaN</td>\n",
       "      <td>NaN</td>\n",
       "      <td>NaN</td>\n",
       "      <td>23223.000000</td>\n",
       "      <td>NaN</td>\n",
       "      <td>NaN</td>\n",
       "      <td>NaN</td>\n",
       "      <td>NaN</td>\n",
       "      <td>NaN</td>\n",
       "      <td>17.280000</td>\n",
       "      <td>2.000000</td>\n",
       "      <td>0.000000</td>\n",
       "      <td>1.728750</td>\n",
       "    </tr>\n",
       "    <tr>\n",
       "      <th>50%</th>\n",
       "      <td>4997.500000</td>\n",
       "      <td>NaN</td>\n",
       "      <td>NaN</td>\n",
       "      <td>NaN</td>\n",
       "      <td>NaN</td>\n",
       "      <td>NaN</td>\n",
       "      <td>NaN</td>\n",
       "      <td>NaN</td>\n",
       "      <td>NaN</td>\n",
       "      <td>NaN</td>\n",
       "      <td>NaN</td>\n",
       "      <td>56430.500000</td>\n",
       "      <td>NaN</td>\n",
       "      <td>NaN</td>\n",
       "      <td>NaN</td>\n",
       "      <td>NaN</td>\n",
       "      <td>NaN</td>\n",
       "      <td>54.490000</td>\n",
       "      <td>3.000000</td>\n",
       "      <td>0.200000</td>\n",
       "      <td>8.666500</td>\n",
       "    </tr>\n",
       "    <tr>\n",
       "      <th>75%</th>\n",
       "      <td>7495.750000</td>\n",
       "      <td>NaN</td>\n",
       "      <td>NaN</td>\n",
       "      <td>NaN</td>\n",
       "      <td>NaN</td>\n",
       "      <td>NaN</td>\n",
       "      <td>NaN</td>\n",
       "      <td>NaN</td>\n",
       "      <td>NaN</td>\n",
       "      <td>NaN</td>\n",
       "      <td>NaN</td>\n",
       "      <td>90008.000000</td>\n",
       "      <td>NaN</td>\n",
       "      <td>NaN</td>\n",
       "      <td>NaN</td>\n",
       "      <td>NaN</td>\n",
       "      <td>NaN</td>\n",
       "      <td>209.940000</td>\n",
       "      <td>5.000000</td>\n",
       "      <td>0.200000</td>\n",
       "      <td>29.364000</td>\n",
       "    </tr>\n",
       "    <tr>\n",
       "      <th>max</th>\n",
       "      <td>9994.000000</td>\n",
       "      <td>NaN</td>\n",
       "      <td>NaN</td>\n",
       "      <td>NaN</td>\n",
       "      <td>NaN</td>\n",
       "      <td>NaN</td>\n",
       "      <td>NaN</td>\n",
       "      <td>NaN</td>\n",
       "      <td>NaN</td>\n",
       "      <td>NaN</td>\n",
       "      <td>NaN</td>\n",
       "      <td>99301.000000</td>\n",
       "      <td>NaN</td>\n",
       "      <td>NaN</td>\n",
       "      <td>NaN</td>\n",
       "      <td>NaN</td>\n",
       "      <td>NaN</td>\n",
       "      <td>22638.480000</td>\n",
       "      <td>14.000000</td>\n",
       "      <td>0.800000</td>\n",
       "      <td>8399.976000</td>\n",
       "    </tr>\n",
       "  </tbody>\n",
       "</table>\n",
       "</div>"
      ],
      "text/plain": [
       "             Row ID        Order ID Order Date   Ship Date       Ship Mode  \\\n",
       "count   9994.000000            9994       9994        9994            9994   \n",
       "unique          NaN            5009       1237        1334               4   \n",
       "top             NaN  CA-2014-100111   9/6/2015  12/16/2014  Standard Class   \n",
       "freq            NaN              14         38          35            5968   \n",
       "mean    4997.500000             NaN        NaN         NaN             NaN   \n",
       "std     2885.163629             NaN        NaN         NaN             NaN   \n",
       "min        1.000000             NaN        NaN         NaN             NaN   \n",
       "25%     2499.250000             NaN        NaN         NaN             NaN   \n",
       "50%     4997.500000             NaN        NaN         NaN             NaN   \n",
       "75%     7495.750000             NaN        NaN         NaN             NaN   \n",
       "max     9994.000000             NaN        NaN         NaN             NaN   \n",
       "\n",
       "       Customer ID  Customer Name   Segment        Country           City  \\\n",
       "count         9994           9994      9994           9994           9994   \n",
       "unique         793            793         3              8            531   \n",
       "top       WB-21850  William Brown  Consumer  United States  New York City   \n",
       "freq            37             37      5191           9978            915   \n",
       "mean           NaN            NaN       NaN            NaN            NaN   \n",
       "std            NaN            NaN       NaN            NaN            NaN   \n",
       "min            NaN            NaN       NaN            NaN            NaN   \n",
       "25%            NaN            NaN       NaN            NaN            NaN   \n",
       "50%            NaN            NaN       NaN            NaN            NaN   \n",
       "75%            NaN            NaN       NaN            NaN            NaN   \n",
       "max            NaN            NaN       NaN            NaN            NaN   \n",
       "\n",
       "           Project   Postal Code Section       Product ID         Category  \\\n",
       "count         9992   9994.000000    9994             9994             9994   \n",
       "unique          53           NaN       4             1862                3   \n",
       "top     California           NaN    West  OFF-PA-10001970  Office Supplies   \n",
       "freq          2000           NaN    3203               19             6026   \n",
       "mean           NaN  55190.379428     NaN              NaN              NaN   \n",
       "std            NaN  32063.693350     NaN              NaN              NaN   \n",
       "min            NaN   1040.000000     NaN              NaN              NaN   \n",
       "25%            NaN  23223.000000     NaN              NaN              NaN   \n",
       "50%            NaN  56430.500000     NaN              NaN              NaN   \n",
       "75%            NaN  90008.000000     NaN              NaN              NaN   \n",
       "max            NaN  99301.000000     NaN              NaN              NaN   \n",
       "\n",
       "       Sub-Category     Product Name         Sales     Quantity     Discount  \\\n",
       "count          9994             9994   9994.000000  9994.000000  9994.000000   \n",
       "unique           17             1850           NaN          NaN          NaN   \n",
       "top         Binders  Staple envelope           NaN          NaN          NaN   \n",
       "freq           1523               48           NaN          NaN          NaN   \n",
       "mean            NaN              NaN    229.858001     3.789524     0.156203   \n",
       "std             NaN              NaN    623.245101     2.225178     0.206452   \n",
       "min             NaN              NaN      0.444000     0.500000     0.000000   \n",
       "25%             NaN              NaN     17.280000     2.000000     0.000000   \n",
       "50%             NaN              NaN     54.490000     3.000000     0.200000   \n",
       "75%             NaN              NaN    209.940000     5.000000     0.200000   \n",
       "max             NaN              NaN  22638.480000    14.000000     0.800000   \n",
       "\n",
       "             Profit  \n",
       "count   9994.000000  \n",
       "unique          NaN  \n",
       "top             NaN  \n",
       "freq            NaN  \n",
       "mean      28.656896  \n",
       "std      234.260108  \n",
       "min    -6599.978000  \n",
       "25%        1.728750  \n",
       "50%        8.666500  \n",
       "75%       29.364000  \n",
       "max     8399.976000  "
      ]
     },
     "execution_count": 155,
     "metadata": {},
     "output_type": "execute_result"
    }
   ],
   "source": [
    "superstore.describe(include = 'all')"
   ]
  },
  {
   "cell_type": "markdown",
   "metadata": {},
   "source": [
    "There can be many takeaways from `.describe()` calls. A couple here include:\n",
    "- Almost all rows are populated (count = number of rows = 9994), except `Project`\n",
    "- `Sales` are all positive and `Profit` can be negative (loss) or positive (profit), as we would expect \n",
    "- The `min` value for `Quantity` is `0.5` - what does this mean?"
   ]
  },
  {
   "cell_type": "markdown",
   "metadata": {},
   "source": [
    "### 5. Column by column exploration"
   ]
  },
  {
   "cell_type": "markdown",
   "metadata": {},
   "source": [
    "#### Relationship between `Row ID` and `Order ID`\n",
    "\n",
    "Are there duplicates in the `Row ID` and `Order ID` columns? Is there a 1:1 relationship?"
   ]
  },
  {
   "cell_type": "code",
   "execution_count": 156,
   "metadata": {},
   "outputs": [
    {
     "data": {
      "text/plain": [
       "1"
      ]
     },
     "execution_count": 156,
     "metadata": {},
     "output_type": "execute_result"
    }
   ],
   "source": [
    "# no Row ID appears in more than one row\n",
    "superstore.groupby(['Row ID']).size().max()"
   ]
  },
  {
   "cell_type": "code",
   "execution_count": 157,
   "metadata": {},
   "outputs": [
    {
     "data": {
      "text/plain": [
       "14"
      ]
     },
     "execution_count": 157,
     "metadata": {},
     "output_type": "execute_result"
    }
   ],
   "source": [
    "# one Order ID appears in 14 rows\n",
    "superstore.groupby(['Order ID']).size().max()"
   ]
  },
  {
   "cell_type": "code",
   "execution_count": 158,
   "metadata": {},
   "outputs": [
    {
     "data": {
      "text/plain": [
       "<matplotlib.axes._subplots.AxesSubplot at 0x2360738db88>"
      ]
     },
     "execution_count": 158,
     "metadata": {},
     "output_type": "execute_result"
    },
    {
     "data": {
      "image/png": "[encoded data removed]",
      "text/plain": [
       "<Figure size 432x288 with 1 Axes>"
      ]
     },
     "metadata": {
      "needs_background": "light"
     },
     "output_type": "display_data"
    }
   ],
   "source": [
    "# looks like there are a fair number of duplicate Order IDs\n",
    "# this is OK - we just need to understand what the level of granularity for a single row is\n",
    "# if a single row corresponds to a single order, then there are duplicates we need to check out\n",
    "superstore.groupby(['Order ID']).size().hist(bins=20)"
   ]
  },
  {
   "cell_type": "code",
   "execution_count": 159,
   "metadata": {},
   "outputs": [
    {
     "data": {
      "text/plain": [
       "1"
      ]
     },
     "execution_count": 159,
     "metadata": {},
     "output_type": "execute_result"
    }
   ],
   "source": [
    "# there are no duplicates in Row ID column, so that takes care of the question of the relationship betwen Row ID and Order ID\n",
    "superstore.groupby(['Row ID', 'Order ID']).size().max()"
   ]
  },
  {
   "cell_type": "markdown",
   "metadata": {},
   "source": [
    "#### Explore date columns and convert them to Python's `datetime` format"
   ]
  },
  {
   "cell_type": "code",
   "execution_count": 160,
   "metadata": {},
   "outputs": [
    {
     "data": {
      "text/html": [
       "<div>\n",
       "<style scoped>\n",
       "    .dataframe tbody tr th:only-of-type {\n",
       "        vertical-align: middle;\n",
       "    }\n",
       "\n",
       "    .dataframe tbody tr th {\n",
       "        vertical-align: top;\n",
       "    }\n",
       "\n",
       "    .dataframe thead th {\n",
       "        text-align: right;\n",
       "    }\n",
       "</style>\n",
       "<table border=\"1\" class=\"dataframe\">\n",
       "  <thead>\n",
       "    <tr style=\"text-align: right;\">\n",
       "      <th></th>\n",
       "      <th>Ship Date</th>\n",
       "      <th>Order Date</th>\n",
       "    </tr>\n",
       "  </thead>\n",
       "  <tbody>\n",
       "    <tr>\n",
       "      <th>0</th>\n",
       "      <td>1/7/2013</td>\n",
       "      <td>1/3/2013</td>\n",
       "    </tr>\n",
       "    <tr>\n",
       "      <th>1</th>\n",
       "      <td>1/8/2013</td>\n",
       "      <td>1/4/2013</td>\n",
       "    </tr>\n",
       "    <tr>\n",
       "      <th>2</th>\n",
       "      <td>1/8/2013</td>\n",
       "      <td>1/4/2013</td>\n",
       "    </tr>\n",
       "    <tr>\n",
       "      <th>3</th>\n",
       "      <td>1/8/2013</td>\n",
       "      <td>1/4/2013</td>\n",
       "    </tr>\n",
       "    <tr>\n",
       "      <th>4</th>\n",
       "      <td>1/12/2013</td>\n",
       "      <td>1/5/2013</td>\n",
       "    </tr>\n",
       "    <tr>\n",
       "      <th>5</th>\n",
       "      <td>1/8/2013</td>\n",
       "      <td>1/6/2013</td>\n",
       "    </tr>\n",
       "    <tr>\n",
       "      <th>6</th>\n",
       "      <td>1/7/2013</td>\n",
       "      <td>1/6/2013</td>\n",
       "    </tr>\n",
       "    <tr>\n",
       "      <th>7</th>\n",
       "      <td>1/10/2013</td>\n",
       "      <td>1/6/2013</td>\n",
       "    </tr>\n",
       "    <tr>\n",
       "      <th>8</th>\n",
       "      <td>1/10/2013</td>\n",
       "      <td>1/6/2013</td>\n",
       "    </tr>\n",
       "    <tr>\n",
       "      <th>9</th>\n",
       "      <td>1/10/2013</td>\n",
       "      <td>1/6/2013</td>\n",
       "    </tr>\n",
       "  </tbody>\n",
       "</table>\n",
       "</div>"
      ],
      "text/plain": [
       "   Ship Date Order Date\n",
       "0   1/7/2013   1/3/2013\n",
       "1   1/8/2013   1/4/2013\n",
       "2   1/8/2013   1/4/2013\n",
       "3   1/8/2013   1/4/2013\n",
       "4  1/12/2013   1/5/2013\n",
       "5   1/8/2013   1/6/2013\n",
       "6   1/7/2013   1/6/2013\n",
       "7  1/10/2013   1/6/2013\n",
       "8  1/10/2013   1/6/2013\n",
       "9  1/10/2013   1/6/2013"
      ]
     },
     "execution_count": 160,
     "metadata": {},
     "output_type": "execute_result"
    }
   ],
   "source": [
    "superstore[['Ship Date', 'Order Date']].head(10)"
   ]
  },
  {
   "cell_type": "code",
   "execution_count": 161,
   "metadata": {},
   "outputs": [],
   "source": [
    "# take all date columns and apply the `pandas` function `to_datetime()` to correct the dates\n",
    "# NOTE: this function handles basic formats well (e.g., MM/DD/YYYY), but you can specify the format as well\n",
    "# for more information, check the 'format' argument at https://pandas.pydata.org/pandas-docs/stable/reference/api/pandas.to_datetime.html\n",
    "\n",
    "superstore['Ship Date'] = pd.to_datetime(superstore['Ship Date'])\n",
    "superstore['Order Date'] = pd.to_datetime(superstore['Order Date'])"
   ]
  },
  {
   "cell_type": "code",
   "execution_count": 162,
   "metadata": {},
   "outputs": [
    {
     "data": {
      "text/plain": [
       "0   2013-01-07\n",
       "1   2013-01-08\n",
       "2   2013-01-08\n",
       "3   2013-01-08\n",
       "4   2013-01-12\n",
       "5   2013-01-08\n",
       "6   2013-01-07\n",
       "7   2013-01-10\n",
       "8   2013-01-10\n",
       "9   2013-01-10\n",
       "Name: Ship Date, dtype: datetime64[ns]"
      ]
     },
     "execution_count": 162,
     "metadata": {},
     "output_type": "execute_result"
    }
   ],
   "source": [
    "# note that this column is now datetime64\n",
    "# this Python data type is built specifically for dates and times\n",
    "# it lets you increment easily (e.g., 2020-02-29 plus one day is 2020-03-01)\n",
    "# and easily access specific parts of the date (e.g., month of 2020-02-29 is 02 or February)\n",
    "\n",
    "superstore['Ship Date'].head(10)"
   ]
  },
  {
   "cell_type": "code",
   "execution_count": 163,
   "metadata": {},
   "outputs": [
    {
     "data": {
      "text/plain": [
       "0"
      ]
     },
     "execution_count": 163,
     "metadata": {},
     "output_type": "execute_result"
    }
   ],
   "source": [
    "# is Order Date always before Ship Date?\n",
    "# we expect Order Date to never be after Ship Date (can be on same date, though)\n",
    "(superstore['Order Date'] > superstore['Ship Date']).sum()"
   ]
  },
  {
   "cell_type": "markdown",
   "metadata": {},
   "source": [
    "#### `Ship Mode` column"
   ]
  },
  {
   "cell_type": "code",
   "execution_count": 164,
   "metadata": {},
   "outputs": [
    {
     "data": {
      "text/plain": [
       "Standard Class    5968\n",
       "Second Class      1945\n",
       "First Class       1538\n",
       "Same Day           543\n",
       "Name: Ship Mode, dtype: int64"
      ]
     },
     "execution_count": 164,
     "metadata": {},
     "output_type": "execute_result"
    }
   ],
   "source": [
    "superstore['Ship Mode'].value_counts()"
   ]
  },
  {
   "cell_type": "code",
   "execution_count": 165,
   "metadata": {},
   "outputs": [],
   "source": [
    "# everything looks good here - let's encode as Category\n",
    "superstore['Ship Mode'] = superstore['Ship Mode'].astype('category')"
   ]
  },
  {
   "cell_type": "markdown",
   "metadata": {},
   "source": [
    "#### Check for relationship between `Customer ID` and `Customer Name`"
   ]
  },
  {
   "cell_type": "code",
   "execution_count": 166,
   "metadata": {},
   "outputs": [
    {
     "data": {
      "text/plain": [
       "Customer ID  Customer Name     \n",
       "AA-10315     Alex Avila            11\n",
       "AA-10375     Allen Armold          15\n",
       "AA-10480     Andrew Allen          12\n",
       "AA-10645     Anna Andreadi         18\n",
       "AB-10015     Aaron Bergman          6\n",
       "                                   ..\n",
       "XP-21865     Xylona Preis          28\n",
       "YC-21895     Yoseph Carroll         8\n",
       "YS-21880     Yana Sorensen         12\n",
       "ZC-21910     Zuschuss Carroll      31\n",
       "ZD-21925     Zuschuss Donatelli     9\n",
       "Length: 793, dtype: int64"
      ]
     },
     "execution_count": 166,
     "metadata": {},
     "output_type": "execute_result"
    }
   ],
   "source": [
    "# this Series shows how many rows there are for each ID/Name combination in the dataset (but doesn't tell if it's a 1:1 relationship)\n",
    "cust_ID_name_combos = superstore.groupby(['Customer ID', 'Customer Name']).size()\n",
    "cust_ID_name_combos"
   ]
  },
  {
   "cell_type": "code",
   "execution_count": 167,
   "metadata": {},
   "outputs": [
    {
     "data": {
      "text/plain": [
       "1"
      ]
     },
     "execution_count": 167,
     "metadata": {},
     "output_type": "execute_result"
    }
   ],
   "source": [
    "# customer ID appears in no more than one combination\n",
    "cust_ID_name_combos.groupby('Customer ID').size().max()"
   ]
  },
  {
   "cell_type": "code",
   "execution_count": 168,
   "metadata": {},
   "outputs": [
    {
     "data": {
      "text/plain": [
       "1"
      ]
     },
     "execution_count": 168,
     "metadata": {},
     "output_type": "execute_result"
    }
   ],
   "source": [
    "# same here - we're safe to say there's a 1:1 relationship\n",
    "cust_ID_name_combos.groupby('Customer Name').size().max()"
   ]
  },
  {
   "cell_type": "markdown",
   "metadata": {},
   "source": [
    "#### `Segment`"
   ]
  },
  {
   "cell_type": "code",
   "execution_count": 169,
   "metadata": {},
   "outputs": [
    {
     "data": {
      "text/plain": [
       "Consumer       5191\n",
       "Corporate      3020\n",
       "Home Office    1783\n",
       "Name: Segment, dtype: int64"
      ]
     },
     "execution_count": 169,
     "metadata": {},
     "output_type": "execute_result"
    }
   ],
   "source": [
    "superstore['Segment'].value_counts()"
   ]
  },
  {
   "cell_type": "code",
   "execution_count": 170,
   "metadata": {},
   "outputs": [],
   "source": [
    "# everything looks good here - let's encode as Category\n",
    "superstore['Segment'] = superstore['Segment'].astype('category')"
   ]
  },
  {
   "cell_type": "markdown",
   "metadata": {},
   "source": [
    "#### `Country`"
   ]
  },
  {
   "cell_type": "code",
   "execution_count": 171,
   "metadata": {},
   "outputs": [
    {
     "data": {
      "text/plain": [
       "United States               9978\n",
       "UNITED STATES OF AMERICA       6\n",
       "USA                            4\n",
       "usa                            2\n",
       "UNITED STATES                  1\n",
       "U.S.A.                         1\n",
       "UnitedStates                   1\n",
       "us                             1\n",
       "Name: Country, dtype: int64"
      ]
     },
     "execution_count": 171,
     "metadata": {},
     "output_type": "execute_result"
    }
   ],
   "source": [
    "superstore['Country'].value_counts()"
   ]
  },
  {
   "cell_type": "code",
   "execution_count": 172,
   "metadata": {},
   "outputs": [],
   "source": [
    "# hmm... this is less than clean. Everything refers to USA, so let's assign all values to United States (the most prominent value)\n",
    "superstore['Country'] = 'United States'\n",
    "# not going encode as Categorical becasue we could theoeretically see more countries than just USA"
   ]
  },
  {
   "cell_type": "markdown",
   "metadata": {},
   "source": [
    "#### `City`"
   ]
  },
  {
   "cell_type": "code",
   "execution_count": 173,
   "metadata": {},
   "outputs": [
    {
     "data": {
      "text/plain": [
       "New York City    915\n",
       "Los Angeles      747\n",
       "Philadelphia     537\n",
       "San Francisco    510\n",
       "Seattle          428\n",
       "                ... \n",
       "Conway             1\n",
       "Kissimmee          1\n",
       "Lindenhurst        1\n",
       "Vacaville          1\n",
       "Santa Maria        1\n",
       "Name: City, Length: 531, dtype: int64"
      ]
     },
     "execution_count": 173,
     "metadata": {},
     "output_type": "execute_result"
    }
   ],
   "source": [
    "# without going through all 531 cities here, they seem to make sense\n",
    "# we might find down the line that there are misspellings, but we can cross that bridge when we get there\n",
    "superstore['City'].value_counts()"
   ]
  },
  {
   "cell_type": "markdown",
   "metadata": {},
   "source": [
    "#### `Project`"
   ]
  },
  {
   "cell_type": "code",
   "execution_count": 174,
   "metadata": {},
   "outputs": [
    {
     "data": {
      "text/plain": [
       "2"
      ]
     },
     "execution_count": 174,
     "metadata": {},
     "output_type": "execute_result"
    }
   ],
   "source": [
    "superstore['Project'].isna().sum()\n",
    "# 2 NA values - let's print those records"
   ]
  },
  {
   "cell_type": "code",
   "execution_count": 175,
   "metadata": {},
   "outputs": [
    {
     "data": {
      "text/plain": [
       "California              2000\n",
       "New York                1127\n",
       "Texas                    985\n",
       "Pennsylvania             587\n",
       "Washington               506\n",
       "Illinois                 491\n",
       "Ohio                     469\n",
       "Florida                  383\n",
       "Michigan                 255\n",
       "North Carolina           249\n",
       "Arizona                  224\n",
       "Virginia                 222\n",
       "Georgia                  184\n",
       "Tennessee                182\n",
       "Colorado                 182\n",
       "Indiana                  149\n",
       "Kentucky                 136\n",
       "Massachusetts            135\n",
       "New Jersey               130\n",
       "Oregon                   124\n",
       "Wisconsin                110\n",
       "Maryland                 105\n",
       "Delaware                  96\n",
       "Minnesota                 89\n",
       "Connecticut               82\n",
       "Missouri                  66\n",
       "Oklahoma                  66\n",
       "Alabama                   61\n",
       "Arkansas                  60\n",
       "Rhode Island              56\n",
       "Utah                      53\n",
       "Mississippi               53\n",
       "Louisiana                 42\n",
       "South Carolina            42\n",
       "Nevada                    39\n",
       "Nebraska                  38\n",
       "New Mexico                37\n",
       "Iowa                      30\n",
       "New Hampshire             27\n",
       "Kansas                    24\n",
       "Idaho                     21\n",
       "Montana                   15\n",
       "South Dakota              12\n",
       "Vermont                   11\n",
       "District of Columbia      10\n",
       "Maine                      8\n",
       "North Dakota               7\n",
       "West Virginia              4\n",
       "KY                         3\n",
       "VA                         2\n",
       "TN                         1\n",
       "Ill.                       1\n",
       "Wyoming                    1\n",
       "Name: Project, dtype: int64"
      ]
     },
     "execution_count": 175,
     "metadata": {},
     "output_type": "execute_result"
    }
   ],
   "source": [
    "superstore['Project'].value_counts()"
   ]
  },
  {
   "cell_type": "code",
   "execution_count": 176,
   "metadata": {},
   "outputs": [],
   "source": [
    "# a few things here:\n",
    "# - There are some values we need to fix (abbreviations `KY`, `VA`, `TN`, `Ill.` don't match full spelling of others)\n",
    "# - Why is this column called Project? Let's rename as State?\n",
    "superstore['Project'] = superstore['Project'].replace({'KY': 'Kentucky',\n",
    "                                                       'VA': 'Virginia',\n",
    "                                                       'TN': 'Tennessee',\n",
    "                                                       'Ill.': 'Illinois'})\n",
    "superstore['State'] = superstore['Project']\n",
    "superstore = superstore.drop(['Project'], axis=1)"
   ]
  },
  {
   "cell_type": "code",
   "execution_count": 177,
   "metadata": {},
   "outputs": [
    {
     "data": {
      "text/html": [
       "<div>\n",
       "<style scoped>\n",
       "    .dataframe tbody tr th:only-of-type {\n",
       "        vertical-align: middle;\n",
       "    }\n",
       "\n",
       "    .dataframe tbody tr th {\n",
       "        vertical-align: top;\n",
       "    }\n",
       "\n",
       "    .dataframe thead th {\n",
       "        text-align: right;\n",
       "    }\n",
       "</style>\n",
       "<table border=\"1\" class=\"dataframe\">\n",
       "  <thead>\n",
       "    <tr style=\"text-align: right;\">\n",
       "      <th></th>\n",
       "      <th>Row ID</th>\n",
       "      <th>Order ID</th>\n",
       "      <th>Order Date</th>\n",
       "      <th>Ship Date</th>\n",
       "      <th>Ship Mode</th>\n",
       "      <th>Customer ID</th>\n",
       "      <th>Customer Name</th>\n",
       "      <th>Segment</th>\n",
       "      <th>Country</th>\n",
       "      <th>City</th>\n",
       "      <th>Postal Code</th>\n",
       "      <th>Section</th>\n",
       "      <th>Product ID</th>\n",
       "      <th>Category</th>\n",
       "      <th>Sub-Category</th>\n",
       "      <th>Product Name</th>\n",
       "      <th>Sales</th>\n",
       "      <th>Quantity</th>\n",
       "      <th>Discount</th>\n",
       "      <th>Profit</th>\n",
       "      <th>State</th>\n",
       "    </tr>\n",
       "  </thead>\n",
       "  <tbody>\n",
       "    <tr>\n",
       "      <th>9976</th>\n",
       "      <td>1879</td>\n",
       "      <td>CA-2014-118885</td>\n",
       "      <td>2016-12-29</td>\n",
       "      <td>2017-01-02</td>\n",
       "      <td>Standard Class</td>\n",
       "      <td>JG-15160</td>\n",
       "      <td>James Galang</td>\n",
       "      <td>Consumer</td>\n",
       "      <td>United States</td>\n",
       "      <td>Los Angeles</td>\n",
       "      <td>90049</td>\n",
       "      <td>West</td>\n",
       "      <td>TEC-PH-10002563</td>\n",
       "      <td>Technology</td>\n",
       "      <td>Phones</td>\n",
       "      <td>Adtran 1202752G1</td>\n",
       "      <td>302.376</td>\n",
       "      <td>3.0</td>\n",
       "      <td>0.2</td>\n",
       "      <td>22.6782</td>\n",
       "      <td>NaN</td>\n",
       "    </tr>\n",
       "    <tr>\n",
       "      <th>9990</th>\n",
       "      <td>909</td>\n",
       "      <td>CA-2014-143259</td>\n",
       "      <td>2016-12-30</td>\n",
       "      <td>2017-01-03</td>\n",
       "      <td>Standard Class</td>\n",
       "      <td>PO-18865</td>\n",
       "      <td>Patrick O'Donnell</td>\n",
       "      <td>Consumer</td>\n",
       "      <td>United States</td>\n",
       "      <td>New York City</td>\n",
       "      <td>10009</td>\n",
       "      <td>East</td>\n",
       "      <td>OFF-BI-10003684</td>\n",
       "      <td>Office Supplies</td>\n",
       "      <td>Binders</td>\n",
       "      <td>Wilson Jones Legal Size Ring Binders</td>\n",
       "      <td>52.776</td>\n",
       "      <td>3.0</td>\n",
       "      <td>0.2</td>\n",
       "      <td>19.7910</td>\n",
       "      <td>NaN</td>\n",
       "    </tr>\n",
       "  </tbody>\n",
       "</table>\n",
       "</div>"
      ],
      "text/plain": [
       "      Row ID        Order ID Order Date  Ship Date       Ship Mode  \\\n",
       "9976    1879  CA-2014-118885 2016-12-29 2017-01-02  Standard Class   \n",
       "9990     909  CA-2014-143259 2016-12-30 2017-01-03  Standard Class   \n",
       "\n",
       "     Customer ID      Customer Name   Segment        Country           City  \\\n",
       "9976    JG-15160       James Galang  Consumer  United States    Los Angeles   \n",
       "9990    PO-18865  Patrick O'Donnell  Consumer  United States  New York City   \n",
       "\n",
       "      Postal Code Section       Product ID         Category Sub-Category  \\\n",
       "9976        90049    West  TEC-PH-10002563       Technology       Phones   \n",
       "9990        10009    East  OFF-BI-10003684  Office Supplies      Binders   \n",
       "\n",
       "                              Product Name    Sales  Quantity  Discount  \\\n",
       "9976                      Adtran 1202752G1  302.376       3.0       0.2   \n",
       "9990  Wilson Jones Legal Size Ring Binders   52.776       3.0       0.2   \n",
       "\n",
       "       Profit State  \n",
       "9976  22.6782   NaN  \n",
       "9990  19.7910   NaN  "
      ]
     },
     "execution_count": 177,
     "metadata": {},
     "output_type": "execute_result"
    }
   ],
   "source": [
    "superstore.loc[superstore['State'].isna()]"
   ]
  },
  {
   "cell_type": "code",
   "execution_count": 178,
   "metadata": {},
   "outputs": [
    {
     "name": "stderr",
     "output_type": "stream",
     "text": [
      "C:\\Users\\mprappas\\AppData\\Local\\Continuum\\anaconda3\\lib\\site-packages\\pandas\\core\\indexing.py:671: SettingWithCopyWarning: \n",
      "A value is trying to be set on a copy of a slice from a DataFrame\n",
      "\n",
      "See the caveats in the documentation: https://pandas.pydata.org/pandas-docs/stable/user_guide/indexing.html#returning-a-view-versus-a-copy\n",
      "  self._setitem_with_indexer(indexer, value)\n"
     ]
    }
   ],
   "source": [
    "# we can fill these in - LA with ZIP 90049 is in California, and NYC with ZPI 10009 is in New York\n",
    "superstore['State'].loc[(superstore['City'] == 'Los Angeles') & (superstore['Postal Code'] == 90049)] = 'California'\n",
    "superstore['State'].loc[(superstore['City'] == 'New York City') & (superstore['Postal Code'] == 10009)] = 'New York'"
   ]
  },
  {
   "cell_type": "markdown",
   "metadata": {},
   "source": [
    "#### `Section`"
   ]
  },
  {
   "cell_type": "code",
   "execution_count": 179,
   "metadata": {},
   "outputs": [
    {
     "data": {
      "text/plain": [
       "West       3203\n",
       "East       2848\n",
       "Central    2323\n",
       "South      1620\n",
       "Name: Section, dtype: int64"
      ]
     },
     "execution_count": 179,
     "metadata": {},
     "output_type": "execute_result"
    }
   ],
   "source": [
    "superstore['Section'].value_counts()"
   ]
  },
  {
   "cell_type": "code",
   "execution_count": 180,
   "metadata": {},
   "outputs": [],
   "source": [
    "# everything looks good here - let's encode as Category\n",
    "superstore['Section'] = superstore['Section'].astype('category')"
   ]
  },
  {
   "cell_type": "markdown",
   "metadata": {},
   "source": [
    "#### Relationship between `Product ID` and `Product Name`"
   ]
  },
  {
   "cell_type": "code",
   "execution_count": 181,
   "metadata": {},
   "outputs": [
    {
     "data": {
      "text/plain": [
       "Product ID       Product Name                                                  \n",
       "FUR-BO-10000112  Bush Birmingham Collection Bookcase, Dark Cherry                  1\n",
       "FUR-BO-10000330  Sauder Camden County Barrister Bookcase, Planked Cherry Finish    3\n",
       "FUR-BO-10000362  Sauder Inglewood Library Bookcases                                5\n",
       "FUR-BO-10000468  O'Sullivan 2-Shelf Heavy-Duty Bookcases                           6\n",
       "FUR-BO-10000711  Hon Metal Bookcases, Gray                                         2\n",
       "                                                                                  ..\n",
       "TEC-PH-10004912  Cisco SPA112 2 Port Phone Adapter                                 3\n",
       "TEC-PH-10004922  RCA Visys Integrated PBX 8-Line Router                            5\n",
       "TEC-PH-10004924  SKILCRAFT Telephone Shoulder Rest, 2\" x 6.5\" x 2.5\", Black        3\n",
       "TEC-PH-10004959  Classic Ivory Antique Telephone ZL1810                            2\n",
       "TEC-PH-10004977  GE 30524EE4                                                       9\n",
       "Length: 1894, dtype: int64"
      ]
     },
     "execution_count": 181,
     "metadata": {},
     "output_type": "execute_result"
    }
   ],
   "source": [
    "# this Series shows how many rows there are for each ID/Name combination in the dataset (but doesn't tell if it's a 1:1 relationship)\n",
    "product_ID_name_combos = superstore.groupby(['Product ID', 'Product Name']).size()\n",
    "product_ID_name_combos"
   ]
  },
  {
   "cell_type": "code",
   "execution_count": 182,
   "metadata": {},
   "outputs": [
    {
     "data": {
      "text/plain": [
       "2"
      ]
     },
     "execution_count": 182,
     "metadata": {},
     "output_type": "execute_result"
    }
   ],
   "source": [
    "# at least one product ID appears in two combinations: this means that there are two names corresponding to this ID\n",
    "product_ID_name_combos.groupby('Product ID').size().max()"
   ]
  },
  {
   "cell_type": "code",
   "execution_count": 183,
   "metadata": {},
   "outputs": [
    {
     "data": {
      "text/plain": [
       "Product ID\n",
       "FUR-BO-10000112    1\n",
       "OFF-PA-10004000    1\n",
       "OFF-PA-10003971    1\n",
       "OFF-PA-10003953    1\n",
       "OFF-PA-10003936    1\n",
       "                  ..\n",
       "OFF-AP-10000576    2\n",
       "TEC-AC-10002049    2\n",
       "OFF-PA-10003022    2\n",
       "FUR-BO-10002213    2\n",
       "OFF-PA-10000357    2\n",
       "Length: 1862, dtype: int64"
      ]
     },
     "execution_count": 183,
     "metadata": {},
     "output_type": "execute_result"
    }
   ],
   "source": [
    "# at least one product ID appears in two combinations: this means that there are two names corresponding to this ID\n",
    "product_ID_name_combos.groupby('Product ID').size().sort_values()"
   ]
  },
  {
   "cell_type": "code",
   "execution_count": 184,
   "metadata": {},
   "outputs": [
    {
     "data": {
      "text/html": [
       "<div>\n",
       "<style scoped>\n",
       "    .dataframe tbody tr th:only-of-type {\n",
       "        vertical-align: middle;\n",
       "    }\n",
       "\n",
       "    .dataframe tbody tr th {\n",
       "        vertical-align: top;\n",
       "    }\n",
       "\n",
       "    .dataframe thead th {\n",
       "        text-align: right;\n",
       "    }\n",
       "</style>\n",
       "<table border=\"1\" class=\"dataframe\">\n",
       "  <thead>\n",
       "    <tr style=\"text-align: right;\">\n",
       "      <th></th>\n",
       "      <th>Row ID</th>\n",
       "      <th>Order ID</th>\n",
       "      <th>Order Date</th>\n",
       "      <th>Ship Date</th>\n",
       "      <th>Ship Mode</th>\n",
       "      <th>Customer ID</th>\n",
       "      <th>Customer Name</th>\n",
       "      <th>Segment</th>\n",
       "      <th>Country</th>\n",
       "      <th>City</th>\n",
       "      <th>Postal Code</th>\n",
       "      <th>Section</th>\n",
       "      <th>Product ID</th>\n",
       "      <th>Category</th>\n",
       "      <th>Sub-Category</th>\n",
       "      <th>Product Name</th>\n",
       "      <th>Sales</th>\n",
       "      <th>Quantity</th>\n",
       "      <th>Discount</th>\n",
       "      <th>Profit</th>\n",
       "      <th>State</th>\n",
       "    </tr>\n",
       "  </thead>\n",
       "  <tbody>\n",
       "    <tr>\n",
       "      <th>1604</th>\n",
       "      <td>7868</td>\n",
       "      <td>CA-2011-100972</td>\n",
       "      <td>2013-11-19</td>\n",
       "      <td>2013-11-24</td>\n",
       "      <td>Second Class</td>\n",
       "      <td>DB-13360</td>\n",
       "      <td>Dennis Bolton</td>\n",
       "      <td>Home Office</td>\n",
       "      <td>United States</td>\n",
       "      <td>Salt Lake City</td>\n",
       "      <td>84106</td>\n",
       "      <td>West</td>\n",
       "      <td>OFF-PA-10000357</td>\n",
       "      <td>Office Supplies</td>\n",
       "      <td>Paper</td>\n",
       "      <td>Xerox 1888</td>\n",
       "      <td>166.440</td>\n",
       "      <td>3.0</td>\n",
       "      <td>0.0</td>\n",
       "      <td>79.8912</td>\n",
       "      <td>Utah</td>\n",
       "    </tr>\n",
       "    <tr>\n",
       "      <th>1878</th>\n",
       "      <td>4693</td>\n",
       "      <td>CA-2011-138681</td>\n",
       "      <td>2013-12-20</td>\n",
       "      <td>2013-12-22</td>\n",
       "      <td>First Class</td>\n",
       "      <td>CT-11995</td>\n",
       "      <td>Carol Triggs</td>\n",
       "      <td>Consumer</td>\n",
       "      <td>United States</td>\n",
       "      <td>Tucson</td>\n",
       "      <td>85705</td>\n",
       "      <td>West</td>\n",
       "      <td>OFF-PA-10000357</td>\n",
       "      <td>Office Supplies</td>\n",
       "      <td>Paper</td>\n",
       "      <td>Xerox 1888</td>\n",
       "      <td>221.920</td>\n",
       "      <td>5.0</td>\n",
       "      <td>0.2</td>\n",
       "      <td>77.6720</td>\n",
       "      <td>Arizona</td>\n",
       "    </tr>\n",
       "    <tr>\n",
       "      <th>2251</th>\n",
       "      <td>6808</td>\n",
       "      <td>CA-2012-128125</td>\n",
       "      <td>2014-03-31</td>\n",
       "      <td>2014-04-05</td>\n",
       "      <td>Standard Class</td>\n",
       "      <td>EB-13705</td>\n",
       "      <td>Ed Braxton</td>\n",
       "      <td>Corporate</td>\n",
       "      <td>United States</td>\n",
       "      <td>Houston</td>\n",
       "      <td>77095</td>\n",
       "      <td>Central</td>\n",
       "      <td>OFF-PA-10000357</td>\n",
       "      <td>Office Supplies</td>\n",
       "      <td>Paper</td>\n",
       "      <td>White Dual Perf Computer Printout Paper, 2700 ...</td>\n",
       "      <td>98.376</td>\n",
       "      <td>3.0</td>\n",
       "      <td>0.2</td>\n",
       "      <td>35.6613</td>\n",
       "      <td>Texas</td>\n",
       "    </tr>\n",
       "    <tr>\n",
       "      <th>4203</th>\n",
       "      <td>1391</td>\n",
       "      <td>US-2013-108504</td>\n",
       "      <td>2015-02-05</td>\n",
       "      <td>2015-02-05</td>\n",
       "      <td>Same Day</td>\n",
       "      <td>PP-18955</td>\n",
       "      <td>Paul Prost</td>\n",
       "      <td>Home Office</td>\n",
       "      <td>United States</td>\n",
       "      <td>Smyrna</td>\n",
       "      <td>30080</td>\n",
       "      <td>South</td>\n",
       "      <td>OFF-PA-10000357</td>\n",
       "      <td>Office Supplies</td>\n",
       "      <td>Paper</td>\n",
       "      <td>White Dual Perf Computer Printout Paper, 2700 ...</td>\n",
       "      <td>122.970</td>\n",
       "      <td>3.0</td>\n",
       "      <td>0.0</td>\n",
       "      <td>60.2553</td>\n",
       "      <td>Georgia</td>\n",
       "    </tr>\n",
       "    <tr>\n",
       "      <th>4798</th>\n",
       "      <td>505</td>\n",
       "      <td>US-2013-105578</td>\n",
       "      <td>2015-05-31</td>\n",
       "      <td>2015-06-05</td>\n",
       "      <td>Standard Class</td>\n",
       "      <td>MY-17380</td>\n",
       "      <td>Maribeth Yedwab</td>\n",
       "      <td>Corporate</td>\n",
       "      <td>United States</td>\n",
       "      <td>Parker</td>\n",
       "      <td>80134</td>\n",
       "      <td>West</td>\n",
       "      <td>OFF-PA-10000357</td>\n",
       "      <td>Office Supplies</td>\n",
       "      <td>Paper</td>\n",
       "      <td>White Dual Perf Computer Printout Paper, 2700 ...</td>\n",
       "      <td>32.792</td>\n",
       "      <td>1.0</td>\n",
       "      <td>0.2</td>\n",
       "      <td>11.8871</td>\n",
       "      <td>Colorado</td>\n",
       "    </tr>\n",
       "    <tr>\n",
       "      <th>4999</th>\n",
       "      <td>8260</td>\n",
       "      <td>CA-2013-118101</td>\n",
       "      <td>2015-06-27</td>\n",
       "      <td>2015-06-27</td>\n",
       "      <td>Same Day</td>\n",
       "      <td>SN-20560</td>\n",
       "      <td>Skye Norling</td>\n",
       "      <td>Home Office</td>\n",
       "      <td>United States</td>\n",
       "      <td>Roseville</td>\n",
       "      <td>48066</td>\n",
       "      <td>Central</td>\n",
       "      <td>OFF-PA-10000357</td>\n",
       "      <td>Office Supplies</td>\n",
       "      <td>Paper</td>\n",
       "      <td>White Dual Perf Computer Printout Paper, 2700 ...</td>\n",
       "      <td>368.910</td>\n",
       "      <td>9.0</td>\n",
       "      <td>0.0</td>\n",
       "      <td>180.7659</td>\n",
       "      <td>Michigan</td>\n",
       "    </tr>\n",
       "    <tr>\n",
       "      <th>7110</th>\n",
       "      <td>2104</td>\n",
       "      <td>CA-2014-167101</td>\n",
       "      <td>2016-03-24</td>\n",
       "      <td>2016-03-28</td>\n",
       "      <td>Second Class</td>\n",
       "      <td>BM-11650</td>\n",
       "      <td>Brian Moss</td>\n",
       "      <td>Corporate</td>\n",
       "      <td>United States</td>\n",
       "      <td>New York City</td>\n",
       "      <td>10009</td>\n",
       "      <td>East</td>\n",
       "      <td>OFF-PA-10000357</td>\n",
       "      <td>Office Supplies</td>\n",
       "      <td>Paper</td>\n",
       "      <td>Xerox 1888</td>\n",
       "      <td>221.920</td>\n",
       "      <td>4.0</td>\n",
       "      <td>0.0</td>\n",
       "      <td>106.5216</td>\n",
       "      <td>New York</td>\n",
       "    </tr>\n",
       "    <tr>\n",
       "      <th>7702</th>\n",
       "      <td>1569</td>\n",
       "      <td>US-2014-152002</td>\n",
       "      <td>2016-06-11</td>\n",
       "      <td>2016-06-11</td>\n",
       "      <td>Same Day</td>\n",
       "      <td>DV-13465</td>\n",
       "      <td>Dianna Vittorini</td>\n",
       "      <td>Consumer</td>\n",
       "      <td>United States</td>\n",
       "      <td>Los Angeles</td>\n",
       "      <td>90004</td>\n",
       "      <td>West</td>\n",
       "      <td>OFF-PA-10000357</td>\n",
       "      <td>Office Supplies</td>\n",
       "      <td>Paper</td>\n",
       "      <td>White Dual Perf Computer Printout Paper, 2700 ...</td>\n",
       "      <td>122.970</td>\n",
       "      <td>3.0</td>\n",
       "      <td>0.0</td>\n",
       "      <td>60.2553</td>\n",
       "      <td>California</td>\n",
       "    </tr>\n",
       "    <tr>\n",
       "      <th>7875</th>\n",
       "      <td>7696</td>\n",
       "      <td>CA-2014-107958</td>\n",
       "      <td>2016-07-02</td>\n",
       "      <td>2016-07-05</td>\n",
       "      <td>First Class</td>\n",
       "      <td>AH-10120</td>\n",
       "      <td>Adrian Hane</td>\n",
       "      <td>Home Office</td>\n",
       "      <td>United States</td>\n",
       "      <td>Houston</td>\n",
       "      <td>77036</td>\n",
       "      <td>Central</td>\n",
       "      <td>OFF-PA-10000357</td>\n",
       "      <td>Office Supplies</td>\n",
       "      <td>Paper</td>\n",
       "      <td>White Dual Perf Computer Printout Paper, 2700 ...</td>\n",
       "      <td>163.960</td>\n",
       "      <td>5.0</td>\n",
       "      <td>0.2</td>\n",
       "      <td>59.4355</td>\n",
       "      <td>Texas</td>\n",
       "    </tr>\n",
       "    <tr>\n",
       "      <th>8242</th>\n",
       "      <td>3604</td>\n",
       "      <td>CA-2014-112956</td>\n",
       "      <td>2016-08-21</td>\n",
       "      <td>2016-08-27</td>\n",
       "      <td>Standard Class</td>\n",
       "      <td>TH-21550</td>\n",
       "      <td>Tracy Hopkins</td>\n",
       "      <td>Home Office</td>\n",
       "      <td>United States</td>\n",
       "      <td>Columbia</td>\n",
       "      <td>21044</td>\n",
       "      <td>East</td>\n",
       "      <td>OFF-PA-10000357</td>\n",
       "      <td>Office Supplies</td>\n",
       "      <td>Paper</td>\n",
       "      <td>Xerox 1888</td>\n",
       "      <td>277.400</td>\n",
       "      <td>5.0</td>\n",
       "      <td>0.0</td>\n",
       "      <td>133.1520</td>\n",
       "      <td>Maryland</td>\n",
       "    </tr>\n",
       "    <tr>\n",
       "      <th>8453</th>\n",
       "      <td>4624</td>\n",
       "      <td>CA-2014-147228</td>\n",
       "      <td>2016-09-09</td>\n",
       "      <td>2016-09-14</td>\n",
       "      <td>Standard Class</td>\n",
       "      <td>SO-20335</td>\n",
       "      <td>Sean O'Donnell</td>\n",
       "      <td>Consumer</td>\n",
       "      <td>United States</td>\n",
       "      <td>Columbia</td>\n",
       "      <td>38401</td>\n",
       "      <td>South</td>\n",
       "      <td>OFF-PA-10000357</td>\n",
       "      <td>Office Supplies</td>\n",
       "      <td>Paper</td>\n",
       "      <td>Xerox 1888</td>\n",
       "      <td>177.536</td>\n",
       "      <td>4.0</td>\n",
       "      <td>0.2</td>\n",
       "      <td>62.1376</td>\n",
       "      <td>Tennessee</td>\n",
       "    </tr>\n",
       "    <tr>\n",
       "      <th>9604</th>\n",
       "      <td>2675</td>\n",
       "      <td>CA-2014-136875</td>\n",
       "      <td>2016-12-03</td>\n",
       "      <td>2016-12-03</td>\n",
       "      <td>Same Day</td>\n",
       "      <td>TC-21295</td>\n",
       "      <td>Toby Carlisle</td>\n",
       "      <td>Consumer</td>\n",
       "      <td>United States</td>\n",
       "      <td>San Diego</td>\n",
       "      <td>92024</td>\n",
       "      <td>West</td>\n",
       "      <td>OFF-PA-10000357</td>\n",
       "      <td>Office Supplies</td>\n",
       "      <td>Paper</td>\n",
       "      <td>Xerox 1888</td>\n",
       "      <td>166.440</td>\n",
       "      <td>3.0</td>\n",
       "      <td>0.0</td>\n",
       "      <td>79.8912</td>\n",
       "      <td>California</td>\n",
       "    </tr>\n",
       "  </tbody>\n",
       "</table>\n",
       "</div>"
      ],
      "text/plain": [
       "      Row ID        Order ID Order Date  Ship Date       Ship Mode  \\\n",
       "1604    7868  CA-2011-100972 2013-11-19 2013-11-24    Second Class   \n",
       "1878    4693  CA-2011-138681 2013-12-20 2013-12-22     First Class   \n",
       "2251    6808  CA-2012-128125 2014-03-31 2014-04-05  Standard Class   \n",
       "4203    1391  US-2013-108504 2015-02-05 2015-02-05        Same Day   \n",
       "4798     505  US-2013-105578 2015-05-31 2015-06-05  Standard Class   \n",
       "4999    8260  CA-2013-118101 2015-06-27 2015-06-27        Same Day   \n",
       "7110    2104  CA-2014-167101 2016-03-24 2016-03-28    Second Class   \n",
       "7702    1569  US-2014-152002 2016-06-11 2016-06-11        Same Day   \n",
       "7875    7696  CA-2014-107958 2016-07-02 2016-07-05     First Class   \n",
       "8242    3604  CA-2014-112956 2016-08-21 2016-08-27  Standard Class   \n",
       "8453    4624  CA-2014-147228 2016-09-09 2016-09-14  Standard Class   \n",
       "9604    2675  CA-2014-136875 2016-12-03 2016-12-03        Same Day   \n",
       "\n",
       "     Customer ID     Customer Name      Segment        Country  \\\n",
       "1604    DB-13360     Dennis Bolton  Home Office  United States   \n",
       "1878    CT-11995      Carol Triggs     Consumer  United States   \n",
       "2251    EB-13705        Ed Braxton    Corporate  United States   \n",
       "4203    PP-18955        Paul Prost  Home Office  United States   \n",
       "4798    MY-17380   Maribeth Yedwab    Corporate  United States   \n",
       "4999    SN-20560      Skye Norling  Home Office  United States   \n",
       "7110    BM-11650        Brian Moss    Corporate  United States   \n",
       "7702    DV-13465  Dianna Vittorini     Consumer  United States   \n",
       "7875    AH-10120       Adrian Hane  Home Office  United States   \n",
       "8242    TH-21550     Tracy Hopkins  Home Office  United States   \n",
       "8453    SO-20335    Sean O'Donnell     Consumer  United States   \n",
       "9604    TC-21295     Toby Carlisle     Consumer  United States   \n",
       "\n",
       "                City  Postal Code  Section       Product ID         Category  \\\n",
       "1604  Salt Lake City        84106     West  OFF-PA-10000357  Office Supplies   \n",
       "1878          Tucson        85705     West  OFF-PA-10000357  Office Supplies   \n",
       "2251         Houston        77095  Central  OFF-PA-10000357  Office Supplies   \n",
       "4203          Smyrna        30080    South  OFF-PA-10000357  Office Supplies   \n",
       "4798          Parker        80134     West  OFF-PA-10000357  Office Supplies   \n",
       "4999       Roseville        48066  Central  OFF-PA-10000357  Office Supplies   \n",
       "7110   New York City        10009     East  OFF-PA-10000357  Office Supplies   \n",
       "7702     Los Angeles        90004     West  OFF-PA-10000357  Office Supplies   \n",
       "7875         Houston        77036  Central  OFF-PA-10000357  Office Supplies   \n",
       "8242        Columbia        21044     East  OFF-PA-10000357  Office Supplies   \n",
       "8453        Columbia        38401    South  OFF-PA-10000357  Office Supplies   \n",
       "9604       San Diego        92024     West  OFF-PA-10000357  Office Supplies   \n",
       "\n",
       "     Sub-Category                                       Product Name    Sales  \\\n",
       "1604        Paper                                         Xerox 1888  166.440   \n",
       "1878        Paper                                         Xerox 1888  221.920   \n",
       "2251        Paper  White Dual Perf Computer Printout Paper, 2700 ...   98.376   \n",
       "4203        Paper  White Dual Perf Computer Printout Paper, 2700 ...  122.970   \n",
       "4798        Paper  White Dual Perf Computer Printout Paper, 2700 ...   32.792   \n",
       "4999        Paper  White Dual Perf Computer Printout Paper, 2700 ...  368.910   \n",
       "7110        Paper                                         Xerox 1888  221.920   \n",
       "7702        Paper  White Dual Perf Computer Printout Paper, 2700 ...  122.970   \n",
       "7875        Paper  White Dual Perf Computer Printout Paper, 2700 ...  163.960   \n",
       "8242        Paper                                         Xerox 1888  277.400   \n",
       "8453        Paper                                         Xerox 1888  177.536   \n",
       "9604        Paper                                         Xerox 1888  166.440   \n",
       "\n",
       "      Quantity  Discount    Profit       State  \n",
       "1604       3.0       0.0   79.8912        Utah  \n",
       "1878       5.0       0.2   77.6720     Arizona  \n",
       "2251       3.0       0.2   35.6613       Texas  \n",
       "4203       3.0       0.0   60.2553     Georgia  \n",
       "4798       1.0       0.2   11.8871    Colorado  \n",
       "4999       9.0       0.0  180.7659    Michigan  \n",
       "7110       4.0       0.0  106.5216    New York  \n",
       "7702       3.0       0.0   60.2553  California  \n",
       "7875       5.0       0.2   59.4355       Texas  \n",
       "8242       5.0       0.0  133.1520    Maryland  \n",
       "8453       4.0       0.2   62.1376   Tennessee  \n",
       "9604       3.0       0.0   79.8912  California  "
      ]
     },
     "execution_count": 184,
     "metadata": {},
     "output_type": "execute_result"
    }
   ],
   "source": [
    "# let's take a peek at one of them\n",
    "superstore.loc[superstore['Product ID'] == 'OFF-PA-10000357']\n",
    "# notice that this single Product ID goes by the name 'Xerox 1888' and `White Dual Perf Computer Printout Paper, 2700...'\n",
    "# is this two products, or two names for the same product?\n",
    "# this appears more than once - would want to check if there's any patterns in which products have this issue"
   ]
  },
  {
   "cell_type": "markdown",
   "metadata": {},
   "source": [
    "#### Relationships between `Product ID`, `Sub-Category`, and `Category`\n",
    "\n",
    "We would assume there is a one-to-many relationship down the hierarchy (Category --> Subcategory --> Product ID) - is that the case?"
   ]
  },
  {
   "cell_type": "code",
   "execution_count": 185,
   "metadata": {},
   "outputs": [
    {
     "data": {
      "text/plain": [
       "Product ID       Sub-Category\n",
       "FUR-BO-10000112  Bookcases       1\n",
       "FUR-BO-10000330  Bookcases       3\n",
       "FUR-BO-10000362  Bookcases       5\n",
       "FUR-BO-10000468  Bookcases       6\n",
       "FUR-BO-10000711  Bookcases       2\n",
       "                                ..\n",
       "TEC-PH-10004912  Phones          3\n",
       "TEC-PH-10004922  Phones          5\n",
       "TEC-PH-10004924  Phones          3\n",
       "TEC-PH-10004959  Phones          2\n",
       "TEC-PH-10004977  Phones          9\n",
       "Length: 1862, dtype: int64"
      ]
     },
     "execution_count": 185,
     "metadata": {},
     "output_type": "execute_result"
    }
   ],
   "source": [
    "# remember that the values here are number of rows (not number of combinations), so we can't tell yet whether this is OK\n",
    "product_subcat_combos = superstore.groupby(['Product ID', 'Sub-Category']).size()\n",
    "product_subcat_combos"
   ]
  },
  {
   "cell_type": "code",
   "execution_count": 186,
   "metadata": {},
   "outputs": [
    {
     "data": {
      "text/plain": [
       "1"
      ]
     },
     "execution_count": 186,
     "metadata": {},
     "output_type": "execute_result"
    }
   ],
   "source": [
    "# every Product ID is associated to a Subcategory (check)\n",
    "product_subcat_combos.groupby('Product ID').size().max()"
   ]
  },
  {
   "cell_type": "code",
   "execution_count": 187,
   "metadata": {},
   "outputs": [
    {
     "data": {
      "text/plain": [
       "1"
      ]
     },
     "execution_count": 187,
     "metadata": {},
     "output_type": "execute_result"
    }
   ],
   "source": [
    "subcat_cat_combos = superstore.groupby(['Sub-Category', 'Category']).size()\n",
    "subcat_cat_combos.groupby('Sub-Category').size().max()\n",
    "# same here - can confirm 1:many relationship"
   ]
  },
  {
   "cell_type": "code",
   "execution_count": 188,
   "metadata": {},
   "outputs": [
    {
     "data": {
      "text/plain": [
       "Category\n",
       "Furniture          4\n",
       "Office Supplies    9\n",
       "Technology         4\n",
       "dtype: int64"
      ]
     },
     "execution_count": 188,
     "metadata": {},
     "output_type": "execute_result"
    }
   ],
   "source": [
    "# this shows the number of subcategories under each category (makes sense)\n",
    "subcat_cat_combos.groupby('Category').size()"
   ]
  },
  {
   "cell_type": "code",
   "execution_count": 189,
   "metadata": {},
   "outputs": [
    {
     "data": {
      "text/plain": [
       "Sub-Category\n",
       "Accessories    144\n",
       "Appliances      98\n",
       "Art            163\n",
       "Binders        210\n",
       "Bookcases       49\n",
       "Chairs          87\n",
       "Copiers         13\n",
       "Envelopes       54\n",
       "Fasteners       43\n",
       "Furnishings    182\n",
       "Labels          70\n",
       "Machines        63\n",
       "Paper          276\n",
       "Phones         184\n",
       "Storage        131\n",
       "Supplies        38\n",
       "Tables          57\n",
       "dtype: int64"
      ]
     },
     "execution_count": 189,
     "metadata": {},
     "output_type": "execute_result"
    }
   ],
   "source": [
    "# this shows the number of products under each subcategory (also makes sense)\n",
    "product_subcat_combos.groupby('Sub-Category').size()"
   ]
  },
  {
   "cell_type": "markdown",
   "metadata": {},
   "source": [
    "### 6. Answering business questions"
   ]
  },
  {
   "cell_type": "markdown",
   "metadata": {},
   "source": [
    "#### How have Superstore's sales been over time (past month, past year, etc.)? "
   ]
  },
  {
   "cell_type": "code",
   "execution_count": 192,
   "metadata": {},
   "outputs": [
    {
     "data": {
      "text/plain": [
       "<matplotlib.axes._subplots.AxesSubplot at 0x23607510d88>"
      ]
     },
     "execution_count": 192,
     "metadata": {},
     "output_type": "execute_result"
    },
    {
     "data": {
      "image/png": "[encoded data removed]",
      "text/plain": [
       "<Figure size 432x288 with 1 Axes>"
      ]
     },
     "metadata": {
      "needs_background": "light"
     },
     "output_type": "display_data"
    }
   ],
   "source": [
    "# first plot (sales by order date): this isn't terribly helpful given that we're looking by day (which fluctuates)\n",
    "superstore.groupby('Order Date')['Sales'].sum().plot()"
   ]
  },
  {
   "cell_type": "code",
   "execution_count": 194,
   "metadata": {},
   "outputs": [
    {
     "data": {
      "text/plain": [
       "0    2013-01\n",
       "1    2013-01\n",
       "2    2013-01\n",
       "3    2013-01\n",
       "4    2013-01\n",
       "Name: Order Date Month of Year, dtype: period[M]"
      ]
     },
     "execution_count": 194,
     "metadata": {},
     "output_type": "execute_result"
    }
   ],
   "source": [
    "# let's plot by month of year instead\n",
    "superstore['Order Date Month of Year'] = superstore['Order Date'].dt.to_period('M')\n",
    "superstore['Order Date Month of Year'].head()"
   ]
  },
  {
   "cell_type": "code",
   "execution_count": 195,
   "metadata": {},
   "outputs": [
    {
     "data": {
      "text/plain": [
       "<matplotlib.axes._subplots.AxesSubplot at 0x23607598448>"
      ]
     },
     "execution_count": 195,
     "metadata": {},
     "output_type": "execute_result"
    },
    {
     "data": {
      "image/png": "[encoded data removed]",
      "text/plain": [
       "<Figure size 432x288 with 1 Axes>"
      ]
     },
     "metadata": {
      "needs_background": "light"
     },
     "output_type": "display_data"
    }
   ],
   "source": [
    "# this plot is much more helpful\n",
    "# some interesting observations:\n",
    "# - low points each year in February and one of the mid-fall months\n",
    "# - big spikes in March and November/December\n",
    "superstore.groupby('Order Date Month of Year')['Sales'].sum().plot()"
   ]
  },
  {
   "cell_type": "markdown",
   "metadata": {},
   "source": [
    "#### Which categories and subcategories are performing the best/worst?"
   ]
  },
  {
   "cell_type": "code",
   "execution_count": 206,
   "metadata": {},
   "outputs": [],
   "source": [
    "# first, we need to define profit margins\n",
    "superstore['Margin'] = superstore['Profit'] / superstore['Sales']"
   ]
  },
  {
   "cell_type": "code",
   "execution_count": 207,
   "metadata": {},
   "outputs": [
    {
     "data": {
      "text/plain": [
       "<matplotlib.axes._subplots.AxesSubplot at 0x23609b663c8>"
      ]
     },
     "execution_count": 207,
     "metadata": {},
     "output_type": "execute_result"
    },
    {
     "data": {
      "image/png": "[encoded data removed]",
      "text/plain": [
       "<Figure size 432x288 with 1 Axes>"
      ]
     },
     "metadata": {
      "needs_background": "light"
     },
     "output_type": "display_data"
    }
   ],
   "source": [
    "superstore['Margin'].hist(bins=20)\n",
    "# there are some really unprofitable records.. but most are profitable (good!)"
   ]
  },
  {
   "cell_type": "code",
   "execution_count": 215,
   "metadata": {},
   "outputs": [
    {
     "data": {
      "text/plain": [
       "0       False\n",
       "1       False\n",
       "2        True\n",
       "3        True\n",
       "4       False\n",
       "        ...  \n",
       "9989    False\n",
       "9990    False\n",
       "9991    False\n",
       "9992    False\n",
       "9993     True\n",
       "Name: Margin, Length: 9994, dtype: bool"
      ]
     },
     "execution_count": 215,
     "metadata": {},
     "output_type": "execute_result"
    }
   ],
   "source": [
    "superstore['Margin'] <= 0"
   ]
  },
  {
   "cell_type": "code",
   "execution_count": 221,
   "metadata": {},
   "outputs": [
    {
     "data": {
      "text/plain": [
       "<matplotlib.axes._subplots.AxesSubplot at 0x23609d08f88>"
      ]
     },
     "execution_count": 221,
     "metadata": {},
     "output_type": "execute_result"
    },
    {
     "data": {
      "image/png": "[encoded data removed]",
      "text/plain": [
       "<Figure size 432x288 with 1 Axes>"
      ]
     },
     "metadata": {
      "needs_background": "light"
     },
     "output_type": "display_data"
    }
   ],
   "source": [
    "# first let's check the spread of margin across categories\n",
    "# looks like Office Supplies does the best, but they all have some REALLY profitable outliers\n",
    "superstore.boxplot(column='Margin', by='Category')"
   ]
  },
  {
   "cell_type": "code",
   "execution_count": 234,
   "metadata": {},
   "outputs": [
    {
     "data": {
      "text/plain": [
       "<matplotlib.axes._subplots.AxesSubplot at 0x23632b21f88>"
      ]
     },
     "execution_count": 234,
     "metadata": {},
     "output_type": "execute_result"
    },
    {
     "data": {
      "image/png": "[encoded data removed]",
      "text/plain": [
       "<Figure size 1440x720 with 1 Axes>"
      ]
     },
     "metadata": {
      "needs_background": "light"
     },
     "output_type": "display_data"
    }
   ],
   "source": [
    "# now that we dig into Sub-Category, we can see that the problems are limited to just some of them\n",
    "# the most egregious are Appliances, Bookcases, and Furnishings\n",
    "# but Binders also have a big spread into unprofitable territory\n",
    "superstore.boxplot(column='Margin', by='Sub-Category', figsize=(20,10))"
   ]
  },
  {
   "cell_type": "code",
   "execution_count": 238,
   "metadata": {},
   "outputs": [
    {
     "data": {
      "text/plain": [
       "Category         Sub-Category\n",
       "Technology       Phones          330007.0540\n",
       "Furniture        Chairs          328449.1030\n",
       "Office Supplies  Storage         223843.6080\n",
       "Furniture        Tables          206965.5320\n",
       "Office Supplies  Binders         203412.7330\n",
       "Technology       Machines        189238.6310\n",
       "                 Accessories     167380.3180\n",
       "                 Copiers         149528.0300\n",
       "Furniture        Bookcases       114879.9963\n",
       "Office Supplies  Appliances      107532.1610\n",
       "Furniture        Furnishings      91705.1640\n",
       "Office Supplies  Paper            78479.2060\n",
       "                 Supplies         46673.5380\n",
       "                 Art              27118.7920\n",
       "                 Envelopes        16476.4020\n",
       "                 Labels           12486.3120\n",
       "                 Fasteners         3024.2800\n",
       "Name: Sales, dtype: float64"
      ]
     },
     "execution_count": 238,
     "metadata": {},
     "output_type": "execute_result"
    }
   ],
   "source": [
    "superstore.groupby(['Category', 'Sub-Category'])['Sales'].sum().sort_values(ascending=False)\n",
    "# interesting - Office Supplies doing the worst in Sales (last 6 subcategories)\n",
    "# however, those subcategories are ALSO the most consistently profitable"
   ]
  },
  {
   "cell_type": "markdown",
   "metadata": {},
   "source": [
    "#### Which geographies have the best profit margins?"
   ]
  },
  {
   "cell_type": "code",
   "execution_count": 229,
   "metadata": {},
   "outputs": [
    {
     "data": {
      "text/plain": [
       "<matplotlib.axes._subplots.AxesSubplot at 0x23672dc97c8>"
      ]
     },
     "execution_count": 229,
     "metadata": {},
     "output_type": "execute_result"
    },
    {
     "data": {
      "image/png": "[encoded data removed]",
      "text/plain": [
       "<Figure size 1440x720 with 1 Axes>"
      ]
     },
     "metadata": {
      "needs_background": "light"
     },
     "output_type": "display_data"
    }
   ],
   "source": [
    "superstore.boxplot(column='Margin', by='State', figsize=(20,10), rot=90)\n",
    "# AZ, CO, IL, and TX have some of the worst margins (but they're not alone)"
   ]
  },
  {
   "cell_type": "code",
   "execution_count": 240,
   "metadata": {},
   "outputs": [
    {
     "data": {
      "text/html": [
       "<div>\n",
       "<style scoped>\n",
       "    .dataframe tbody tr th:only-of-type {\n",
       "        vertical-align: middle;\n",
       "    }\n",
       "\n",
       "    .dataframe tbody tr th {\n",
       "        vertical-align: top;\n",
       "    }\n",
       "\n",
       "    .dataframe thead th {\n",
       "        text-align: right;\n",
       "    }\n",
       "</style>\n",
       "<table border=\"1\" class=\"dataframe\">\n",
       "  <thead>\n",
       "    <tr style=\"text-align: right;\">\n",
       "      <th></th>\n",
       "      <th>count</th>\n",
       "      <th>mean</th>\n",
       "      <th>std</th>\n",
       "      <th>min</th>\n",
       "      <th>25%</th>\n",
       "      <th>50%</th>\n",
       "      <th>75%</th>\n",
       "      <th>max</th>\n",
       "    </tr>\n",
       "    <tr>\n",
       "      <th>State</th>\n",
       "      <th></th>\n",
       "      <th></th>\n",
       "      <th></th>\n",
       "      <th></th>\n",
       "      <th></th>\n",
       "      <th></th>\n",
       "      <th></th>\n",
       "      <th></th>\n",
       "    </tr>\n",
       "  </thead>\n",
       "  <tbody>\n",
       "    <tr>\n",
       "      <th>District of Columbia</th>\n",
       "      <td>10.0</td>\n",
       "      <td>0.422000</td>\n",
       "      <td>0.069570</td>\n",
       "      <td>0.250000</td>\n",
       "      <td>0.397500</td>\n",
       "      <td>0.440000</td>\n",
       "      <td>0.467500</td>\n",
       "      <td>0.4800</td>\n",
       "    </tr>\n",
       "    <tr>\n",
       "      <th>Iowa</th>\n",
       "      <td>30.0</td>\n",
       "      <td>0.399333</td>\n",
       "      <td>0.107669</td>\n",
       "      <td>0.090000</td>\n",
       "      <td>0.292500</td>\n",
       "      <td>0.455000</td>\n",
       "      <td>0.480000</td>\n",
       "      <td>0.5000</td>\n",
       "    </tr>\n",
       "    <tr>\n",
       "      <th>Arkansas</th>\n",
       "      <td>60.0</td>\n",
       "      <td>0.379500</td>\n",
       "      <td>0.114898</td>\n",
       "      <td>0.040000</td>\n",
       "      <td>0.297500</td>\n",
       "      <td>0.435000</td>\n",
       "      <td>0.470000</td>\n",
       "      <td>0.5000</td>\n",
       "    </tr>\n",
       "    <tr>\n",
       "      <th>South Dakota</th>\n",
       "      <td>12.0</td>\n",
       "      <td>0.377500</td>\n",
       "      <td>0.113708</td>\n",
       "      <td>0.150000</td>\n",
       "      <td>0.277500</td>\n",
       "      <td>0.425000</td>\n",
       "      <td>0.470000</td>\n",
       "      <td>0.5000</td>\n",
       "    </tr>\n",
       "    <tr>\n",
       "      <th>Maine</th>\n",
       "      <td>8.0</td>\n",
       "      <td>0.363750</td>\n",
       "      <td>0.100561</td>\n",
       "      <td>0.220000</td>\n",
       "      <td>0.292500</td>\n",
       "      <td>0.360000</td>\n",
       "      <td>0.455000</td>\n",
       "      <td>0.4800</td>\n",
       "    </tr>\n",
       "    <tr>\n",
       "      <th>Minnesota</th>\n",
       "      <td>89.0</td>\n",
       "      <td>0.357978</td>\n",
       "      <td>0.134850</td>\n",
       "      <td>0.000000</td>\n",
       "      <td>0.270000</td>\n",
       "      <td>0.400000</td>\n",
       "      <td>0.480000</td>\n",
       "      <td>0.5000</td>\n",
       "    </tr>\n",
       "    <tr>\n",
       "      <th>North Dakota</th>\n",
       "      <td>7.0</td>\n",
       "      <td>0.351429</td>\n",
       "      <td>0.096683</td>\n",
       "      <td>0.230000</td>\n",
       "      <td>0.295000</td>\n",
       "      <td>0.330000</td>\n",
       "      <td>0.410000</td>\n",
       "      <td>0.4900</td>\n",
       "    </tr>\n",
       "    <tr>\n",
       "      <th>Delaware</th>\n",
       "      <td>96.0</td>\n",
       "      <td>0.350074</td>\n",
       "      <td>0.142344</td>\n",
       "      <td>-0.185714</td>\n",
       "      <td>0.267500</td>\n",
       "      <td>0.365000</td>\n",
       "      <td>0.470000</td>\n",
       "      <td>0.5000</td>\n",
       "    </tr>\n",
       "    <tr>\n",
       "      <th>Indiana</th>\n",
       "      <td>149.0</td>\n",
       "      <td>0.347852</td>\n",
       "      <td>0.137760</td>\n",
       "      <td>0.000000</td>\n",
       "      <td>0.260000</td>\n",
       "      <td>0.370000</td>\n",
       "      <td>0.470000</td>\n",
       "      <td>0.5000</td>\n",
       "    </tr>\n",
       "    <tr>\n",
       "      <th>Missouri</th>\n",
       "      <td>66.0</td>\n",
       "      <td>0.346061</td>\n",
       "      <td>0.146391</td>\n",
       "      <td>0.020000</td>\n",
       "      <td>0.250000</td>\n",
       "      <td>0.390000</td>\n",
       "      <td>0.470000</td>\n",
       "      <td>0.4900</td>\n",
       "    </tr>\n",
       "    <tr>\n",
       "      <th>Mississippi</th>\n",
       "      <td>53.0</td>\n",
       "      <td>0.345660</td>\n",
       "      <td>0.146136</td>\n",
       "      <td>0.000000</td>\n",
       "      <td>0.260000</td>\n",
       "      <td>0.410000</td>\n",
       "      <td>0.470000</td>\n",
       "      <td>0.5000</td>\n",
       "    </tr>\n",
       "    <tr>\n",
       "      <th>Georgia</th>\n",
       "      <td>184.0</td>\n",
       "      <td>0.345217</td>\n",
       "      <td>0.133507</td>\n",
       "      <td>0.010000</td>\n",
       "      <td>0.260000</td>\n",
       "      <td>0.360000</td>\n",
       "      <td>0.470000</td>\n",
       "      <td>0.5000</td>\n",
       "    </tr>\n",
       "    <tr>\n",
       "      <th>Vermont</th>\n",
       "      <td>11.0</td>\n",
       "      <td>0.344545</td>\n",
       "      <td>0.097608</td>\n",
       "      <td>0.230000</td>\n",
       "      <td>0.260000</td>\n",
       "      <td>0.330000</td>\n",
       "      <td>0.450000</td>\n",
       "      <td>0.4700</td>\n",
       "    </tr>\n",
       "    <tr>\n",
       "      <th>Maryland</th>\n",
       "      <td>105.0</td>\n",
       "      <td>0.343755</td>\n",
       "      <td>0.134891</td>\n",
       "      <td>-0.100000</td>\n",
       "      <td>0.260000</td>\n",
       "      <td>0.340000</td>\n",
       "      <td>0.460000</td>\n",
       "      <td>0.5000</td>\n",
       "    </tr>\n",
       "    <tr>\n",
       "      <th>New Hampshire</th>\n",
       "      <td>27.0</td>\n",
       "      <td>0.342593</td>\n",
       "      <td>0.146145</td>\n",
       "      <td>-0.100000</td>\n",
       "      <td>0.270000</td>\n",
       "      <td>0.360000</td>\n",
       "      <td>0.465000</td>\n",
       "      <td>0.5000</td>\n",
       "    </tr>\n",
       "    <tr>\n",
       "      <th>West Virginia</th>\n",
       "      <td>4.0</td>\n",
       "      <td>0.338929</td>\n",
       "      <td>0.302143</td>\n",
       "      <td>-0.114286</td>\n",
       "      <td>0.338929</td>\n",
       "      <td>0.490000</td>\n",
       "      <td>0.490000</td>\n",
       "      <td>0.4900</td>\n",
       "    </tr>\n",
       "    <tr>\n",
       "      <th>Connecticut</th>\n",
       "      <td>82.0</td>\n",
       "      <td>0.336429</td>\n",
       "      <td>0.144359</td>\n",
       "      <td>-0.085714</td>\n",
       "      <td>0.260000</td>\n",
       "      <td>0.335000</td>\n",
       "      <td>0.470000</td>\n",
       "      <td>0.5000</td>\n",
       "    </tr>\n",
       "    <tr>\n",
       "      <th>New Jersey</th>\n",
       "      <td>130.0</td>\n",
       "      <td>0.335286</td>\n",
       "      <td>0.146365</td>\n",
       "      <td>-0.128571</td>\n",
       "      <td>0.260000</td>\n",
       "      <td>0.330000</td>\n",
       "      <td>0.470000</td>\n",
       "      <td>0.5000</td>\n",
       "    </tr>\n",
       "    <tr>\n",
       "      <th>Louisiana</th>\n",
       "      <td>42.0</td>\n",
       "      <td>0.335238</td>\n",
       "      <td>0.143327</td>\n",
       "      <td>0.020000</td>\n",
       "      <td>0.252500</td>\n",
       "      <td>0.350000</td>\n",
       "      <td>0.477500</td>\n",
       "      <td>0.5000</td>\n",
       "    </tr>\n",
       "    <tr>\n",
       "      <th>Kansas</th>\n",
       "      <td>24.0</td>\n",
       "      <td>0.333750</td>\n",
       "      <td>0.131076</td>\n",
       "      <td>0.020000</td>\n",
       "      <td>0.275000</td>\n",
       "      <td>0.325000</td>\n",
       "      <td>0.452500</td>\n",
       "      <td>0.5000</td>\n",
       "    </tr>\n",
       "    <tr>\n",
       "      <th>Michigan</th>\n",
       "      <td>255.0</td>\n",
       "      <td>0.333390</td>\n",
       "      <td>0.132114</td>\n",
       "      <td>0.000000</td>\n",
       "      <td>0.257778</td>\n",
       "      <td>0.310000</td>\n",
       "      <td>0.460000</td>\n",
       "      <td>0.5000</td>\n",
       "    </tr>\n",
       "    <tr>\n",
       "      <th>Kentucky</th>\n",
       "      <td>139.0</td>\n",
       "      <td>0.333094</td>\n",
       "      <td>0.132402</td>\n",
       "      <td>0.000000</td>\n",
       "      <td>0.260000</td>\n",
       "      <td>0.300000</td>\n",
       "      <td>0.460000</td>\n",
       "      <td>0.5000</td>\n",
       "    </tr>\n",
       "    <tr>\n",
       "      <th>Massachusetts</th>\n",
       "      <td>135.0</td>\n",
       "      <td>0.332751</td>\n",
       "      <td>0.158675</td>\n",
       "      <td>-0.200000</td>\n",
       "      <td>0.260000</td>\n",
       "      <td>0.340000</td>\n",
       "      <td>0.470000</td>\n",
       "      <td>0.5000</td>\n",
       "    </tr>\n",
       "    <tr>\n",
       "      <th>Virginia</th>\n",
       "      <td>224.0</td>\n",
       "      <td>0.332009</td>\n",
       "      <td>0.132695</td>\n",
       "      <td>0.000000</td>\n",
       "      <td>0.260000</td>\n",
       "      <td>0.300000</td>\n",
       "      <td>0.470000</td>\n",
       "      <td>0.5000</td>\n",
       "    </tr>\n",
       "    <tr>\n",
       "      <th>Alabama</th>\n",
       "      <td>61.0</td>\n",
       "      <td>0.331475</td>\n",
       "      <td>0.142464</td>\n",
       "      <td>0.000000</td>\n",
       "      <td>0.260000</td>\n",
       "      <td>0.310000</td>\n",
       "      <td>0.480000</td>\n",
       "      <td>0.5000</td>\n",
       "    </tr>\n",
       "    <tr>\n",
       "      <th>Oklahoma</th>\n",
       "      <td>66.0</td>\n",
       "      <td>0.331061</td>\n",
       "      <td>0.138521</td>\n",
       "      <td>0.010000</td>\n",
       "      <td>0.260000</td>\n",
       "      <td>0.290000</td>\n",
       "      <td>0.467500</td>\n",
       "      <td>0.5000</td>\n",
       "    </tr>\n",
       "    <tr>\n",
       "      <th>Nebraska</th>\n",
       "      <td>38.0</td>\n",
       "      <td>0.328421</td>\n",
       "      <td>0.150109</td>\n",
       "      <td>0.010000</td>\n",
       "      <td>0.270000</td>\n",
       "      <td>0.305000</td>\n",
       "      <td>0.467500</td>\n",
       "      <td>0.5000</td>\n",
       "    </tr>\n",
       "    <tr>\n",
       "      <th>Wisconsin</th>\n",
       "      <td>110.0</td>\n",
       "      <td>0.317909</td>\n",
       "      <td>0.128085</td>\n",
       "      <td>0.020000</td>\n",
       "      <td>0.260000</td>\n",
       "      <td>0.290000</td>\n",
       "      <td>0.460000</td>\n",
       "      <td>0.5000</td>\n",
       "    </tr>\n",
       "    <tr>\n",
       "      <th>South Carolina</th>\n",
       "      <td>42.0</td>\n",
       "      <td>0.317619</td>\n",
       "      <td>0.168419</td>\n",
       "      <td>0.020000</td>\n",
       "      <td>0.187500</td>\n",
       "      <td>0.325000</td>\n",
       "      <td>0.470000</td>\n",
       "      <td>0.5000</td>\n",
       "    </tr>\n",
       "    <tr>\n",
       "      <th>Montana</th>\n",
       "      <td>15.0</td>\n",
       "      <td>0.312833</td>\n",
       "      <td>0.138564</td>\n",
       "      <td>0.050000</td>\n",
       "      <td>0.265000</td>\n",
       "      <td>0.325000</td>\n",
       "      <td>0.435000</td>\n",
       "      <td>0.4800</td>\n",
       "    </tr>\n",
       "    <tr>\n",
       "      <th>Rhode Island</th>\n",
       "      <td>56.0</td>\n",
       "      <td>0.312296</td>\n",
       "      <td>0.180908</td>\n",
       "      <td>-0.200000</td>\n",
       "      <td>0.247500</td>\n",
       "      <td>0.350000</td>\n",
       "      <td>0.462500</td>\n",
       "      <td>0.5000</td>\n",
       "    </tr>\n",
       "    <tr>\n",
       "      <th>Utah</th>\n",
       "      <td>53.0</td>\n",
       "      <td>0.309340</td>\n",
       "      <td>0.139473</td>\n",
       "      <td>0.040000</td>\n",
       "      <td>0.250000</td>\n",
       "      <td>0.325000</td>\n",
       "      <td>0.450000</td>\n",
       "      <td>0.4900</td>\n",
       "    </tr>\n",
       "    <tr>\n",
       "      <th>Nevada</th>\n",
       "      <td>39.0</td>\n",
       "      <td>0.304295</td>\n",
       "      <td>0.153194</td>\n",
       "      <td>-0.162500</td>\n",
       "      <td>0.260000</td>\n",
       "      <td>0.337500</td>\n",
       "      <td>0.395000</td>\n",
       "      <td>0.5000</td>\n",
       "    </tr>\n",
       "    <tr>\n",
       "      <th>New York</th>\n",
       "      <td>1128.0</td>\n",
       "      <td>0.298366</td>\n",
       "      <td>0.171810</td>\n",
       "      <td>-0.566667</td>\n",
       "      <td>0.250000</td>\n",
       "      <td>0.325000</td>\n",
       "      <td>0.450000</td>\n",
       "      <td>0.5000</td>\n",
       "    </tr>\n",
       "    <tr>\n",
       "      <th>New Mexico</th>\n",
       "      <td>37.0</td>\n",
       "      <td>0.297230</td>\n",
       "      <td>0.163645</td>\n",
       "      <td>-0.237500</td>\n",
       "      <td>0.210000</td>\n",
       "      <td>0.325000</td>\n",
       "      <td>0.440000</td>\n",
       "      <td>0.4800</td>\n",
       "    </tr>\n",
       "    <tr>\n",
       "      <th>California</th>\n",
       "      <td>2001.0</td>\n",
       "      <td>0.278334</td>\n",
       "      <td>0.169908</td>\n",
       "      <td>-0.250000</td>\n",
       "      <td>0.125000</td>\n",
       "      <td>0.312500</td>\n",
       "      <td>0.430000</td>\n",
       "      <td>0.5000</td>\n",
       "    </tr>\n",
       "    <tr>\n",
       "      <th>Idaho</th>\n",
       "      <td>21.0</td>\n",
       "      <td>0.277500</td>\n",
       "      <td>0.160898</td>\n",
       "      <td>0.012500</td>\n",
       "      <td>0.075000</td>\n",
       "      <td>0.325000</td>\n",
       "      <td>0.420000</td>\n",
       "      <td>0.4900</td>\n",
       "    </tr>\n",
       "    <tr>\n",
       "      <th>Washington</th>\n",
       "      <td>506.0</td>\n",
       "      <td>0.276354</td>\n",
       "      <td>0.161159</td>\n",
       "      <td>-0.237500</td>\n",
       "      <td>0.150000</td>\n",
       "      <td>0.312500</td>\n",
       "      <td>0.390000</td>\n",
       "      <td>0.5000</td>\n",
       "    </tr>\n",
       "    <tr>\n",
       "      <th>Wyoming</th>\n",
       "      <td>1.0</td>\n",
       "      <td>0.062500</td>\n",
       "      <td>NaN</td>\n",
       "      <td>0.062500</td>\n",
       "      <td>0.062500</td>\n",
       "      <td>0.062500</td>\n",
       "      <td>0.062500</td>\n",
       "      <td>0.0625</td>\n",
       "    </tr>\n",
       "    <tr>\n",
       "      <th>North Carolina</th>\n",
       "      <td>249.0</td>\n",
       "      <td>0.007751</td>\n",
       "      <td>0.360610</td>\n",
       "      <td>-0.833333</td>\n",
       "      <td>-0.112500</td>\n",
       "      <td>0.112500</td>\n",
       "      <td>0.300000</td>\n",
       "      <td>0.3750</td>\n",
       "    </tr>\n",
       "    <tr>\n",
       "      <th>Tennessee</th>\n",
       "      <td>183.0</td>\n",
       "      <td>-0.016794</td>\n",
       "      <td>0.370794</td>\n",
       "      <td>-0.833333</td>\n",
       "      <td>-0.212500</td>\n",
       "      <td>0.100000</td>\n",
       "      <td>0.300000</td>\n",
       "      <td>0.3750</td>\n",
       "    </tr>\n",
       "    <tr>\n",
       "      <th>Florida</th>\n",
       "      <td>383.0</td>\n",
       "      <td>-0.017953</td>\n",
       "      <td>0.377739</td>\n",
       "      <td>-0.833333</td>\n",
       "      <td>-0.150000</td>\n",
       "      <td>0.100000</td>\n",
       "      <td>0.287500</td>\n",
       "      <td>0.3750</td>\n",
       "    </tr>\n",
       "    <tr>\n",
       "      <th>Oregon</th>\n",
       "      <td>124.0</td>\n",
       "      <td>-0.050094</td>\n",
       "      <td>0.459558</td>\n",
       "      <td>-1.766667</td>\n",
       "      <td>-0.203125</td>\n",
       "      <td>0.100000</td>\n",
       "      <td>0.303125</td>\n",
       "      <td>0.3750</td>\n",
       "    </tr>\n",
       "    <tr>\n",
       "      <th>Arizona</th>\n",
       "      <td>224.0</td>\n",
       "      <td>-0.066399</td>\n",
       "      <td>0.430843</td>\n",
       "      <td>-1.766667</td>\n",
       "      <td>-0.228125</td>\n",
       "      <td>0.087500</td>\n",
       "      <td>0.275000</td>\n",
       "      <td>0.3750</td>\n",
       "    </tr>\n",
       "    <tr>\n",
       "      <th>Ohio</th>\n",
       "      <td>469.0</td>\n",
       "      <td>-0.073808</td>\n",
       "      <td>0.397804</td>\n",
       "      <td>-1.466667</td>\n",
       "      <td>-0.250000</td>\n",
       "      <td>0.075000</td>\n",
       "      <td>0.262500</td>\n",
       "      <td>0.3750</td>\n",
       "    </tr>\n",
       "    <tr>\n",
       "      <th>Pennsylvania</th>\n",
       "      <td>587.0</td>\n",
       "      <td>-0.086013</td>\n",
       "      <td>0.391036</td>\n",
       "      <td>-1.433333</td>\n",
       "      <td>-0.237500</td>\n",
       "      <td>0.037500</td>\n",
       "      <td>0.237500</td>\n",
       "      <td>0.3750</td>\n",
       "    </tr>\n",
       "    <tr>\n",
       "      <th>Colorado</th>\n",
       "      <td>182.0</td>\n",
       "      <td>-0.123755</td>\n",
       "      <td>0.527539</td>\n",
       "      <td>-2.100000</td>\n",
       "      <td>-0.225000</td>\n",
       "      <td>0.087500</td>\n",
       "      <td>0.221875</td>\n",
       "      <td>0.3750</td>\n",
       "    </tr>\n",
       "    <tr>\n",
       "      <th>Texas</th>\n",
       "      <td>985.0</td>\n",
       "      <td>-0.342011</td>\n",
       "      <td>0.827601</td>\n",
       "      <td>-2.750000</td>\n",
       "      <td>-0.575000</td>\n",
       "      <td>0.012500</td>\n",
       "      <td>0.300000</td>\n",
       "      <td>0.3750</td>\n",
       "    </tr>\n",
       "    <tr>\n",
       "      <th>Illinois</th>\n",
       "      <td>492.0</td>\n",
       "      <td>-0.391677</td>\n",
       "      <td>0.812955</td>\n",
       "      <td>-2.750000</td>\n",
       "      <td>-0.740000</td>\n",
       "      <td>-0.014286</td>\n",
       "      <td>0.200000</td>\n",
       "      <td>0.3750</td>\n",
       "    </tr>\n",
       "  </tbody>\n",
       "</table>\n",
       "</div>"
      ],
      "text/plain": [
       "                       count      mean       std       min       25%  \\\n",
       "State                                                                  \n",
       "District of Columbia    10.0  0.422000  0.069570  0.250000  0.397500   \n",
       "Iowa                    30.0  0.399333  0.107669  0.090000  0.292500   \n",
       "Arkansas                60.0  0.379500  0.114898  0.040000  0.297500   \n",
       "South Dakota            12.0  0.377500  0.113708  0.150000  0.277500   \n",
       "Maine                    8.0  0.363750  0.100561  0.220000  0.292500   \n",
       "Minnesota               89.0  0.357978  0.134850  0.000000  0.270000   \n",
       "North Dakota             7.0  0.351429  0.096683  0.230000  0.295000   \n",
       "Delaware                96.0  0.350074  0.142344 -0.185714  0.267500   \n",
       "Indiana                149.0  0.347852  0.137760  0.000000  0.260000   \n",
       "Missouri                66.0  0.346061  0.146391  0.020000  0.250000   \n",
       "Mississippi             53.0  0.345660  0.146136  0.000000  0.260000   \n",
       "Georgia                184.0  0.345217  0.133507  0.010000  0.260000   \n",
       "Vermont                 11.0  0.344545  0.097608  0.230000  0.260000   \n",
       "Maryland               105.0  0.343755  0.134891 -0.100000  0.260000   \n",
       "New Hampshire           27.0  0.342593  0.146145 -0.100000  0.270000   \n",
       "West Virginia            4.0  0.338929  0.302143 -0.114286  0.338929   \n",
       "Connecticut             82.0  0.336429  0.144359 -0.085714  0.260000   \n",
       "New Jersey             130.0  0.335286  0.146365 -0.128571  0.260000   \n",
       "Louisiana               42.0  0.335238  0.143327  0.020000  0.252500   \n",
       "Kansas                  24.0  0.333750  0.131076  0.020000  0.275000   \n",
       "Michigan               255.0  0.333390  0.132114  0.000000  0.257778   \n",
       "Kentucky               139.0  0.333094  0.132402  0.000000  0.260000   \n",
       "Massachusetts          135.0  0.332751  0.158675 -0.200000  0.260000   \n",
       "Virginia               224.0  0.332009  0.132695  0.000000  0.260000   \n",
       "Alabama                 61.0  0.331475  0.142464  0.000000  0.260000   \n",
       "Oklahoma                66.0  0.331061  0.138521  0.010000  0.260000   \n",
       "Nebraska                38.0  0.328421  0.150109  0.010000  0.270000   \n",
       "Wisconsin              110.0  0.317909  0.128085  0.020000  0.260000   \n",
       "South Carolina          42.0  0.317619  0.168419  0.020000  0.187500   \n",
       "Montana                 15.0  0.312833  0.138564  0.050000  0.265000   \n",
       "Rhode Island            56.0  0.312296  0.180908 -0.200000  0.247500   \n",
       "Utah                    53.0  0.309340  0.139473  0.040000  0.250000   \n",
       "Nevada                  39.0  0.304295  0.153194 -0.162500  0.260000   \n",
       "New York              1128.0  0.298366  0.171810 -0.566667  0.250000   \n",
       "New Mexico              37.0  0.297230  0.163645 -0.237500  0.210000   \n",
       "California            2001.0  0.278334  0.169908 -0.250000  0.125000   \n",
       "Idaho                   21.0  0.277500  0.160898  0.012500  0.075000   \n",
       "Washington             506.0  0.276354  0.161159 -0.237500  0.150000   \n",
       "Wyoming                  1.0  0.062500       NaN  0.062500  0.062500   \n",
       "North Carolina         249.0  0.007751  0.360610 -0.833333 -0.112500   \n",
       "Tennessee              183.0 -0.016794  0.370794 -0.833333 -0.212500   \n",
       "Florida                383.0 -0.017953  0.377739 -0.833333 -0.150000   \n",
       "Oregon                 124.0 -0.050094  0.459558 -1.766667 -0.203125   \n",
       "Arizona                224.0 -0.066399  0.430843 -1.766667 -0.228125   \n",
       "Ohio                   469.0 -0.073808  0.397804 -1.466667 -0.250000   \n",
       "Pennsylvania           587.0 -0.086013  0.391036 -1.433333 -0.237500   \n",
       "Colorado               182.0 -0.123755  0.527539 -2.100000 -0.225000   \n",
       "Texas                  985.0 -0.342011  0.827601 -2.750000 -0.575000   \n",
       "Illinois               492.0 -0.391677  0.812955 -2.750000 -0.740000   \n",
       "\n",
       "                           50%       75%     max  \n",
       "State                                             \n",
       "District of Columbia  0.440000  0.467500  0.4800  \n",
       "Iowa                  0.455000  0.480000  0.5000  \n",
       "Arkansas              0.435000  0.470000  0.5000  \n",
       "South Dakota          0.425000  0.470000  0.5000  \n",
       "Maine                 0.360000  0.455000  0.4800  \n",
       "Minnesota             0.400000  0.480000  0.5000  \n",
       "North Dakota          0.330000  0.410000  0.4900  \n",
       "Delaware              0.365000  0.470000  0.5000  \n",
       "Indiana               0.370000  0.470000  0.5000  \n",
       "Missouri              0.390000  0.470000  0.4900  \n",
       "Mississippi           0.410000  0.470000  0.5000  \n",
       "Georgia               0.360000  0.470000  0.5000  \n",
       "Vermont               0.330000  0.450000  0.4700  \n",
       "Maryland              0.340000  0.460000  0.5000  \n",
       "New Hampshire         0.360000  0.465000  0.5000  \n",
       "West Virginia         0.490000  0.490000  0.4900  \n",
       "Connecticut           0.335000  0.470000  0.5000  \n",
       "New Jersey            0.330000  0.470000  0.5000  \n",
       "Louisiana             0.350000  0.477500  0.5000  \n",
       "Kansas                0.325000  0.452500  0.5000  \n",
       "Michigan              0.310000  0.460000  0.5000  \n",
       "Kentucky              0.300000  0.460000  0.5000  \n",
       "Massachusetts         0.340000  0.470000  0.5000  \n",
       "Virginia              0.300000  0.470000  0.5000  \n",
       "Alabama               0.310000  0.480000  0.5000  \n",
       "Oklahoma              0.290000  0.467500  0.5000  \n",
       "Nebraska              0.305000  0.467500  0.5000  \n",
       "Wisconsin             0.290000  0.460000  0.5000  \n",
       "South Carolina        0.325000  0.470000  0.5000  \n",
       "Montana               0.325000  0.435000  0.4800  \n",
       "Rhode Island          0.350000  0.462500  0.5000  \n",
       "Utah                  0.325000  0.450000  0.4900  \n",
       "Nevada                0.337500  0.395000  0.5000  \n",
       "New York              0.325000  0.450000  0.5000  \n",
       "New Mexico            0.325000  0.440000  0.4800  \n",
       "California            0.312500  0.430000  0.5000  \n",
       "Idaho                 0.325000  0.420000  0.4900  \n",
       "Washington            0.312500  0.390000  0.5000  \n",
       "Wyoming               0.062500  0.062500  0.0625  \n",
       "North Carolina        0.112500  0.300000  0.3750  \n",
       "Tennessee             0.100000  0.300000  0.3750  \n",
       "Florida               0.100000  0.287500  0.3750  \n",
       "Oregon                0.100000  0.303125  0.3750  \n",
       "Arizona               0.087500  0.275000  0.3750  \n",
       "Ohio                  0.075000  0.262500  0.3750  \n",
       "Pennsylvania          0.037500  0.237500  0.3750  \n",
       "Colorado              0.087500  0.221875  0.3750  \n",
       "Texas                 0.012500  0.300000  0.3750  \n",
       "Illinois             -0.014286  0.200000  0.3750  "
      ]
     },
     "execution_count": 240,
     "metadata": {},
     "output_type": "execute_result"
    }
   ],
   "source": [
    "# DC has the highest average margin, followed by Iowa, Arkansas, and South Dakota\n",
    "# some big states are the least profitable (TX, IL, CO, PA, OH), which is concerning\n",
    "superstore.groupby('State')['Margin'].describe().sort_values(by='mean', ascending=False)"
   ]
  }
 ],
 "metadata": {
  "kernel_info": {
   "name": "python3"
  },
  "kernelspec": {
   "display_name": "Python 3",
   "language": "python",
   "name": "python3"
  },
  "language_info": {
   "codemirror_mode": {
    "name": "ipython",
    "version": 3
   },
   "file_extension": ".py",
   "mimetype": "text/x-python",
   "name": "python",
   "nbconvert_exporter": "python",
   "pygments_lexer": "ipython3",
   "version": "3.7.6"
  },
  "nteract": {
   "version": "0.12.2"
  },
  "toc": {
   "base_numbering": 1,
   "nav_menu": {},
   "number_sections": true,
   "sideBar": true,
   "skip_h1_title": false,
   "title_cell": "Table of Contents",
   "title_sidebar": "Contents",
   "toc_cell": false,
   "toc_position": {},
   "toc_section_display": true,
   "toc_window_display": false
  },
  "varInspector": {
   "cols": {
    "lenName": 16,
    "lenType": 16,
    "lenVar": 40
   },
   "kernels_config": {
    "python": {
     "delete_cmd_postfix": "",
     "delete_cmd_prefix": "del ",
     "library": "var_list.py",
     "varRefreshCmd": "print(var_dic_list())"
    },
    "r": {
     "delete_cmd_postfix": ") ",
     "delete_cmd_prefix": "rm(",
     "library": "var_list.r",
     "varRefreshCmd": "cat(var_dic_list()) "
    }
   },
   "types_to_exclude": [
    "module",
    "function",
    "builtin_function_or_method",
    "instance",
    "_Feature"
   ],
   "window_display": false
  }
 },
 "nbformat": 4,
 "nbformat_minor": 4
}
